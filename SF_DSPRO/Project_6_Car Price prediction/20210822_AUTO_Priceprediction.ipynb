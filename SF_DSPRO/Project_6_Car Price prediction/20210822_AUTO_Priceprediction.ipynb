{
 "cells": [
  {
   "cell_type": "code",
   "execution_count": 1,
   "outputs": [],
   "source": [
    "import pandas as pd\n",
    "import numpy as np\n",
    "import re\n",
    "import json\n",
    "import os\n",
    "from datetime import date\n"
   ],
   "metadata": {
    "collapsed": false,
    "pycharm": {
     "name": "#%%\n"
    }
   }
  },
  {
   "cell_type": "code",
   "execution_count": 2,
   "outputs": [],
   "source": [
    "def clean_smb(smb):\n",
    "    ''' the function does remove the symbols\n",
    "    in the string data'''\n",
    "\n",
    "    smb = smb.replace(\"}\",'')\n",
    "    smb = smb.replace(\"{\",'')\n",
    "    smb = smb.replace(\"]\",'')\n",
    "    smb = smb.replace(\"]\",'')\n",
    "    smb = smb.replace('\"','')\n",
    "    smb = smb.strip('[]')\n",
    "    smb = smb.split(',')\n",
    "    return smb"
   ],
   "metadata": {
    "collapsed": false,
    "pycharm": {
     "name": "#%%\n"
    }
   }
  },
  {
   "cell_type": "markdown",
   "source": [
    "# 1. Data collection"
   ],
   "metadata": {
    "collapsed": false
   }
  },
  {
   "cell_type": "code",
   "execution_count": 3,
   "outputs": [],
   "source": [
    "#pd.set_option('display.max_columns', None)\n",
    "#pd.set_option('display.max_rows', None)\n",
    "\n",
    "cols = [\n",
    "    'bodyType', 'brand', 'color','color_hex','complectation_dict',\n",
    "    'description', 'engineDisplacement', 'enginePower', 'equipment_dict',\n",
    "    'fuelType', 'image', 'mileage', 'modelDate', 'model_info', 'model_name',\n",
    "    'name', 'numberOfDoors', 'parsing_unixtime','price', 'priceCurrency',\n",
    "    'productionDate', 'sell_id', 'super_gen', 'vehicleConfiguration',\n",
    "    'vehicleTransmission', 'vendor', 'Владельцы', 'Владение', 'ПТС',\n",
    "    'Привод', 'Руль', 'Состояние', 'Таможня'\n",
    "    ]\n",
    "\n",
    "data = []\n",
    "\n",
    "json_lst = os.listdir(\"./data\")\n",
    "filepath = \"./data\"\n",
    "for file in json_lst:\n",
    "\n",
    "    with open(os.path.join(filepath, file), 'r') as json_file:\n",
    "        json_data  = json.load(json_file)\n",
    "\n",
    "\n",
    "    for card in json_data:\n",
    "        data.append(card)\n",
    "\n",
    "    json_file.close()\n",
    "\n",
    "train = pd.DataFrame(data,columns=cols)"
   ],
   "metadata": {
    "collapsed": false,
    "pycharm": {
     "name": "#%%\n"
    }
   }
  },
  {
   "cell_type": "markdown",
   "source": [
    "## General information about dataset\n",
    "The parsed dataset is actual on 21.08.2021 has been parsed from https://auto.ru/"
   ],
   "metadata": {
    "collapsed": false
   }
  },
  {
   "cell_type": "code",
   "execution_count": 4,
   "outputs": [
    {
     "name": "stdout",
     "output_type": "stream",
     "text": [
      "The training dataset has been parsed and includes 59762 sales offers of cars with 33 features\n"
     ]
    }
   ],
   "source": [
    "print(f'The training dataset has been parsed and includes {train.shape[0]} sales offers of cars with {train.shape[1]} features')"
   ],
   "metadata": {
    "collapsed": false,
    "pycharm": {
     "name": "#%%\n"
    }
   }
  },
  {
   "cell_type": "code",
   "execution_count": 5,
   "outputs": [
    {
     "data": {
      "text/plain": "Index(['bodyType', 'brand', 'color', 'color_hex', 'complectation_dict',\n       'description', 'engineDisplacement', 'enginePower', 'equipment_dict',\n       'fuelType', 'image', 'mileage', 'modelDate', 'model_info', 'model_name',\n       'name', 'numberOfDoors', 'parsing_unixtime', 'price', 'priceCurrency',\n       'productionDate', 'sell_id', 'super_gen', 'vehicleConfiguration',\n       'vehicleTransmission', 'vendor', 'Владельцы', 'Владение', 'ПТС',\n       'Привод', 'Руль', 'Состояние', 'Таможня'],\n      dtype='object')"
     },
     "execution_count": 5,
     "metadata": {},
     "output_type": "execute_result"
    }
   ],
   "source": [
    "train.columns"
   ],
   "metadata": {
    "collapsed": false,
    "pycharm": {
     "name": "#%%\n"
    }
   }
  },
  {
   "cell_type": "markdown",
   "source": [
    "As a testing dataset is provided the test.csv"
   ],
   "metadata": {
    "collapsed": false
   }
  },
  {
   "cell_type": "code",
   "execution_count": 6,
   "outputs": [],
   "source": [
    "test = pd.read_csv('test.csv')"
   ],
   "metadata": {
    "collapsed": false,
    "pycharm": {
     "name": "#%%\n"
    }
   }
  },
  {
   "cell_type": "code",
   "execution_count": 7,
   "outputs": [
    {
     "name": "stdout",
     "output_type": "stream",
     "text": [
      "The testing dataset includes 34686 sales offers of cars with 32 features\n"
     ]
    }
   ],
   "source": [
    "print(f'The testing dataset includes {test.shape[0]} sales offers of cars with {test.shape[1]} features')\n"
   ],
   "metadata": {
    "collapsed": false,
    "pycharm": {
     "name": "#%%\n"
    }
   }
  },
  {
   "cell_type": "code",
   "execution_count": 8,
   "outputs": [
    {
     "data": {
      "text/plain": "                bodyType       brand  color color_hex  \\\n38956  HATCHBACK_3_DOORS        OPEL           CACECB   \n56723              SEDAN  VOLKSWAGEN  синий    0000CC   \n39811  HATCHBACK_5_DOORS        OPEL           DEA522   \n\n                                      complectation_dict  \\\n38956                                        {'id': '0'}   \n56723  {'id': '21380914', 'name': 'GT', 'available_op...   \n39811                                        {'id': '0'}   \n\n                                             description engineDisplacement  \\\n38956  Авто в хорошем состоянии , все функционирует и...               1364   \n56723  Пакеты: \\nбезопасность - доп. подушки в кресла...               1395   \n39811  Автомобиль в хорошем состоянии, все электрика ...               1364   \n\n      enginePower                                     equipment_dict  \\\n38956         140  {'engine-proof': True, 'cruise-control': True,...   \n56723         125  {'cruise-control': True, 'tinted-glass': True,...   \n39811          90  {'wheel-heat': True, 'condition': True, 'front...   \n\n       fuelType  ...                               vehicleConfiguration  \\\n38956  GASOLINE  ...  1.4 MT (140 л.с.), хэтчбек 3 дв., передний, бе...   \n56723  GASOLINE  ...        1.4 AMT (125 л.с.), седан, передний, бензин   \n39811  GASOLINE  ...  1.4 MT (90 л.с.), хэтчбек 5 дв., передний, бензин   \n\n       vehicleTransmission    vendor Владельцы Владение   ПТС  \\\n38956           MECHANICAL  EUROPEAN         2       12  True   \n56723                ROBOT  EUROPEAN         1       12  True   \n39811           MECHANICAL  EUROPEAN         4       12  True   \n\n                Привод  Руль Состояние Таможня  \n38956  FORWARD_CONTROL  LEFT      True    True  \n56723  FORWARD_CONTROL  LEFT      True    True  \n39811  FORWARD_CONTROL  LEFT      True    True  \n\n[3 rows x 33 columns]",
      "text/html": "<div>\n<style scoped>\n    .dataframe tbody tr th:only-of-type {\n        vertical-align: middle;\n    }\n\n    .dataframe tbody tr th {\n        vertical-align: top;\n    }\n\n    .dataframe thead th {\n        text-align: right;\n    }\n</style>\n<table border=\"1\" class=\"dataframe\">\n  <thead>\n    <tr style=\"text-align: right;\">\n      <th></th>\n      <th>bodyType</th>\n      <th>brand</th>\n      <th>color</th>\n      <th>color_hex</th>\n      <th>complectation_dict</th>\n      <th>description</th>\n      <th>engineDisplacement</th>\n      <th>enginePower</th>\n      <th>equipment_dict</th>\n      <th>fuelType</th>\n      <th>...</th>\n      <th>vehicleConfiguration</th>\n      <th>vehicleTransmission</th>\n      <th>vendor</th>\n      <th>Владельцы</th>\n      <th>Владение</th>\n      <th>ПТС</th>\n      <th>Привод</th>\n      <th>Руль</th>\n      <th>Состояние</th>\n      <th>Таможня</th>\n    </tr>\n  </thead>\n  <tbody>\n    <tr>\n      <th>38956</th>\n      <td>HATCHBACK_3_DOORS</td>\n      <td>OPEL</td>\n      <td></td>\n      <td>CACECB</td>\n      <td>{'id': '0'}</td>\n      <td>Авто в хорошем состоянии , все функционирует и...</td>\n      <td>1364</td>\n      <td>140</td>\n      <td>{'engine-proof': True, 'cruise-control': True,...</td>\n      <td>GASOLINE</td>\n      <td>...</td>\n      <td>1.4 MT (140 л.с.), хэтчбек 3 дв., передний, бе...</td>\n      <td>MECHANICAL</td>\n      <td>EUROPEAN</td>\n      <td>2</td>\n      <td>12</td>\n      <td>True</td>\n      <td>FORWARD_CONTROL</td>\n      <td>LEFT</td>\n      <td>True</td>\n      <td>True</td>\n    </tr>\n    <tr>\n      <th>56723</th>\n      <td>SEDAN</td>\n      <td>VOLKSWAGEN</td>\n      <td>синий</td>\n      <td>0000CC</td>\n      <td>{'id': '21380914', 'name': 'GT', 'available_op...</td>\n      <td>Пакеты: \\nбезопасность - доп. подушки в кресла...</td>\n      <td>1395</td>\n      <td>125</td>\n      <td>{'cruise-control': True, 'tinted-glass': True,...</td>\n      <td>GASOLINE</td>\n      <td>...</td>\n      <td>1.4 AMT (125 л.с.), седан, передний, бензин</td>\n      <td>ROBOT</td>\n      <td>EUROPEAN</td>\n      <td>1</td>\n      <td>12</td>\n      <td>True</td>\n      <td>FORWARD_CONTROL</td>\n      <td>LEFT</td>\n      <td>True</td>\n      <td>True</td>\n    </tr>\n    <tr>\n      <th>39811</th>\n      <td>HATCHBACK_5_DOORS</td>\n      <td>OPEL</td>\n      <td></td>\n      <td>DEA522</td>\n      <td>{'id': '0'}</td>\n      <td>Автомобиль в хорошем состоянии, все электрика ...</td>\n      <td>1364</td>\n      <td>90</td>\n      <td>{'wheel-heat': True, 'condition': True, 'front...</td>\n      <td>GASOLINE</td>\n      <td>...</td>\n      <td>1.4 MT (90 л.с.), хэтчбек 5 дв., передний, бензин</td>\n      <td>MECHANICAL</td>\n      <td>EUROPEAN</td>\n      <td>4</td>\n      <td>12</td>\n      <td>True</td>\n      <td>FORWARD_CONTROL</td>\n      <td>LEFT</td>\n      <td>True</td>\n      <td>True</td>\n    </tr>\n  </tbody>\n</table>\n<p>3 rows × 33 columns</p>\n</div>"
     },
     "metadata": {},
     "output_type": "display_data"
    },
    {
     "data": {
      "text/plain": "                bodyType       brand  \\\n28067              седан  MITSUBISHI   \n11196  внедорожник 5 дв.      NISSAN   \n26499            минивэн  VOLKSWAGEN   \n\n                                                 car_url        color  \\\n28067  https://auto.ru/cars/used/sale/mitsubishi/gala...  серебристый   \n11196  https://auto.ru/cars/used/sale/nissan/murano/1...      бежевый   \n26499  https://auto.ru/cars/used/sale/volkswagen/mult...  серебристый   \n\n      complectation_dict                                        description  \\\n28067                NaN  По двигателю нареканий нет, масло менялось каж...   \n11196                NaN  4 эл.стеклоподъемника\\nABS\\nCD-проигрыватель\\n...   \n26499                NaN                    В рейстайлинг переделывал сам .   \n\n      engineDisplacement enginePower  \\\n28067            2.4 LTR     150 N12   \n11196            3.5 LTR     249 N12   \n26499            2.5 LTR     174 N12   \n\n                                          equipment_dict fuelType  ...  \\\n28067  {\"cruise-control\":true,\"tinted-glass\":true,\"ai...   бензин  ...   \n11196  {\"cruise-control\":true,\"asr\":true,\"esp\":true,\"...   бензин  ...   \n26499                                                NaN   дизель  ...   \n\n               vehicleConfiguration  vehicleTransmission    vendor  \\\n28067           SEDAN AUTOMATIC 2.4       автоматическая  JAPANESE   \n11196  ALLROAD_5_DOORS VARIATOR 3.5             вариатор  JAPANESE   \n26499        MINIVAN MECHANICAL 2.5         механическая  EUROPEAN   \n\n         Владельцы            Владение       ПТС    Привод   Руль  \\\n28067  3 или более  8 лет и 10 месяцев  Оригинал  передний  Левый   \n11196  2 владельца                 NaN  Оригинал    полный  Левый   \n26499  2 владельца                 NaN  Оригинал    полный  Левый   \n\n                Состояние     Таможня  \n28067  Не требует ремонта  Растаможен  \n11196  Не требует ремонта  Растаможен  \n26499  Не требует ремонта  Растаможен  \n\n[3 rows x 32 columns]",
      "text/html": "<div>\n<style scoped>\n    .dataframe tbody tr th:only-of-type {\n        vertical-align: middle;\n    }\n\n    .dataframe tbody tr th {\n        vertical-align: top;\n    }\n\n    .dataframe thead th {\n        text-align: right;\n    }\n</style>\n<table border=\"1\" class=\"dataframe\">\n  <thead>\n    <tr style=\"text-align: right;\">\n      <th></th>\n      <th>bodyType</th>\n      <th>brand</th>\n      <th>car_url</th>\n      <th>color</th>\n      <th>complectation_dict</th>\n      <th>description</th>\n      <th>engineDisplacement</th>\n      <th>enginePower</th>\n      <th>equipment_dict</th>\n      <th>fuelType</th>\n      <th>...</th>\n      <th>vehicleConfiguration</th>\n      <th>vehicleTransmission</th>\n      <th>vendor</th>\n      <th>Владельцы</th>\n      <th>Владение</th>\n      <th>ПТС</th>\n      <th>Привод</th>\n      <th>Руль</th>\n      <th>Состояние</th>\n      <th>Таможня</th>\n    </tr>\n  </thead>\n  <tbody>\n    <tr>\n      <th>28067</th>\n      <td>седан</td>\n      <td>MITSUBISHI</td>\n      <td>https://auto.ru/cars/used/sale/mitsubishi/gala...</td>\n      <td>серебристый</td>\n      <td>NaN</td>\n      <td>По двигателю нареканий нет, масло менялось каж...</td>\n      <td>2.4 LTR</td>\n      <td>150 N12</td>\n      <td>{\"cruise-control\":true,\"tinted-glass\":true,\"ai...</td>\n      <td>бензин</td>\n      <td>...</td>\n      <td>SEDAN AUTOMATIC 2.4</td>\n      <td>автоматическая</td>\n      <td>JAPANESE</td>\n      <td>3 или более</td>\n      <td>8 лет и 10 месяцев</td>\n      <td>Оригинал</td>\n      <td>передний</td>\n      <td>Левый</td>\n      <td>Не требует ремонта</td>\n      <td>Растаможен</td>\n    </tr>\n    <tr>\n      <th>11196</th>\n      <td>внедорожник 5 дв.</td>\n      <td>NISSAN</td>\n      <td>https://auto.ru/cars/used/sale/nissan/murano/1...</td>\n      <td>бежевый</td>\n      <td>NaN</td>\n      <td>4 эл.стеклоподъемника\\nABS\\nCD-проигрыватель\\n...</td>\n      <td>3.5 LTR</td>\n      <td>249 N12</td>\n      <td>{\"cruise-control\":true,\"asr\":true,\"esp\":true,\"...</td>\n      <td>бензин</td>\n      <td>...</td>\n      <td>ALLROAD_5_DOORS VARIATOR 3.5</td>\n      <td>вариатор</td>\n      <td>JAPANESE</td>\n      <td>2 владельца</td>\n      <td>NaN</td>\n      <td>Оригинал</td>\n      <td>полный</td>\n      <td>Левый</td>\n      <td>Не требует ремонта</td>\n      <td>Растаможен</td>\n    </tr>\n    <tr>\n      <th>26499</th>\n      <td>минивэн</td>\n      <td>VOLKSWAGEN</td>\n      <td>https://auto.ru/cars/used/sale/volkswagen/mult...</td>\n      <td>серебристый</td>\n      <td>NaN</td>\n      <td>В рейстайлинг переделывал сам .</td>\n      <td>2.5 LTR</td>\n      <td>174 N12</td>\n      <td>NaN</td>\n      <td>дизель</td>\n      <td>...</td>\n      <td>MINIVAN MECHANICAL 2.5</td>\n      <td>механическая</td>\n      <td>EUROPEAN</td>\n      <td>2 владельца</td>\n      <td>NaN</td>\n      <td>Оригинал</td>\n      <td>полный</td>\n      <td>Левый</td>\n      <td>Не требует ремонта</td>\n      <td>Растаможен</td>\n    </tr>\n  </tbody>\n</table>\n<p>3 rows × 32 columns</p>\n</div>"
     },
     "metadata": {},
     "output_type": "display_data"
    }
   ],
   "source": [
    "display(train.sample(3))\n",
    "display(test.sample(3))\n"
   ],
   "metadata": {
    "collapsed": false,
    "pycharm": {
     "name": "#%%\n"
    }
   }
  },
  {
   "cell_type": "code",
   "execution_count": 9,
   "outputs": [
    {
     "name": "stdout",
     "output_type": "stream",
     "text": [
      "<class 'pandas.core.frame.DataFrame'>\n",
      "RangeIndex: 59762 entries, 0 to 59761\n",
      "Data columns (total 33 columns):\n",
      " #   Column                Non-Null Count  Dtype \n",
      "---  ------                --------------  ----- \n",
      " 0   bodyType              59762 non-null  object\n",
      " 1   brand                 59762 non-null  object\n",
      " 2   color                 59762 non-null  object\n",
      " 3   color_hex             59762 non-null  object\n",
      " 4   complectation_dict    59762 non-null  object\n",
      " 5   description           59762 non-null  object\n",
      " 6   engineDisplacement    59762 non-null  object\n",
      " 7   enginePower           59762 non-null  object\n",
      " 8   equipment_dict        59762 non-null  object\n",
      " 9   fuelType              59762 non-null  object\n",
      " 10  image                 59762 non-null  object\n",
      " 11  mileage               59762 non-null  int64 \n",
      " 12  modelDate             59762 non-null  object\n",
      " 13  model_info            59762 non-null  object\n",
      " 14  model_name            59762 non-null  object\n",
      " 15  name                  59762 non-null  object\n",
      " 16  numberOfDoors         59762 non-null  object\n",
      " 17  parsing_unixtime      59762 non-null  int64 \n",
      " 18  price                 59762 non-null  object\n",
      " 19  priceCurrency         59762 non-null  object\n",
      " 20  productionDate        59762 non-null  int64 \n",
      " 21  sell_id               59762 non-null  object\n",
      " 22  super_gen             59762 non-null  object\n",
      " 23  vehicleConfiguration  59762 non-null  object\n",
      " 24  vehicleTransmission   59762 non-null  object\n",
      " 25  vendor                59762 non-null  object\n",
      " 26  Владельцы             59762 non-null  object\n",
      " 27  Владение              59762 non-null  object\n",
      " 28  ПТС                   59762 non-null  object\n",
      " 29  Привод                59762 non-null  object\n",
      " 30  Руль                  59762 non-null  object\n",
      " 31  Состояние             59762 non-null  bool  \n",
      " 32  Таможня               59762 non-null  bool  \n",
      "dtypes: bool(2), int64(3), object(28)\n",
      "memory usage: 14.2+ MB\n"
     ]
    }
   ],
   "source": [
    "train.info()"
   ],
   "metadata": {
    "collapsed": false,
    "pycharm": {
     "name": "#%%\n"
    }
   }
  },
  {
   "cell_type": "code",
   "execution_count": 10,
   "outputs": [
    {
     "name": "stdout",
     "output_type": "stream",
     "text": [
      "<class 'pandas.core.frame.DataFrame'>\n",
      "RangeIndex: 34686 entries, 0 to 34685\n",
      "Data columns (total 32 columns):\n",
      " #   Column                Non-Null Count  Dtype \n",
      "---  ------                --------------  ----- \n",
      " 0   bodyType              34686 non-null  object\n",
      " 1   brand                 34686 non-null  object\n",
      " 2   car_url               34686 non-null  object\n",
      " 3   color                 34686 non-null  object\n",
      " 4   complectation_dict    6418 non-null   object\n",
      " 5   description           34686 non-null  object\n",
      " 6   engineDisplacement    34686 non-null  object\n",
      " 7   enginePower           34686 non-null  object\n",
      " 8   equipment_dict        24690 non-null  object\n",
      " 9   fuelType              34686 non-null  object\n",
      " 10  image                 34686 non-null  object\n",
      " 11  mileage               34686 non-null  int64 \n",
      " 12  modelDate             34686 non-null  int64 \n",
      " 13  model_info            34686 non-null  object\n",
      " 14  model_name            34686 non-null  object\n",
      " 15  name                  34686 non-null  object\n",
      " 16  numberOfDoors         34686 non-null  int64 \n",
      " 17  parsing_unixtime      34686 non-null  int64 \n",
      " 18  priceCurrency         34686 non-null  object\n",
      " 19  productionDate        34686 non-null  int64 \n",
      " 20  sell_id               34686 non-null  int64 \n",
      " 21  super_gen             34686 non-null  object\n",
      " 22  vehicleConfiguration  34686 non-null  object\n",
      " 23  vehicleTransmission   34686 non-null  object\n",
      " 24  vendor                34686 non-null  object\n",
      " 25  Владельцы             34686 non-null  object\n",
      " 26  Владение              11995 non-null  object\n",
      " 27  ПТС                   34685 non-null  object\n",
      " 28  Привод                34686 non-null  object\n",
      " 29  Руль                  34686 non-null  object\n",
      " 30  Состояние             34686 non-null  object\n",
      " 31  Таможня               34686 non-null  object\n",
      "dtypes: int64(6), object(26)\n",
      "memory usage: 8.5+ MB\n"
     ]
    }
   ],
   "source": [
    "test.info()"
   ],
   "metadata": {
    "collapsed": false,
    "pycharm": {
     "name": "#%%\n"
    }
   }
  },
  {
   "cell_type": "markdown",
   "source": [
    "## Let's bring the training dataset same to testing dataset."
   ],
   "metadata": {
    "collapsed": false
   }
  },
  {
   "cell_type": "markdown",
   "source": [
    "### Features\n",
    " nn |Features | Description | Type\n",
    "----|---------|-------------|-----\n",
    "0   |bodyType| Car's body type | Categorical\n",
    "1   |brand | Car's brand | Categorical\n",
    "2   |color | Color | Categorical\n",
    "3   |color_hex  | Color hex code| Categorical\n",
    "4   |complectation_dic| Dict of complectation | Categorical\n",
    "5   |description | Description by seller | Categorical\n",
    "6   |engineDisplacement | Displacement of engine | Quantitative\n",
    "7   |enginePower | Power of engine | Quantitative\n",
    "8   |equipment_dict | Dict of equipment | Categorical\n",
    "9   |fuelType | Type of fuel | Categorical\n",
    "10  |image | Image of the car | Categorical\n",
    "11  |mileage | Mileage of the car | Quantitative\n",
    "12  |modelDate | Year of car's model| Ordinal\n",
    "13  |model_info | Code of car's model | Categorical\n",
    "14  |model_name | Name of car's model | Categorical\n",
    "15  |name | Summary data | Categorical\n",
    "16  |numberOfDoors | Number of doors | Quantitative\n",
    "17  |parsing_unixtime | Time of parsing | Ordinal\n",
    "18  |price | Offered price | Quantitative\n",
    "19  |priceCurrency | Currency | Quantitative\n",
    "20  |productionDate | Date of production | Ordinal\n",
    "21  |sell_id | Seller's ID | Ordinal\n",
    "22  |super_gen | Dict of features | Categorical\n",
    "23  |vehicleConfiguration | Dict of options | Categorical\n",
    "24  |vehicleTransmission | Transmission | Categorical\n",
    "25  |vendor | Vendor | Categorical\n",
    "26  |Владельцы | Number of owners | Quantitative\n",
    "27  |Владение | Holding period month | Quantitative\n",
    "28  |ПТС | Original vehicle registration | Binary\n",
    "29  |Привод | Gear type| Categorical\n",
    "30  |Руль | Steering wheel | Categorical\n",
    "31  |Состояние | Accident-free car | Binary\n",
    "32  |Таможня | Custom cleared | Binary\n",
    "\n",
    "_in training database is no price feature_"
   ],
   "metadata": {
    "collapsed": false
   }
  },
  {
   "cell_type": "markdown",
   "source": [
    "## data comparison"
   ],
   "metadata": {
    "collapsed": false
   }
  },
  {
   "cell_type": "code",
   "execution_count": 11,
   "outputs": [],
   "source": [
    "def check_df_before_merg(d_df1,d_df2):\n",
    "    ''' the function to compare of data types both datasets\n",
    "    was copied from SF colleagues'''\n",
    "\n",
    "    list_of_names1 = list(d_df1.columns)\n",
    "    temp_dict = {}\n",
    "    temp_dict['feature_train'] = list_of_names1\n",
    "    temp_dict['type_train'] = d_df1.dtypes\n",
    "    temp_dict['sample_train'] = d_df1.loc[5].values\n",
    "    temp_df1 = pd.DataFrame.from_dict(temp_dict)\n",
    "\n",
    "\n",
    "    list_of_names2 = list(d_df2.columns)\n",
    "    temp_dict2 = {}\n",
    "    temp_dict2['feature_test'] = list_of_names2\n",
    "    temp_dict2['type_test'] = d_df2.dtypes\n",
    "    temp_dict2['sample_test'] = d_df2.loc[5].values\n",
    "    temp_df2 = pd.DataFrame.from_dict(temp_dict2)\n",
    "\n",
    "    temp_insert = pd.DataFrame(columns=['< - >'])\n",
    "\n",
    "    temp_df = pd.concat([temp_df1,temp_insert, temp_df2], axis=1, sort=False)\n",
    "    temp_df.reset_index(inplace = True)\n",
    "    del temp_df['index']\n",
    "    temp_df['< - >'] = '| - |'\n",
    "    display(temp_df)\n",
    "\n",
    "    temp_dict3 = {}\n",
    "    temp_df3= pd.DataFrame(temp_df)\n",
    "    temp_list  = []\n",
    "    temp_list2  = []\n",
    "    temp_list3  = []\n",
    "    temp_list4  = []\n",
    "\n",
    "\n",
    "    for i in range(len(temp_df)):\n",
    "        if str(temp_df3['type_train'][i]) != str(temp_df3['type_test'][i]):\n",
    "            temp_list.append(temp_df3['feature_train'][i])\n",
    "            temp_list2.append(temp_df3['feature_test'][i])\n",
    "            temp_list3.append(str(temp_df3['type_train'][i]) + ' != ' + str(temp_df3['type_test'][i]))\n",
    "            temp_list4.append(i)\n",
    "\n",
    "    temp_dict3['index']= temp_list4\n",
    "    temp_dict3['feature_train']= temp_list\n",
    "    temp_dict3['divergences'] = temp_list3\n",
    "    temp_dict3['feature_test']= temp_list2\n",
    "\n",
    "    temp_df4 = pd.DataFrame.from_dict(temp_dict3)\n",
    "    temp_df4.set_index('index',inplace=True)\n",
    "\n",
    "    print(f'The data types are different in {len(temp_df4)} columns\\n')\n",
    "    display(temp_df4)"
   ],
   "metadata": {
    "collapsed": false,
    "pycharm": {
     "name": "#%%\n"
    }
   }
  },
  {
   "cell_type": "code",
   "execution_count": 12,
   "outputs": [
    {
     "data": {
      "text/plain": "           feature_train type_train  \\\n0               bodyType     object   \n1                  brand     object   \n2                  color     object   \n3              color_hex     object   \n4     complectation_dict     object   \n5            description     object   \n6     engineDisplacement     object   \n7            enginePower     object   \n8         equipment_dict     object   \n9               fuelType     object   \n10                 image     object   \n11               mileage      int64   \n12             modelDate     object   \n13            model_info     object   \n14            model_name     object   \n15                  name     object   \n16         numberOfDoors     object   \n17      parsing_unixtime      int64   \n18                 price     object   \n19         priceCurrency     object   \n20        productionDate      int64   \n21               sell_id     object   \n22             super_gen     object   \n23  vehicleConfiguration     object   \n24   vehicleTransmission     object   \n25                vendor     object   \n26             Владельцы     object   \n27              Владение     object   \n28                   ПТС     object   \n29                Привод     object   \n30                  Руль     object   \n31             Состояние       bool   \n32               Таможня       bool   \n33                   NaN        NaN   \n\n                                         sample_train  < - >  \\\n0                                   HATCHBACK_5_DOORS  | - |   \n1                                          ALFA_ROMEO  | - |   \n2                                                      | - |   \n3                                              FAFBFB  | - |   \n4                                         {'id': '0'}  | - |   \n5   РОЛЬФ Алтуфьево — это целых 30 лет успешной по...  | - |   \n6                                                1368  | - |   \n7                                                 170  | - |   \n8   {'cruise-control': True, 'asr': True, 'esp': T...  | - |   \n9                                            GASOLINE  | - |   \n10  //avatars.mds.yandex.net/get-autoru-vos/392674...  | - |   \n11                                              42500  | - |   \n12                                               2010  | - |   \n13  {'code': 'GIULIETTA', 'name': 'Giulietta', 'ru...  | - |   \n14                                          Giulietta  | - |   \n15                                 1.4 AMT (170 л.с.)  | - |   \n16                                                  5  | - |   \n17                                         1629806291  | - |   \n18                                            1300000  | - |   \n19                                                RUR  | - |   \n20                                               2014  | - |   \n21                                         1102411297  | - |   \n22  {'id': '8484175', 'name': 'III', 'ru_name': '3...  | - |   \n23  1.4 AMT (170 л.с.), хэтчбек 5 дв., передний, б...  | - |   \n24                                              ROBOT  | - |   \n25                                           EUROPEAN  | - |   \n26                                                  1  | - |   \n27                                                 12  | - |   \n28                                               True  | - |   \n29                                    FORWARD_CONTROL  | - |   \n30                                               LEFT  | - |   \n31                                               True  | - |   \n32                                               True  | - |   \n33                                                NaN  | - |   \n\n            feature_test type_test  \\\n0               bodyType    object   \n1                  brand    object   \n2                  color    object   \n3                    NaN       NaN   \n4     complectation_dict    object   \n5            description    object   \n6     engineDisplacement    object   \n7            enginePower    object   \n8         equipment_dict    object   \n9               fuelType    object   \n10                 image    object   \n11               mileage     int64   \n12             modelDate     int64   \n13            model_info    object   \n14            model_name    object   \n15                  name    object   \n16         numberOfDoors     int64   \n17      parsing_unixtime     int64   \n18                   NaN       NaN   \n19         priceCurrency    object   \n20        productionDate     int64   \n21               sell_id     int64   \n22             super_gen    object   \n23  vehicleConfiguration    object   \n24   vehicleTransmission    object   \n25                vendor    object   \n26             Владельцы    object   \n27              Владение    object   \n28                   ПТС    object   \n29                Привод    object   \n30                  Руль    object   \n31             Состояние    object   \n32               Таможня    object   \n33               car_url    object   \n\n                                          sample_test  \n0                                             лифтбек  \n1                                               SKODA  \n2                                               серый  \n3                                                 NaN  \n4   {\"id\":\"5011515\",\"name\":\"RS\",\"available_options...  \n5   Продаю свой автомобиль! Автомобиль полностью и...  \n6                                             2.0 LTR  \n7                                             200 N12  \n8   {\"cruise-control\":true,\"tinted-glass\":true,\"es...  \n9                                              бензин  \n10  https://avatars.mds.yandex.net/get-autoru-vos/...  \n11                                             172000  \n12                                               2008  \n13  {\"code\":\"OCTAVIA_RS\",\"name\":\"Octavia RS\",\"ru_n...  \n14                                         OCTAVIA_RS  \n15                                 2.0 AMT (200 л.с.)  \n16                                                  5  \n17                                         1603226291  \n18                                                NaN  \n19                                                RUB  \n20                                               2012  \n21                                         1100912634  \n22  {\"id\":\"5009158\",\"displacement\":1984,\"engine_ty...  \n23                                 LIFTBACK ROBOT 2.0  \n24                                   роботизированная  \n25                                           EUROPEAN  \n26                                        3 или более  \n27                                                NaN  \n28                                           Оригинал  \n29                                           передний  \n30                                              Левый  \n31                                 Не требует ремонта  \n32                                         Растаможен  \n33  https://auto.ru/cars/used/sale/skoda/octavia_r...  ",
      "text/html": "<div>\n<style scoped>\n    .dataframe tbody tr th:only-of-type {\n        vertical-align: middle;\n    }\n\n    .dataframe tbody tr th {\n        vertical-align: top;\n    }\n\n    .dataframe thead th {\n        text-align: right;\n    }\n</style>\n<table border=\"1\" class=\"dataframe\">\n  <thead>\n    <tr style=\"text-align: right;\">\n      <th></th>\n      <th>feature_train</th>\n      <th>type_train</th>\n      <th>sample_train</th>\n      <th>&lt; - &gt;</th>\n      <th>feature_test</th>\n      <th>type_test</th>\n      <th>sample_test</th>\n    </tr>\n  </thead>\n  <tbody>\n    <tr>\n      <th>0</th>\n      <td>bodyType</td>\n      <td>object</td>\n      <td>HATCHBACK_5_DOORS</td>\n      <td>| - |</td>\n      <td>bodyType</td>\n      <td>object</td>\n      <td>лифтбек</td>\n    </tr>\n    <tr>\n      <th>1</th>\n      <td>brand</td>\n      <td>object</td>\n      <td>ALFA_ROMEO</td>\n      <td>| - |</td>\n      <td>brand</td>\n      <td>object</td>\n      <td>SKODA</td>\n    </tr>\n    <tr>\n      <th>2</th>\n      <td>color</td>\n      <td>object</td>\n      <td></td>\n      <td>| - |</td>\n      <td>color</td>\n      <td>object</td>\n      <td>серый</td>\n    </tr>\n    <tr>\n      <th>3</th>\n      <td>color_hex</td>\n      <td>object</td>\n      <td>FAFBFB</td>\n      <td>| - |</td>\n      <td>NaN</td>\n      <td>NaN</td>\n      <td>NaN</td>\n    </tr>\n    <tr>\n      <th>4</th>\n      <td>complectation_dict</td>\n      <td>object</td>\n      <td>{'id': '0'}</td>\n      <td>| - |</td>\n      <td>complectation_dict</td>\n      <td>object</td>\n      <td>{\"id\":\"5011515\",\"name\":\"RS\",\"available_options...</td>\n    </tr>\n    <tr>\n      <th>5</th>\n      <td>description</td>\n      <td>object</td>\n      <td>РОЛЬФ Алтуфьево — это целых 30 лет успешной по...</td>\n      <td>| - |</td>\n      <td>description</td>\n      <td>object</td>\n      <td>Продаю свой автомобиль! Автомобиль полностью и...</td>\n    </tr>\n    <tr>\n      <th>6</th>\n      <td>engineDisplacement</td>\n      <td>object</td>\n      <td>1368</td>\n      <td>| - |</td>\n      <td>engineDisplacement</td>\n      <td>object</td>\n      <td>2.0 LTR</td>\n    </tr>\n    <tr>\n      <th>7</th>\n      <td>enginePower</td>\n      <td>object</td>\n      <td>170</td>\n      <td>| - |</td>\n      <td>enginePower</td>\n      <td>object</td>\n      <td>200 N12</td>\n    </tr>\n    <tr>\n      <th>8</th>\n      <td>equipment_dict</td>\n      <td>object</td>\n      <td>{'cruise-control': True, 'asr': True, 'esp': T...</td>\n      <td>| - |</td>\n      <td>equipment_dict</td>\n      <td>object</td>\n      <td>{\"cruise-control\":true,\"tinted-glass\":true,\"es...</td>\n    </tr>\n    <tr>\n      <th>9</th>\n      <td>fuelType</td>\n      <td>object</td>\n      <td>GASOLINE</td>\n      <td>| - |</td>\n      <td>fuelType</td>\n      <td>object</td>\n      <td>бензин</td>\n    </tr>\n    <tr>\n      <th>10</th>\n      <td>image</td>\n      <td>object</td>\n      <td>//avatars.mds.yandex.net/get-autoru-vos/392674...</td>\n      <td>| - |</td>\n      <td>image</td>\n      <td>object</td>\n      <td>https://avatars.mds.yandex.net/get-autoru-vos/...</td>\n    </tr>\n    <tr>\n      <th>11</th>\n      <td>mileage</td>\n      <td>int64</td>\n      <td>42500</td>\n      <td>| - |</td>\n      <td>mileage</td>\n      <td>int64</td>\n      <td>172000</td>\n    </tr>\n    <tr>\n      <th>12</th>\n      <td>modelDate</td>\n      <td>object</td>\n      <td>2010</td>\n      <td>| - |</td>\n      <td>modelDate</td>\n      <td>int64</td>\n      <td>2008</td>\n    </tr>\n    <tr>\n      <th>13</th>\n      <td>model_info</td>\n      <td>object</td>\n      <td>{'code': 'GIULIETTA', 'name': 'Giulietta', 'ru...</td>\n      <td>| - |</td>\n      <td>model_info</td>\n      <td>object</td>\n      <td>{\"code\":\"OCTAVIA_RS\",\"name\":\"Octavia RS\",\"ru_n...</td>\n    </tr>\n    <tr>\n      <th>14</th>\n      <td>model_name</td>\n      <td>object</td>\n      <td>Giulietta</td>\n      <td>| - |</td>\n      <td>model_name</td>\n      <td>object</td>\n      <td>OCTAVIA_RS</td>\n    </tr>\n    <tr>\n      <th>15</th>\n      <td>name</td>\n      <td>object</td>\n      <td>1.4 AMT (170 л.с.)</td>\n      <td>| - |</td>\n      <td>name</td>\n      <td>object</td>\n      <td>2.0 AMT (200 л.с.)</td>\n    </tr>\n    <tr>\n      <th>16</th>\n      <td>numberOfDoors</td>\n      <td>object</td>\n      <td>5</td>\n      <td>| - |</td>\n      <td>numberOfDoors</td>\n      <td>int64</td>\n      <td>5</td>\n    </tr>\n    <tr>\n      <th>17</th>\n      <td>parsing_unixtime</td>\n      <td>int64</td>\n      <td>1629806291</td>\n      <td>| - |</td>\n      <td>parsing_unixtime</td>\n      <td>int64</td>\n      <td>1603226291</td>\n    </tr>\n    <tr>\n      <th>18</th>\n      <td>price</td>\n      <td>object</td>\n      <td>1300000</td>\n      <td>| - |</td>\n      <td>NaN</td>\n      <td>NaN</td>\n      <td>NaN</td>\n    </tr>\n    <tr>\n      <th>19</th>\n      <td>priceCurrency</td>\n      <td>object</td>\n      <td>RUR</td>\n      <td>| - |</td>\n      <td>priceCurrency</td>\n      <td>object</td>\n      <td>RUB</td>\n    </tr>\n    <tr>\n      <th>20</th>\n      <td>productionDate</td>\n      <td>int64</td>\n      <td>2014</td>\n      <td>| - |</td>\n      <td>productionDate</td>\n      <td>int64</td>\n      <td>2012</td>\n    </tr>\n    <tr>\n      <th>21</th>\n      <td>sell_id</td>\n      <td>object</td>\n      <td>1102411297</td>\n      <td>| - |</td>\n      <td>sell_id</td>\n      <td>int64</td>\n      <td>1100912634</td>\n    </tr>\n    <tr>\n      <th>22</th>\n      <td>super_gen</td>\n      <td>object</td>\n      <td>{'id': '8484175', 'name': 'III', 'ru_name': '3...</td>\n      <td>| - |</td>\n      <td>super_gen</td>\n      <td>object</td>\n      <td>{\"id\":\"5009158\",\"displacement\":1984,\"engine_ty...</td>\n    </tr>\n    <tr>\n      <th>23</th>\n      <td>vehicleConfiguration</td>\n      <td>object</td>\n      <td>1.4 AMT (170 л.с.), хэтчбек 5 дв., передний, б...</td>\n      <td>| - |</td>\n      <td>vehicleConfiguration</td>\n      <td>object</td>\n      <td>LIFTBACK ROBOT 2.0</td>\n    </tr>\n    <tr>\n      <th>24</th>\n      <td>vehicleTransmission</td>\n      <td>object</td>\n      <td>ROBOT</td>\n      <td>| - |</td>\n      <td>vehicleTransmission</td>\n      <td>object</td>\n      <td>роботизированная</td>\n    </tr>\n    <tr>\n      <th>25</th>\n      <td>vendor</td>\n      <td>object</td>\n      <td>EUROPEAN</td>\n      <td>| - |</td>\n      <td>vendor</td>\n      <td>object</td>\n      <td>EUROPEAN</td>\n    </tr>\n    <tr>\n      <th>26</th>\n      <td>Владельцы</td>\n      <td>object</td>\n      <td>1</td>\n      <td>| - |</td>\n      <td>Владельцы</td>\n      <td>object</td>\n      <td>3 или более</td>\n    </tr>\n    <tr>\n      <th>27</th>\n      <td>Владение</td>\n      <td>object</td>\n      <td>12</td>\n      <td>| - |</td>\n      <td>Владение</td>\n      <td>object</td>\n      <td>NaN</td>\n    </tr>\n    <tr>\n      <th>28</th>\n      <td>ПТС</td>\n      <td>object</td>\n      <td>True</td>\n      <td>| - |</td>\n      <td>ПТС</td>\n      <td>object</td>\n      <td>Оригинал</td>\n    </tr>\n    <tr>\n      <th>29</th>\n      <td>Привод</td>\n      <td>object</td>\n      <td>FORWARD_CONTROL</td>\n      <td>| - |</td>\n      <td>Привод</td>\n      <td>object</td>\n      <td>передний</td>\n    </tr>\n    <tr>\n      <th>30</th>\n      <td>Руль</td>\n      <td>object</td>\n      <td>LEFT</td>\n      <td>| - |</td>\n      <td>Руль</td>\n      <td>object</td>\n      <td>Левый</td>\n    </tr>\n    <tr>\n      <th>31</th>\n      <td>Состояние</td>\n      <td>bool</td>\n      <td>True</td>\n      <td>| - |</td>\n      <td>Состояние</td>\n      <td>object</td>\n      <td>Не требует ремонта</td>\n    </tr>\n    <tr>\n      <th>32</th>\n      <td>Таможня</td>\n      <td>bool</td>\n      <td>True</td>\n      <td>| - |</td>\n      <td>Таможня</td>\n      <td>object</td>\n      <td>Растаможен</td>\n    </tr>\n    <tr>\n      <th>33</th>\n      <td>NaN</td>\n      <td>NaN</td>\n      <td>NaN</td>\n      <td>| - |</td>\n      <td>car_url</td>\n      <td>object</td>\n      <td>https://auto.ru/cars/used/sale/skoda/octavia_r...</td>\n    </tr>\n  </tbody>\n</table>\n</div>"
     },
     "metadata": {},
     "output_type": "display_data"
    },
    {
     "name": "stdout",
     "output_type": "stream",
     "text": [
      "The data types are different in 8 columns\n",
      "\n"
     ]
    },
    {
     "data": {
      "text/plain": "       feature_train      divergences   feature_test\nindex                                               \n3          color_hex    object != nan            NaN\n12         modelDate  object != int64      modelDate\n16     numberOfDoors  object != int64  numberOfDoors\n18             price    object != nan            NaN\n21           sell_id  object != int64        sell_id\n31         Состояние   bool != object      Состояние\n32           Таможня   bool != object        Таможня\n33               NaN    nan != object        car_url",
      "text/html": "<div>\n<style scoped>\n    .dataframe tbody tr th:only-of-type {\n        vertical-align: middle;\n    }\n\n    .dataframe tbody tr th {\n        vertical-align: top;\n    }\n\n    .dataframe thead th {\n        text-align: right;\n    }\n</style>\n<table border=\"1\" class=\"dataframe\">\n  <thead>\n    <tr style=\"text-align: right;\">\n      <th></th>\n      <th>feature_train</th>\n      <th>divergences</th>\n      <th>feature_test</th>\n    </tr>\n    <tr>\n      <th>index</th>\n      <th></th>\n      <th></th>\n      <th></th>\n    </tr>\n  </thead>\n  <tbody>\n    <tr>\n      <th>3</th>\n      <td>color_hex</td>\n      <td>object != nan</td>\n      <td>NaN</td>\n    </tr>\n    <tr>\n      <th>12</th>\n      <td>modelDate</td>\n      <td>object != int64</td>\n      <td>modelDate</td>\n    </tr>\n    <tr>\n      <th>16</th>\n      <td>numberOfDoors</td>\n      <td>object != int64</td>\n      <td>numberOfDoors</td>\n    </tr>\n    <tr>\n      <th>18</th>\n      <td>price</td>\n      <td>object != nan</td>\n      <td>NaN</td>\n    </tr>\n    <tr>\n      <th>21</th>\n      <td>sell_id</td>\n      <td>object != int64</td>\n      <td>sell_id</td>\n    </tr>\n    <tr>\n      <th>31</th>\n      <td>Состояние</td>\n      <td>bool != object</td>\n      <td>Состояние</td>\n    </tr>\n    <tr>\n      <th>32</th>\n      <td>Таможня</td>\n      <td>bool != object</td>\n      <td>Таможня</td>\n    </tr>\n    <tr>\n      <th>33</th>\n      <td>NaN</td>\n      <td>nan != object</td>\n      <td>car_url</td>\n    </tr>\n  </tbody>\n</table>\n</div>"
     },
     "metadata": {},
     "output_type": "display_data"
    }
   ],
   "source": [
    "check_df_before_merg(train, test)"
   ],
   "metadata": {
    "collapsed": false,
    "pycharm": {
     "name": "#%%\n"
    }
   }
  },
  {
   "cell_type": "markdown",
   "source": [
    "## 1.1 Features treatment before combing of the datasets\n",
    "\n",
    "### For further processing, training and test datasets must be unified."
   ],
   "metadata": {
    "collapsed": false
   }
  },
  {
   "cell_type": "markdown",
   "source": [
    "### bodyType"
   ],
   "metadata": {
    "collapsed": false
   }
  },
  {
   "cell_type": "markdown",
   "source": [
    "#### translation of the feature to 'russian'"
   ],
   "metadata": {
    "collapsed": false
   }
  },
  {
   "cell_type": "code",
   "execution_count": 13,
   "outputs": [],
   "source": [
    "#df.bodyType.value_counts(sort=True).keys()\n",
    "body_dict = {\n",
    "'SEDAN' :'седан',\n",
    "'ALLROAD_5_DOORS' :'внедорожник 5 дв.',\n",
    "'HATCHBACK_5_DOORS' :'хэтчбек 5 дв.',\n",
    "'WAGON_5_DOORS' :'универсал 5 дв.',\n",
    "'LIFTBACK' :'лифтбек',\n",
    "'HATCHBACK_3_DOORS' :'хэтчбек 3 дв.',\n",
    "'MINIVAN' :'минивэн',\n",
    "'COMPACTVAN' : 'компактвэн',\n",
    "'COUPE' : 'купе',\n",
    "'ALLROAD_3_DOORS' : 'внедорожник 3 дв.',\n",
    "'COUPE_HARDTOP' : 'купе-хардтоп',\n",
    "'VAN' : 'фургон',\n",
    "'PICKUP_TWO' : 'пикап двойная кабина',\n",
    "'CABRIO' : 'кабриолет',\n",
    "'ROADSTER' : 'родстер',\n",
    "'MICROVAN' : 'микровэн',\n",
    "'ALLROAD_OPEN' : 'внедорожник открытый',\n",
    "'SEDAN_HARDTOP' : 'седан-хардтоп',\n",
    "'TARGA' : 'тарга',\n",
    "'PICKUP_ONE' : 'пикап одинарная кабина',\n",
    "'PICKUP_ONE_HALF' : 'пикап полуторная кабина',\n",
    "'HATCHBACK_4_DOORS' : 'хэтчбек 4 дв.',\n",
    "'LIMOUSINE' : 'лимузин',\n",
    "'SEDAN_2_DOORS' : 'седан 2 дв.'\n",
    "}\n",
    "train['bodyType'] = train['bodyType'].map(body_dict)"
   ],
   "metadata": {
    "collapsed": false,
    "pycharm": {
     "name": "#%%\n"
    }
   }
  },
  {
   "cell_type": "code",
   "execution_count": 14,
   "outputs": [
    {
     "data": {
      "text/plain": "седан                      20686\nвнедорожник 5 дв.          19682\nхэтчбек 5 дв.               7093\nуниверсал 5 дв.             2980\nлифтбек                     2455\nхэтчбек 3 дв.               1503\nминивэн                     1345\nкомпактвэн                  1230\nкупе                         998\nвнедорожник 3 дв.            666\nфургон                       355\nпикап двойная кабина         271\nкабриолет                    162\nродстер                      121\nкупе-хардтоп                 111\nмикровэн                      34\nвнедорожник открытый          20\nседан-хардтоп                 12\nпикап одинарная кабина        10\nпикап полуторная кабина        9\nтарга                          8\nхэтчбек 4 дв.                  6\nлимузин                        2\nседан 2 дв.                    2\nName: bodyType, dtype: int64"
     },
     "execution_count": 14,
     "metadata": {},
     "output_type": "execute_result"
    }
   ],
   "source": [
    "train['bodyType'].value_counts(sort=True)\n"
   ],
   "metadata": {
    "collapsed": false,
    "pycharm": {
     "name": "#%% check\n"
    }
   }
  },
  {
   "cell_type": "markdown",
   "source": [
    "### color_hex to color"
   ],
   "metadata": {
    "collapsed": false
   }
  },
  {
   "cell_type": "code",
   "execution_count": 15,
   "outputs": [
    {
     "name": "stdout",
     "output_type": "stream",
     "text": [
      "train dataset\n"
     ]
    },
    {
     "data": {
      "text/plain": "040001    15571\nFAFBFB    11411\n97948F     8116\nCACECB     6558\n0000CC     5914\nEE1D19     3199\n200204     2505\n007F00     1958\nC49648     1255\n22A0F8      848\nFFD600      630\n660099      569\n4A2197      452\nDEA522      420\nFF8649      337\nFFC0CB       19\nName: color_hex, dtype: int64"
     },
     "execution_count": 15,
     "metadata": {},
     "output_type": "execute_result"
    }
   ],
   "source": [
    "print('train dataset')\n",
    "train['color_hex'].value_counts()"
   ],
   "metadata": {
    "collapsed": false,
    "pycharm": {
     "name": "#%%\n"
    }
   }
  },
  {
   "cell_type": "code",
   "execution_count": 16,
   "outputs": [],
   "source": [
    "#color_dictionary initialization\n",
    "keys = train['color_hex'].value_counts(dropna=False).keys().tolist()\n",
    "values = test['color'].value_counts(dropna=False).keys().tolist()\n",
    "color_dict = dict(zip(keys, values))\n",
    "\n",
    "#Changing the hex codes to related colors\n",
    "train['color'] = train['color_hex'].map(color_dict)"
   ],
   "metadata": {
    "collapsed": false,
    "pycharm": {
     "name": "#%%\n"
    }
   }
  },
  {
   "cell_type": "code",
   "execution_count": 17,
   "outputs": [
    {
     "data": {
      "text/plain": "чёрный         15571\nбелый          11411\nсеребристый     8116\nсерый           6558\nсиний           5914\nкрасный         3199\nкоричневый      2505\nзелёный         1958\nбежевый         1255\nголубой          848\nзолотистый       630\nпурпурный        569\nфиолетовый       452\nжёлтый           420\nоранжевый        337\nрозовый           19\nName: color, dtype: int64"
     },
     "execution_count": 17,
     "metadata": {},
     "output_type": "execute_result"
    }
   ],
   "source": [
    "#Removing the color_hex feature\n",
    "train.drop(['color_hex'], axis=1, inplace=True)\n",
    "train['color'].value_counts()\n"
   ],
   "metadata": {
    "collapsed": false,
    "pycharm": {
     "name": "#%%\n"
    }
   }
  },
  {
   "cell_type": "markdown",
   "source": [
    "### engineDisplacement of training dataset to same data format"
   ],
   "metadata": {
    "collapsed": false
   }
  },
  {
   "cell_type": "code",
   "execution_count": 18,
   "outputs": [],
   "source": [
    "def float_value(feature):\n",
    "    pattern = re.compile('([^\\d.]+)')\n",
    "    feature = feature.replace(pattern, '')\n",
    "    oft_value = feature.value_counts(sort=True).keys()[0]\n",
    "    feature = feature.replace('', oft_value).astype(float, errors = 'raise')\n",
    "    return feature"
   ],
   "metadata": {
    "collapsed": false,
    "pycharm": {
     "name": "#%%\n"
    }
   }
  },
  {
   "cell_type": "code",
   "execution_count": 19,
   "outputs": [
    {
     "name": "stdout",
     "output_type": "stream",
     "text": [
      "train dataset\n"
     ]
    },
    {
     "data": {
      "text/plain": "1.6    14393\n2.0    11872\n3.0     4557\n1.4     3918\n1.8     3910\n       ...  \n6.6        2\n8.1        2\n6.3        1\n6.5        1\n7.0        1\nName: engineDisplacement, Length: 65, dtype: int64"
     },
     "execution_count": 19,
     "metadata": {},
     "output_type": "execute_result"
    }
   ],
   "source": [
    "print('train dataset')\n",
    "train['engineDisplacement'] = round(float_value(train['engineDisplacement'])/1000,1)\n",
    "train['engineDisplacement'].value_counts(sort=True)"
   ],
   "metadata": {
    "collapsed": false,
    "pycharm": {
     "name": "#%%\n"
    }
   }
  },
  {
   "cell_type": "code",
   "execution_count": 20,
   "outputs": [
    {
     "name": "stdout",
     "output_type": "stream",
     "text": [
      "test dataset\n"
     ]
    },
    {
     "data": {
      "text/plain": "2.0    7446\n1.6    4973\n3.0    3915\n1.8    3349\n2.5    2477\n2.4    1745\n3.5    1710\n1.4    1635\n1.5     725\n1.2     485\n4.4     447\n2.8     384\n4.7     377\n1.3     365\n5.5     361\n4.0     356\n3.2     348\n4.5     346\n2.1     271\n3.7     242\n2.2     236\n4.2     228\n1.9     221\n2.3     203\n2.7     189\n3.6     183\n5.6     170\n5.0     158\n5.7     135\n2.9     131\n4.6     108\n3.1      88\n4.8      84\n1.7      59\n3.8      57\n1.0      57\n2.6      55\n6.0      53\n0.7      53\n3.3      44\n3.4      36\n4.1      35\n4.3      32\n5.4      31\n6.2      28\n5.9      12\n5.2      12\n6.3       8\n5.8       7\n6.6       6\n1.1       4\n4.9       4\n3.9       1\n5.3       1\nName: engineDisplacement, dtype: int64"
     },
     "execution_count": 20,
     "metadata": {},
     "output_type": "execute_result"
    }
   ],
   "source": [
    "print('test dataset')\n",
    "test['engineDisplacement'] = float_value(test['engineDisplacement'])\n",
    "test['engineDisplacement'].value_counts(sort=True)"
   ],
   "metadata": {
    "collapsed": false,
    "pycharm": {
     "name": "#%%\n"
    }
   }
  },
  {
   "cell_type": "markdown",
   "source": [
    "### enginePower from training dataset to same data format"
   ],
   "metadata": {
    "collapsed": false
   }
  },
  {
   "cell_type": "code",
   "execution_count": 21,
   "outputs": [
    {
     "name": "stdout",
     "output_type": "stream",
     "text": [
      "train dataset\n"
     ]
    },
    {
     "data": {
      "text/plain": "150    4541\n249    2236\n140    1777\n105    1613\n123    1473\n       ... \n714       1\n457       1\n489       1\n700       1\n311       1\nName: enginePower, Length: 395, dtype: int64"
     },
     "execution_count": 21,
     "metadata": {},
     "output_type": "execute_result"
    }
   ],
   "source": [
    "print('train dataset')\n",
    "#train['enginePower'].value_counts(sort=True)\n",
    "train['enginePower'] = float_value(train['enginePower']).astype(int)\n",
    "train['enginePower'].value_counts(sort=True)"
   ],
   "metadata": {
    "collapsed": false,
    "pycharm": {
     "name": "#%%\n"
    }
   }
  },
  {
   "cell_type": "code",
   "execution_count": 22,
   "outputs": [
    {
     "name": "stdout",
     "output_type": "stream",
     "text": [
      "test dataset\n"
     ]
    },
    {
     "data": {
      "text/plain": "249    1708\n150    1699\n110    1039\n170     977\n105     955\n       ... \n338       1\n402       1\n626       1\n630       1\n639       1\nName: enginePower, Length: 315, dtype: int64"
     },
     "execution_count": 22,
     "metadata": {},
     "output_type": "execute_result"
    }
   ],
   "source": [
    "print('test dataset')\n",
    "#test['enginePower'].value_counts(sort=True)\n",
    "test['enginePower'] = round(float_value(test['enginePower'])/100,0).astype(int)\n",
    "test['enginePower'].value_counts(sort=True)"
   ],
   "metadata": {
    "collapsed": false,
    "pycharm": {
     "name": "#%%\n"
    }
   }
  },
  {
   "cell_type": "markdown",
   "source": [
    "### fuelType from training dataset to same language"
   ],
   "metadata": {
    "collapsed": false
   }
  },
  {
   "cell_type": "code",
   "execution_count": 23,
   "outputs": [],
   "source": [
    "#fuelType_dictionary initialization\n",
    "fuelType_dict = {}\n",
    "keys = train['fuelType'].value_counts(dropna=False).keys().tolist()\n",
    "values = test['fuelType'].value_counts(dropna=False).keys().tolist()\n",
    "fuelType_dict = dict(zip(keys, values))\n",
    "\n",
    "train['fuelType'] = train['fuelType'].map(fuelType_dict)"
   ],
   "metadata": {
    "collapsed": false,
    "pycharm": {
     "name": "#%%\n"
    }
   }
  },
  {
   "cell_type": "code",
   "execution_count": 24,
   "outputs": [
    {
     "name": "stdout",
     "output_type": "stream",
     "text": [
      "test dataset\n"
     ]
    },
    {
     "data": {
      "text/plain": "бензин     28601\nдизель      5800\nгибрид       223\nэлектро       55\nгаз            7\nName: fuelType, dtype: int64"
     },
     "execution_count": 24,
     "metadata": {},
     "output_type": "execute_result"
    }
   ],
   "source": [
    "print('test dataset')\n",
    "test['fuelType'].value_counts()"
   ],
   "metadata": {
    "collapsed": false,
    "pycharm": {
     "name": "#%%\n"
    }
   }
  },
  {
   "cell_type": "code",
   "execution_count": 25,
   "outputs": [
    {
     "name": "stdout",
     "output_type": "stream",
     "text": [
      "train dataset\n"
     ]
    },
    {
     "data": {
      "text/plain": "бензин     50893\nдизель      8452\nгибрид       244\nэлектро      164\nгаз            8\nName: fuelType, dtype: int64"
     },
     "execution_count": 25,
     "metadata": {},
     "output_type": "execute_result"
    }
   ],
   "source": [
    "print('train dataset')\n",
    "train['fuelType'].value_counts()"
   ],
   "metadata": {
    "collapsed": false,
    "pycharm": {
     "name": "#%%\n"
    }
   }
  },
  {
   "cell_type": "markdown",
   "source": [
    "### modelDate\n",
    "_from object to int dtype_"
   ],
   "metadata": {
    "collapsed": false
   }
  },
  {
   "cell_type": "code",
   "execution_count": 26,
   "outputs": [],
   "source": [
    "train['modelDate'] = float_value(train['modelDate']).astype('int64')"
   ],
   "metadata": {
    "collapsed": false,
    "pycharm": {
     "name": "#%%\n"
    }
   }
  },
  {
   "cell_type": "code",
   "execution_count": 27,
   "outputs": [
    {
     "name": "stdout",
     "output_type": "stream",
     "text": [
      "train dataset\n"
     ]
    },
    {
     "data": {
      "text/plain": "dtype('int64')"
     },
     "execution_count": 27,
     "metadata": {},
     "output_type": "execute_result"
    }
   ],
   "source": [
    "print('train dataset')\n",
    "train['modelDate'].dtype"
   ],
   "metadata": {
    "collapsed": false,
    "pycharm": {
     "name": "#%%\n"
    }
   }
  },
  {
   "cell_type": "code",
   "execution_count": 28,
   "outputs": [
    {
     "name": "stdout",
     "output_type": "stream",
     "text": [
      "test dataset\n"
     ]
    },
    {
     "data": {
      "text/plain": "dtype('int64')"
     },
     "execution_count": 28,
     "metadata": {},
     "output_type": "execute_result"
    }
   ],
   "source": [
    "print('test dataset')\n",
    "test['modelDate'].dtype"
   ],
   "metadata": {
    "collapsed": false,
    "pycharm": {
     "name": "#%%\n"
    }
   }
  },
  {
   "cell_type": "markdown",
   "source": [
    "### numberOfDoors\n",
    "_from object to int dtype_"
   ],
   "metadata": {
    "collapsed": false
   }
  },
  {
   "cell_type": "code",
   "execution_count": 29,
   "outputs": [
    {
     "name": "stdout",
     "output_type": "stream",
     "text": [
      "train dataset\n"
     ]
    },
    {
     "data": {
      "text/plain": "dtype('int64')"
     },
     "execution_count": 29,
     "metadata": {},
     "output_type": "execute_result"
    }
   ],
   "source": [
    "print('train dataset')\n",
    "train['numberOfDoors'] = float_value(train['numberOfDoors']).astype('int64')\n",
    "train['numberOfDoors'].dtype"
   ],
   "metadata": {
    "collapsed": false,
    "pycharm": {
     "name": "#%%\n"
    }
   }
  },
  {
   "cell_type": "code",
   "execution_count": 30,
   "outputs": [
    {
     "name": "stdout",
     "output_type": "stream",
     "text": [
      "test dataset\n"
     ]
    },
    {
     "data": {
      "text/plain": "dtype('int64')"
     },
     "execution_count": 30,
     "metadata": {},
     "output_type": "execute_result"
    }
   ],
   "source": [
    "print('test dataset')\n",
    "test['numberOfDoors'].dtype"
   ],
   "metadata": {
    "collapsed": false,
    "pycharm": {
     "name": "#%%\n"
    }
   }
  },
  {
   "cell_type": "markdown",
   "source": [
    "### vehicleTransmission\n",
    "_from training dataset to same language_"
   ],
   "metadata": {
    "collapsed": false
   }
  },
  {
   "cell_type": "code",
   "execution_count": 31,
   "outputs": [],
   "source": [
    "#vehicleTransmission_dictionary initialization\n",
    "vehicleTransmission_dict = {}\n",
    "keys = train['vehicleTransmission'].value_counts(dropna=False).keys().tolist()\n",
    "values = test['vehicleTransmission'].value_counts(dropna=False).keys().tolist()\n",
    "vehicleTransmission_dict = dict(zip(keys, values))\n",
    "\n",
    "train['vehicleTransmission'] = train['vehicleTransmission'].map(vehicleTransmission_dict)"
   ],
   "metadata": {
    "collapsed": false,
    "pycharm": {
     "name": "#%%\n"
    }
   }
  },
  {
   "cell_type": "code",
   "execution_count": 32,
   "outputs": [
    {
     "name": "stdout",
     "output_type": "stream",
     "text": [
      "test dataset\n"
     ]
    },
    {
     "data": {
      "text/plain": "автоматическая      19596\nмеханическая         7209\nвариатор             3999\nроботизированная     3882\nName: vehicleTransmission, dtype: int64"
     },
     "execution_count": 32,
     "metadata": {},
     "output_type": "execute_result"
    }
   ],
   "source": [
    "print('test dataset')\n",
    "test['vehicleTransmission'].value_counts(sort=True)"
   ],
   "metadata": {
    "collapsed": false,
    "pycharm": {
     "name": "#%%\n"
    }
   }
  },
  {
   "cell_type": "code",
   "execution_count": 33,
   "outputs": [
    {
     "name": "stdout",
     "output_type": "stream",
     "text": [
      "train dataset\n"
     ]
    },
    {
     "data": {
      "text/plain": "автоматическая      30905\nмеханическая        19672\nвариатор             5342\nроботизированная     3842\nName: vehicleTransmission, dtype: int64"
     },
     "execution_count": 33,
     "metadata": {},
     "output_type": "execute_result"
    }
   ],
   "source": [
    "print('train dataset')\n",
    "train['vehicleTransmission'].value_counts(sort=True)"
   ],
   "metadata": {
    "collapsed": false,
    "pycharm": {
     "name": "#%%\n"
    }
   }
  },
  {
   "cell_type": "markdown",
   "source": [
    "### Владельцы\n",
    "_from object to int dtype_"
   ],
   "metadata": {
    "collapsed": false
   }
  },
  {
   "cell_type": "code",
   "execution_count": 34,
   "outputs": [
    {
     "name": "stdout",
     "output_type": "stream",
     "text": [
      "train dataset\n"
     ]
    },
    {
     "data": {
      "text/plain": "1    18079\n2    15611\n3    14383\n4    11689\nName: Владельцы, dtype: int64"
     },
     "execution_count": 34,
     "metadata": {},
     "output_type": "execute_result"
    }
   ],
   "source": [
    "print('train dataset')\n",
    "train['Владельцы'] = float_value(train['Владельцы']).astype(int)\n",
    "train['Владельцы'].value_counts(sort=True)"
   ],
   "metadata": {
    "collapsed": false,
    "pycharm": {
     "name": "#%%\n"
    }
   }
  },
  {
   "cell_type": "code",
   "execution_count": 35,
   "outputs": [
    {
     "name": "stdout",
     "output_type": "stream",
     "text": [
      "test dataset\n"
     ]
    },
    {
     "data": {
      "text/plain": "1    10428\n2     9138\n3     8319\n4     6801\nName: Владельцы, dtype: int64"
     },
     "execution_count": 35,
     "metadata": {},
     "output_type": "execute_result"
    }
   ],
   "source": [
    "print('test dataset')\n",
    "test['Владельцы'] = float_value(train['Владельцы']).astype(int)\n",
    "test['Владельцы'].value_counts(sort=True)"
   ],
   "metadata": {
    "collapsed": false,
    "pycharm": {
     "name": "#%%\n"
    }
   }
  },
  {
   "cell_type": "markdown",
   "source": [
    "### ПТС\n",
    "_from training dataset to same language_"
   ],
   "metadata": {
    "collapsed": false
   }
  },
  {
   "cell_type": "code",
   "execution_count": 36,
   "outputs": [
    {
     "name": "stdout",
     "output_type": "stream",
     "text": [
      "test dataset\n"
     ]
    },
    {
     "data": {
      "text/plain": "Оригинал    30098\nДубликат     4587\nName: ПТС, dtype: int64"
     },
     "execution_count": 36,
     "metadata": {},
     "output_type": "execute_result"
    }
   ],
   "source": [
    "print('test dataset')\n",
    "orig = test['ПТС'].value_counts(sort=True).keys()[0]\n",
    "test['ПТС'].value_counts(sort=True)"
   ],
   "metadata": {
    "collapsed": false,
    "pycharm": {
     "name": "#%%\n"
    }
   }
  },
  {
   "cell_type": "code",
   "execution_count": 37,
   "outputs": [
    {
     "name": "stdout",
     "output_type": "stream",
     "text": [
      "train dataset\n"
     ]
    },
    {
     "data": {
      "text/plain": "Оригинал    51514\nДубликат     8248\nName: ПТС, dtype: int64"
     },
     "execution_count": 37,
     "metadata": {},
     "output_type": "execute_result"
    }
   ],
   "source": [
    "print('train dataset')\n",
    "orig = train['ПТС'].value_counts(sort=True).keys()[0]\n",
    "train['ПТС'] = train['ПТС'].map(lambda x: 'Оригинал' if x == orig else 'Дубликат')\n",
    "train['ПТС'].value_counts(sort=True)"
   ],
   "metadata": {
    "collapsed": false,
    "pycharm": {
     "name": "#%%\n"
    }
   }
  },
  {
   "cell_type": "markdown",
   "source": [
    "### Привод\n",
    "_from training dataset to same language_"
   ],
   "metadata": {
    "collapsed": false
   }
  },
  {
   "cell_type": "code",
   "execution_count": 38,
   "outputs": [
    {
     "name": "stdout",
     "output_type": "stream",
     "text": [
      "test dataset\n"
     ]
    },
    {
     "data": {
      "text/plain": "передний    15565\nполный      15020\nзадний       4101\nName: Привод, dtype: int64"
     },
     "execution_count": 38,
     "metadata": {},
     "output_type": "execute_result"
    }
   ],
   "source": [
    "print('test dataset')\n",
    "test['Привод'].value_counts(sort=True)"
   ],
   "metadata": {
    "collapsed": false,
    "pycharm": {
     "name": "#%%\n"
    }
   }
  },
  {
   "cell_type": "code",
   "execution_count": 39,
   "outputs": [
    {
     "name": "stdout",
     "output_type": "stream",
     "text": [
      "train dataset\n"
     ]
    },
    {
     "data": {
      "text/plain": "передний    33191\nполный      21982\nзадний       4588\nName: Привод, dtype: int64"
     },
     "execution_count": 39,
     "metadata": {},
     "output_type": "execute_result"
    }
   ],
   "source": [
    "print('train dataset')\n",
    "train['Привод'].value_counts(sort=True)\n",
    "\n",
    "#drive_type_dictionary initialization\n",
    "drive_type_dict = {}\n",
    "keys = train['Привод'].value_counts(dropna=False).keys().tolist()\n",
    "values = test['Привод'].value_counts(dropna=False).keys().tolist()\n",
    "drive_type_dict = dict(zip(keys, values))\n",
    "\n",
    "train['Привод'] = train['Привод'].map(drive_type_dict)\n",
    "train['Привод'].value_counts(sort=True)"
   ],
   "metadata": {
    "collapsed": false,
    "pycharm": {
     "name": "#%%\n"
    }
   }
  },
  {
   "cell_type": "markdown",
   "source": [
    "### Руль\n",
    "_from training dataset to same language_"
   ],
   "metadata": {
    "collapsed": false
   }
  },
  {
   "cell_type": "code",
   "execution_count": 40,
   "outputs": [
    {
     "name": "stdout",
     "output_type": "stream",
     "text": [
      "test dataset\n"
     ]
    },
    {
     "data": {
      "text/plain": "Левый     33287\nПравый     1399\nName: Руль, dtype: int64"
     },
     "execution_count": 40,
     "metadata": {},
     "output_type": "execute_result"
    }
   ],
   "source": [
    "print('test dataset')\n",
    "test['Руль'].value_counts(sort=True)"
   ],
   "metadata": {
    "collapsed": false,
    "pycharm": {
     "name": "#%%\n"
    }
   }
  },
  {
   "cell_type": "code",
   "execution_count": 41,
   "outputs": [
    {
     "name": "stdout",
     "output_type": "stream",
     "text": [
      "train dataset\n"
     ]
    },
    {
     "data": {
      "text/plain": "LEFT     58417\nRIGHT     1345\nName: Руль, dtype: int64"
     },
     "execution_count": 41,
     "metadata": {},
     "output_type": "execute_result"
    }
   ],
   "source": [
    "\n",
    "print('train dataset')\n",
    "train['Руль'].value_counts(sort=True)\n"
   ],
   "metadata": {
    "collapsed": false,
    "pycharm": {
     "name": "#%%\n"
    }
   }
  },
  {
   "cell_type": "code",
   "execution_count": 42,
   "outputs": [],
   "source": [
    "left = train['Руль'].value_counts(sort=True).keys()[0]"
   ],
   "metadata": {
    "collapsed": false,
    "pycharm": {
     "name": "#%%\n"
    }
   }
  },
  {
   "cell_type": "code",
   "execution_count": 43,
   "outputs": [
    {
     "data": {
      "text/plain": "Левый     58417\nПравый     1345\nName: Руль, dtype: int64"
     },
     "execution_count": 43,
     "metadata": {},
     "output_type": "execute_result"
    }
   ],
   "source": [
    "train['Руль'] = train['Руль'].map(lambda x: 'Левый' if x == left else 'Правый')\n",
    "train['Руль'].value_counts(sort=True)"
   ],
   "metadata": {
    "collapsed": false,
    "pycharm": {
     "name": "#%%\n"
    }
   }
  },
  {
   "cell_type": "markdown",
   "source": [
    "### Состояние\n",
    "_from training dataset to same language_"
   ],
   "metadata": {
    "collapsed": false
   }
  },
  {
   "cell_type": "code",
   "execution_count": 44,
   "outputs": [
    {
     "name": "stdout",
     "output_type": "stream",
     "text": [
      "test dataset\n"
     ]
    },
    {
     "data": {
      "text/plain": "Не требует ремонта    34686\nName: Состояние, dtype: int64"
     },
     "execution_count": 44,
     "metadata": {},
     "output_type": "execute_result"
    }
   ],
   "source": [
    "print('test dataset')\n",
    "test['Состояние'].value_counts()"
   ],
   "metadata": {
    "collapsed": false,
    "pycharm": {
     "name": "#%%\n"
    }
   }
  },
  {
   "cell_type": "code",
   "execution_count": 45,
   "outputs": [
    {
     "name": "stdout",
     "output_type": "stream",
     "text": [
      "train dataset\n"
     ]
    },
    {
     "data": {
      "text/plain": "True    59762\nName: Состояние, dtype: int64"
     },
     "execution_count": 45,
     "metadata": {},
     "output_type": "execute_result"
    }
   ],
   "source": [
    "print('train dataset')\n",
    "train['Состояние'].value_counts()"
   ],
   "metadata": {
    "collapsed": false,
    "pycharm": {
     "name": "#%%\n"
    }
   }
  },
  {
   "cell_type": "code",
   "execution_count": 46,
   "outputs": [
    {
     "data": {
      "text/plain": "Не требует ремонта    59762\nName: Состояние, dtype: int64"
     },
     "execution_count": 46,
     "metadata": {},
     "output_type": "execute_result"
    }
   ],
   "source": [
    "train['Состояние'] = test['Состояние'].value_counts().keys()[0]\n",
    "train['Состояние'].value_counts()"
   ],
   "metadata": {
    "collapsed": false,
    "pycharm": {
     "name": "#%%\n"
    }
   }
  },
  {
   "cell_type": "markdown",
   "source": [
    "### Таможня\n",
    "_from training dataset to same language_"
   ],
   "metadata": {
    "collapsed": false
   }
  },
  {
   "cell_type": "code",
   "execution_count": 47,
   "outputs": [
    {
     "name": "stdout",
     "output_type": "stream",
     "text": [
      "test dataset\n"
     ]
    },
    {
     "data": {
      "text/plain": "Растаможен    34686\nName: Таможня, dtype: int64"
     },
     "execution_count": 47,
     "metadata": {},
     "output_type": "execute_result"
    }
   ],
   "source": [
    "print('test dataset')\n",
    "test['Таможня'].value_counts()"
   ],
   "metadata": {
    "collapsed": false,
    "pycharm": {
     "name": "#%%\n"
    }
   }
  },
  {
   "cell_type": "code",
   "execution_count": 48,
   "outputs": [
    {
     "name": "stdout",
     "output_type": "stream",
     "text": [
      "train dataset\n"
     ]
    },
    {
     "data": {
      "text/plain": "True    59762\nName: Таможня, dtype: int64"
     },
     "execution_count": 48,
     "metadata": {},
     "output_type": "execute_result"
    }
   ],
   "source": [
    "print('train dataset')\n",
    "train['Таможня'].value_counts()"
   ],
   "metadata": {
    "collapsed": false,
    "pycharm": {
     "name": "#%%\n"
    }
   }
  },
  {
   "cell_type": "code",
   "execution_count": 49,
   "outputs": [
    {
     "data": {
      "text/plain": "Растаможен    59762\nName: Таможня, dtype: int64"
     },
     "execution_count": 49,
     "metadata": {},
     "output_type": "execute_result"
    }
   ],
   "source": [
    "train['Таможня'] = test['Таможня'].value_counts().keys()[0]\n",
    "train['Таможня'].value_counts()"
   ],
   "metadata": {
    "collapsed": false,
    "pycharm": {
     "name": "#%%\n"
    }
   }
  },
  {
   "cell_type": "markdown",
   "source": [
    "### price is the target feature"
   ],
   "metadata": {
    "collapsed": false
   }
  },
  {
   "cell_type": "code",
   "execution_count": 50,
   "outputs": [],
   "source": [
    "train['price'] = float_value(train['price']).astype(int)\n",
    "#y_train = train['price']\n",
    "#train = train.drop(['price'], axis = 1)"
   ],
   "metadata": {
    "collapsed": false,
    "pycharm": {
     "name": "#%%\n"
    }
   }
  },
  {
   "cell_type": "markdown",
   "source": [
    "### car_url\n",
    "the car_url feature for further ML modeling doesn't matter and has to be removed anyway."
   ],
   "metadata": {
    "collapsed": false
   }
  },
  {
   "cell_type": "code",
   "execution_count": 51,
   "outputs": [],
   "source": [
    "test.drop(['car_url'], axis=1, inplace=True)"
   ],
   "metadata": {
    "collapsed": false,
    "pycharm": {
     "name": "#%%\n"
    }
   }
  },
  {
   "cell_type": "markdown",
   "source": [
    "### sell_id\n",
    "_it doesn't bring any useful information. That's why it has be removed from both datasets._"
   ],
   "metadata": {
    "collapsed": false
   }
  },
  {
   "cell_type": "code",
   "execution_count": 52,
   "outputs": [],
   "source": [
    "test.drop(['sell_id'], axis=1, inplace=True)\n",
    "train.drop(['sell_id'], axis=1, inplace=True)"
   ],
   "metadata": {
    "collapsed": false,
    "pycharm": {
     "name": "#%%\n"
    }
   }
  },
  {
   "cell_type": "code",
   "execution_count": 1095,
   "outputs": [
    {
     "name": "stdout",
     "output_type": "stream",
     "text": [
      "<class 'pandas.core.frame.DataFrame'>\n",
      "RangeIndex: 59762 entries, 0 to 59761\n",
      "Data columns (total 31 columns):\n",
      " #   Column                Non-Null Count  Dtype  \n",
      "---  ------                --------------  -----  \n",
      " 0   bodyType              59761 non-null  object \n",
      " 1   brand                 59762 non-null  object \n",
      " 2   color                 59762 non-null  object \n",
      " 3   complectation_dict    59762 non-null  object \n",
      " 4   description           59762 non-null  object \n",
      " 5   engineDisplacement    59762 non-null  float64\n",
      " 6   enginePower           59762 non-null  int32  \n",
      " 7   equipment_dict        59762 non-null  object \n",
      " 8   fuelType              59761 non-null  object \n",
      " 9   image                 59762 non-null  object \n",
      " 10  mileage               59762 non-null  int64  \n",
      " 11  modelDate             59762 non-null  int64  \n",
      " 12  model_info            59762 non-null  object \n",
      " 13  model_name            59762 non-null  object \n",
      " 14  name                  59762 non-null  object \n",
      " 15  numberOfDoors         59762 non-null  int64  \n",
      " 16  parsing_unixtime      59762 non-null  int64  \n",
      " 17  price                 59762 non-null  int32  \n",
      " 18  priceCurrency         59762 non-null  object \n",
      " 19  productionDate        59762 non-null  int64  \n",
      " 20  super_gen             59762 non-null  object \n",
      " 21  vehicleConfiguration  59762 non-null  object \n",
      " 22  vehicleTransmission   59761 non-null  object \n",
      " 23  vendor                59762 non-null  object \n",
      " 24  Владельцы             59762 non-null  int32  \n",
      " 25  Владение              59762 non-null  object \n",
      " 26  ПТС                   59762 non-null  object \n",
      " 27  Привод                59761 non-null  object \n",
      " 28  Руль                  59762 non-null  object \n",
      " 29  Состояние             59762 non-null  object \n",
      " 30  Таможня               59762 non-null  object \n",
      "dtypes: float64(1), int32(3), int64(5), object(22)\n",
      "memory usage: 13.5+ MB\n"
     ]
    }
   ],
   "source": [
    "train.info()"
   ],
   "metadata": {
    "collapsed": false,
    "pycharm": {
     "name": "#%%\n"
    }
   }
  },
  {
   "cell_type": "code",
   "execution_count": 53,
   "outputs": [
    {
     "data": {
      "text/plain": "           feature_train type_train  \\\n0               bodyType     object   \n1                  brand     object   \n2                  color     object   \n3     complectation_dict     object   \n4            description     object   \n5     engineDisplacement    float64   \n6            enginePower      int32   \n7         equipment_dict     object   \n8               fuelType     object   \n9                  image     object   \n10               mileage      int64   \n11             modelDate      int64   \n12            model_info     object   \n13            model_name     object   \n14                  name     object   \n15         numberOfDoors      int64   \n16      parsing_unixtime      int64   \n17                 price      int32   \n18         priceCurrency     object   \n19        productionDate      int64   \n20             super_gen     object   \n21  vehicleConfiguration     object   \n22   vehicleTransmission     object   \n23                vendor     object   \n24             Владельцы      int32   \n25              Владение     object   \n26                   ПТС     object   \n27                Привод     object   \n28                  Руль     object   \n29             Состояние     object   \n30               Таможня     object   \n\n                                         sample_train  < - >  \\\n0                                       хэтчбек 5 дв.  | - |   \n1                                          ALFA_ROMEO  | - |   \n2                                               белый  | - |   \n3                                         {'id': '0'}  | - |   \n4   РОЛЬФ Алтуфьево — это целых 30 лет успешной по...  | - |   \n5                                                 1.4  | - |   \n6                                                 170  | - |   \n7   {'cruise-control': True, 'asr': True, 'esp': T...  | - |   \n8                                              бензин  | - |   \n9   //avatars.mds.yandex.net/get-autoru-vos/392674...  | - |   \n10                                              42500  | - |   \n11                                               2010  | - |   \n12  {'code': 'GIULIETTA', 'name': 'Giulietta', 'ru...  | - |   \n13                                          Giulietta  | - |   \n14                                 1.4 AMT (170 л.с.)  | - |   \n15                                                  5  | - |   \n16                                         1629806291  | - |   \n17                                            1300000  | - |   \n18                                                RUR  | - |   \n19                                               2014  | - |   \n20  {'id': '8484175', 'name': 'III', 'ru_name': '3...  | - |   \n21  1.4 AMT (170 л.с.), хэтчбек 5 дв., передний, б...  | - |   \n22                                           вариатор  | - |   \n23                                           EUROPEAN  | - |   \n24                                                  1  | - |   \n25                                                 12  | - |   \n26                                           Оригинал  | - |   \n27                                           передний  | - |   \n28                                              Левый  | - |   \n29                                 Не требует ремонта  | - |   \n30                                         Растаможен  | - |   \n\n            feature_test type_test  \\\n0               bodyType    object   \n1                  brand    object   \n2                  color    object   \n3     complectation_dict    object   \n4            description    object   \n5     engineDisplacement   float64   \n6            enginePower     int32   \n7         equipment_dict    object   \n8               fuelType    object   \n9                  image    object   \n10               mileage     int64   \n11             modelDate     int64   \n12            model_info    object   \n13            model_name    object   \n14                  name    object   \n15         numberOfDoors     int64   \n16      parsing_unixtime     int64   \n17                   NaN       NaN   \n18         priceCurrency    object   \n19        productionDate     int64   \n20             super_gen    object   \n21  vehicleConfiguration    object   \n22   vehicleTransmission    object   \n23                vendor    object   \n24             Владельцы     int32   \n25              Владение    object   \n26                   ПТС    object   \n27                Привод    object   \n28                  Руль    object   \n29             Состояние    object   \n30               Таможня    object   \n\n                                          sample_test  \n0                                             лифтбек  \n1                                               SKODA  \n2                                               серый  \n3   {\"id\":\"5011515\",\"name\":\"RS\",\"available_options...  \n4   Продаю свой автомобиль! Автомобиль полностью и...  \n5                                                 2.0  \n6                                                 200  \n7   {\"cruise-control\":true,\"tinted-glass\":true,\"es...  \n8                                              бензин  \n9   https://avatars.mds.yandex.net/get-autoru-vos/...  \n10                                             172000  \n11                                               2008  \n12  {\"code\":\"OCTAVIA_RS\",\"name\":\"Octavia RS\",\"ru_n...  \n13                                         OCTAVIA_RS  \n14                                 2.0 AMT (200 л.с.)  \n15                                                  5  \n16                                         1603226291  \n17                                                NaN  \n18                                                RUB  \n19                                               2012  \n20  {\"id\":\"5009158\",\"displacement\":1984,\"engine_ty...  \n21                                 LIFTBACK ROBOT 2.0  \n22                                   роботизированная  \n23                                           EUROPEAN  \n24                                                  1  \n25                                                NaN  \n26                                           Оригинал  \n27                                           передний  \n28                                              Левый  \n29                                 Не требует ремонта  \n30                                         Растаможен  ",
      "text/html": "<div>\n<style scoped>\n    .dataframe tbody tr th:only-of-type {\n        vertical-align: middle;\n    }\n\n    .dataframe tbody tr th {\n        vertical-align: top;\n    }\n\n    .dataframe thead th {\n        text-align: right;\n    }\n</style>\n<table border=\"1\" class=\"dataframe\">\n  <thead>\n    <tr style=\"text-align: right;\">\n      <th></th>\n      <th>feature_train</th>\n      <th>type_train</th>\n      <th>sample_train</th>\n      <th>&lt; - &gt;</th>\n      <th>feature_test</th>\n      <th>type_test</th>\n      <th>sample_test</th>\n    </tr>\n  </thead>\n  <tbody>\n    <tr>\n      <th>0</th>\n      <td>bodyType</td>\n      <td>object</td>\n      <td>хэтчбек 5 дв.</td>\n      <td>| - |</td>\n      <td>bodyType</td>\n      <td>object</td>\n      <td>лифтбек</td>\n    </tr>\n    <tr>\n      <th>1</th>\n      <td>brand</td>\n      <td>object</td>\n      <td>ALFA_ROMEO</td>\n      <td>| - |</td>\n      <td>brand</td>\n      <td>object</td>\n      <td>SKODA</td>\n    </tr>\n    <tr>\n      <th>2</th>\n      <td>color</td>\n      <td>object</td>\n      <td>белый</td>\n      <td>| - |</td>\n      <td>color</td>\n      <td>object</td>\n      <td>серый</td>\n    </tr>\n    <tr>\n      <th>3</th>\n      <td>complectation_dict</td>\n      <td>object</td>\n      <td>{'id': '0'}</td>\n      <td>| - |</td>\n      <td>complectation_dict</td>\n      <td>object</td>\n      <td>{\"id\":\"5011515\",\"name\":\"RS\",\"available_options...</td>\n    </tr>\n    <tr>\n      <th>4</th>\n      <td>description</td>\n      <td>object</td>\n      <td>РОЛЬФ Алтуфьево — это целых 30 лет успешной по...</td>\n      <td>| - |</td>\n      <td>description</td>\n      <td>object</td>\n      <td>Продаю свой автомобиль! Автомобиль полностью и...</td>\n    </tr>\n    <tr>\n      <th>5</th>\n      <td>engineDisplacement</td>\n      <td>float64</td>\n      <td>1.4</td>\n      <td>| - |</td>\n      <td>engineDisplacement</td>\n      <td>float64</td>\n      <td>2.0</td>\n    </tr>\n    <tr>\n      <th>6</th>\n      <td>enginePower</td>\n      <td>int32</td>\n      <td>170</td>\n      <td>| - |</td>\n      <td>enginePower</td>\n      <td>int32</td>\n      <td>200</td>\n    </tr>\n    <tr>\n      <th>7</th>\n      <td>equipment_dict</td>\n      <td>object</td>\n      <td>{'cruise-control': True, 'asr': True, 'esp': T...</td>\n      <td>| - |</td>\n      <td>equipment_dict</td>\n      <td>object</td>\n      <td>{\"cruise-control\":true,\"tinted-glass\":true,\"es...</td>\n    </tr>\n    <tr>\n      <th>8</th>\n      <td>fuelType</td>\n      <td>object</td>\n      <td>бензин</td>\n      <td>| - |</td>\n      <td>fuelType</td>\n      <td>object</td>\n      <td>бензин</td>\n    </tr>\n    <tr>\n      <th>9</th>\n      <td>image</td>\n      <td>object</td>\n      <td>//avatars.mds.yandex.net/get-autoru-vos/392674...</td>\n      <td>| - |</td>\n      <td>image</td>\n      <td>object</td>\n      <td>https://avatars.mds.yandex.net/get-autoru-vos/...</td>\n    </tr>\n    <tr>\n      <th>10</th>\n      <td>mileage</td>\n      <td>int64</td>\n      <td>42500</td>\n      <td>| - |</td>\n      <td>mileage</td>\n      <td>int64</td>\n      <td>172000</td>\n    </tr>\n    <tr>\n      <th>11</th>\n      <td>modelDate</td>\n      <td>int64</td>\n      <td>2010</td>\n      <td>| - |</td>\n      <td>modelDate</td>\n      <td>int64</td>\n      <td>2008</td>\n    </tr>\n    <tr>\n      <th>12</th>\n      <td>model_info</td>\n      <td>object</td>\n      <td>{'code': 'GIULIETTA', 'name': 'Giulietta', 'ru...</td>\n      <td>| - |</td>\n      <td>model_info</td>\n      <td>object</td>\n      <td>{\"code\":\"OCTAVIA_RS\",\"name\":\"Octavia RS\",\"ru_n...</td>\n    </tr>\n    <tr>\n      <th>13</th>\n      <td>model_name</td>\n      <td>object</td>\n      <td>Giulietta</td>\n      <td>| - |</td>\n      <td>model_name</td>\n      <td>object</td>\n      <td>OCTAVIA_RS</td>\n    </tr>\n    <tr>\n      <th>14</th>\n      <td>name</td>\n      <td>object</td>\n      <td>1.4 AMT (170 л.с.)</td>\n      <td>| - |</td>\n      <td>name</td>\n      <td>object</td>\n      <td>2.0 AMT (200 л.с.)</td>\n    </tr>\n    <tr>\n      <th>15</th>\n      <td>numberOfDoors</td>\n      <td>int64</td>\n      <td>5</td>\n      <td>| - |</td>\n      <td>numberOfDoors</td>\n      <td>int64</td>\n      <td>5</td>\n    </tr>\n    <tr>\n      <th>16</th>\n      <td>parsing_unixtime</td>\n      <td>int64</td>\n      <td>1629806291</td>\n      <td>| - |</td>\n      <td>parsing_unixtime</td>\n      <td>int64</td>\n      <td>1603226291</td>\n    </tr>\n    <tr>\n      <th>17</th>\n      <td>price</td>\n      <td>int32</td>\n      <td>1300000</td>\n      <td>| - |</td>\n      <td>NaN</td>\n      <td>NaN</td>\n      <td>NaN</td>\n    </tr>\n    <tr>\n      <th>18</th>\n      <td>priceCurrency</td>\n      <td>object</td>\n      <td>RUR</td>\n      <td>| - |</td>\n      <td>priceCurrency</td>\n      <td>object</td>\n      <td>RUB</td>\n    </tr>\n    <tr>\n      <th>19</th>\n      <td>productionDate</td>\n      <td>int64</td>\n      <td>2014</td>\n      <td>| - |</td>\n      <td>productionDate</td>\n      <td>int64</td>\n      <td>2012</td>\n    </tr>\n    <tr>\n      <th>20</th>\n      <td>super_gen</td>\n      <td>object</td>\n      <td>{'id': '8484175', 'name': 'III', 'ru_name': '3...</td>\n      <td>| - |</td>\n      <td>super_gen</td>\n      <td>object</td>\n      <td>{\"id\":\"5009158\",\"displacement\":1984,\"engine_ty...</td>\n    </tr>\n    <tr>\n      <th>21</th>\n      <td>vehicleConfiguration</td>\n      <td>object</td>\n      <td>1.4 AMT (170 л.с.), хэтчбек 5 дв., передний, б...</td>\n      <td>| - |</td>\n      <td>vehicleConfiguration</td>\n      <td>object</td>\n      <td>LIFTBACK ROBOT 2.0</td>\n    </tr>\n    <tr>\n      <th>22</th>\n      <td>vehicleTransmission</td>\n      <td>object</td>\n      <td>вариатор</td>\n      <td>| - |</td>\n      <td>vehicleTransmission</td>\n      <td>object</td>\n      <td>роботизированная</td>\n    </tr>\n    <tr>\n      <th>23</th>\n      <td>vendor</td>\n      <td>object</td>\n      <td>EUROPEAN</td>\n      <td>| - |</td>\n      <td>vendor</td>\n      <td>object</td>\n      <td>EUROPEAN</td>\n    </tr>\n    <tr>\n      <th>24</th>\n      <td>Владельцы</td>\n      <td>int32</td>\n      <td>1</td>\n      <td>| - |</td>\n      <td>Владельцы</td>\n      <td>int32</td>\n      <td>1</td>\n    </tr>\n    <tr>\n      <th>25</th>\n      <td>Владение</td>\n      <td>object</td>\n      <td>12</td>\n      <td>| - |</td>\n      <td>Владение</td>\n      <td>object</td>\n      <td>NaN</td>\n    </tr>\n    <tr>\n      <th>26</th>\n      <td>ПТС</td>\n      <td>object</td>\n      <td>Оригинал</td>\n      <td>| - |</td>\n      <td>ПТС</td>\n      <td>object</td>\n      <td>Оригинал</td>\n    </tr>\n    <tr>\n      <th>27</th>\n      <td>Привод</td>\n      <td>object</td>\n      <td>передний</td>\n      <td>| - |</td>\n      <td>Привод</td>\n      <td>object</td>\n      <td>передний</td>\n    </tr>\n    <tr>\n      <th>28</th>\n      <td>Руль</td>\n      <td>object</td>\n      <td>Левый</td>\n      <td>| - |</td>\n      <td>Руль</td>\n      <td>object</td>\n      <td>Левый</td>\n    </tr>\n    <tr>\n      <th>29</th>\n      <td>Состояние</td>\n      <td>object</td>\n      <td>Не требует ремонта</td>\n      <td>| - |</td>\n      <td>Состояние</td>\n      <td>object</td>\n      <td>Не требует ремонта</td>\n    </tr>\n    <tr>\n      <th>30</th>\n      <td>Таможня</td>\n      <td>object</td>\n      <td>Растаможен</td>\n      <td>| - |</td>\n      <td>Таможня</td>\n      <td>object</td>\n      <td>Растаможен</td>\n    </tr>\n  </tbody>\n</table>\n</div>"
     },
     "metadata": {},
     "output_type": "display_data"
    },
    {
     "name": "stdout",
     "output_type": "stream",
     "text": [
      "The data types are different in 1 columns\n",
      "\n"
     ]
    },
    {
     "data": {
      "text/plain": "      feature_train   divergences  feature_test\nindex                                          \n17            price  int32 != nan           NaN",
      "text/html": "<div>\n<style scoped>\n    .dataframe tbody tr th:only-of-type {\n        vertical-align: middle;\n    }\n\n    .dataframe tbody tr th {\n        vertical-align: top;\n    }\n\n    .dataframe thead th {\n        text-align: right;\n    }\n</style>\n<table border=\"1\" class=\"dataframe\">\n  <thead>\n    <tr style=\"text-align: right;\">\n      <th></th>\n      <th>feature_train</th>\n      <th>divergences</th>\n      <th>feature_test</th>\n    </tr>\n    <tr>\n      <th>index</th>\n      <th></th>\n      <th></th>\n      <th></th>\n    </tr>\n  </thead>\n  <tbody>\n    <tr>\n      <th>17</th>\n      <td>price</td>\n      <td>int32 != nan</td>\n      <td>NaN</td>\n    </tr>\n  </tbody>\n</table>\n</div>"
     },
     "metadata": {},
     "output_type": "display_data"
    }
   ],
   "source": [
    "#check\n",
    "check_df_before_merg(train, test)"
   ],
   "metadata": {
    "collapsed": false,
    "pycharm": {
     "name": "#%%\n"
    }
   }
  },
  {
   "cell_type": "markdown",
   "source": [
    "## _Now, the training and testing datasets have been brought to same format_"
   ],
   "metadata": {
    "collapsed": false
   }
  },
  {
   "cell_type": "markdown",
   "source": [
    "## save to csv file"
   ],
   "metadata": {
    "collapsed": false
   }
  },
  {
   "cell_type": "code",
   "execution_count": 54,
   "outputs": [],
   "source": [
    "#save the dataframe to file\n",
    "\n",
    "today = date.today()\n",
    "fielname = f'{today}_train.csv'\n",
    "train.to_csv(fielname, encoding='utf-8')"
   ],
   "metadata": {
    "collapsed": false,
    "pycharm": {
     "name": "#%%\n"
    }
   }
  },
  {
   "cell_type": "code",
   "execution_count": null,
   "outputs": [],
   "source": [],
   "metadata": {
    "collapsed": false,
    "pycharm": {
     "name": "#%%\n"
    }
   }
  }
 ],
 "metadata": {
  "kernelspec": {
   "name": "python3",
   "language": "python",
   "display_name": "Python 3"
  },
  "language_info": {
   "codemirror_mode": {
    "name": "ipython",
    "version": 2
   },
   "file_extension": ".py",
   "mimetype": "text/x-python",
   "name": "python",
   "nbconvert_exporter": "python",
   "pygments_lexer": "ipython2",
   "version": "2.7.6"
  }
 },
 "nbformat": 4,
 "nbformat_minor": 0
}