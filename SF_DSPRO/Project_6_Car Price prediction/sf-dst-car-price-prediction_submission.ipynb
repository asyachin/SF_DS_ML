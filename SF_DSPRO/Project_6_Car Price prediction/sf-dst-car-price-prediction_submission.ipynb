{
 "metadata": {
  "kernelspec": {
   "name": "python3",
   "language": "python",
   "display_name": "Python 3"
  },
  "language_info": {
   "name": "python",
   "version": "3.7.6",
   "mimetype": "text/x-python",
   "codemirror_mode": {
    "name": "ipython",
    "version": 3
   },
   "pygments_lexer": "ipython3",
   "nbconvert_exporter": "python",
   "file_extension": ".py"
  }
 },
 "nbformat_minor": 4,
 "nbformat": 4,
 "cells": [
  {
   "cell_type": "markdown",
   "source": [
    "<img src= \"https://mar.prod.image.rndtech.de/var/storage/images/haz/nachrichten/wirtschaft/niedersachsen/diese-vw-plattform-soll-autoscout24-und-mobile.de-angreifen/640945376-1-ger-DE/Diese-VW-Plattform-soll-Autoscout24-angreifen_master_reference.jpg\">"
   ],
   "metadata": {}
  },
  {
   "cell_type": "markdown",
   "source": [
    "# [SF_DST-27] Project 6. Car Price prediction "
   ],
   "metadata": {}
  },
  {
   "cell_type": "markdown",
   "source": [
    "## Task:\n",
    "**to create a model that will predict the value of a used car based on its characteristics**"
   ],
   "metadata": {}
  },
  {
   "cell_type": "markdown",
   "source": [
    "**The training dataset is a sample of data from the www.auto.ru is actual on Aug.24, 2021, which includes all major car models produced in the period from 1990 to 2021 and are selling within a radius of 200 km around Moscow**"
   ],
   "metadata": {}
  },
  {
   "cell_type": "code",
   "execution_count": 64,
   "outputs": [],
   "source": [],
   "metadata": {
    "collapsed": false,
    "pycharm": {
     "name": "#%%\n"
    }
   }
  },
  {
   "cell_type": "code",
   "source": [
    "import pandas as pd\n",
    "import numpy as np\n",
    "import re\n",
    "import pandas_profiling\n",
    "import matplotlib.pyplot as plt\n",
    "%matplotlib inline\n",
    "import seaborn as sns\n",
    "from sklearn.model_selection import train_test_split\n",
    "from sklearn import metrics\n",
    "from sklearn.feature_selection import f_classif, mutual_info_classif\n",
    "from sklearn.feature_extraction.text import CountVectorizer\n",
    "from sklearn.ensemble import RandomForestRegressor, GradientBoostingRegressor\n",
    "from sklearn.ensemble import BaggingRegressor\n",
    "from sklearn.model_selection import RandomizedSearchCV\n",
    "from sklearn.tree import ExtraTreeRegressor\n",
    "from tqdm import tqdm\n",
    "from itertools import combinations\n",
    "from scipy.stats import ttest_ind\n",
    "from catboost import CatBoostClassifier\n",
    "from sklearn.preprocessing import LabelEncoder\n",
    "from sklearn.linear_model import LinearRegression\n",
    "pd.options.mode.chained_assignment = None\n",
    "\n",
    "import os\n"
   ],
   "metadata": {
    "execution": {
     "iopub.status.busy": "2021-09-02T14:49:43.224890Z",
     "iopub.execute_input": "2021-09-02T14:49:43.225328Z",
     "iopub.status.idle": "2021-09-02T14:49:43.246860Z",
     "shell.execute_reply.started": "2021-09-02T14:49:43.225290Z",
     "shell.execute_reply": "2021-09-02T14:49:43.245660Z"
    },
    "trusted": true
   },
   "execution_count": 65,
   "outputs": []
  },
  {
   "cell_type": "code",
   "source": [
    "#pip install -U seaborn\n",
    "#%pip install -U scikit-learn\n",
    "#%pip install catboost\n",
    "#pip install pandas_profiling"
   ],
   "metadata": {
    "execution": {
     "iopub.status.busy": "2021-09-02T14:49:43.474979Z",
     "iopub.execute_input": "2021-09-02T14:49:43.475388Z",
     "iopub.status.idle": "2021-09-02T14:49:43.479463Z",
     "shell.execute_reply.started": "2021-09-02T14:49:43.475353Z",
     "shell.execute_reply": "2021-09-02T14:49:43.478376Z"
    },
    "trusted": true
   },
   "execution_count": 66,
   "outputs": []
  },
  {
   "cell_type": "code",
   "source": [
    "RANDOM_SEED = 42\n",
    "!pip freeze > requirements.txt\n",
    "VAL_SIZE   = 0.20\n",
    "CURRENT_DATE = pd.Timestamp.today()"
   ],
   "metadata": {
    "execution": {
     "iopub.status.busy": "2021-09-02T14:49:43.634362Z",
     "iopub.execute_input": "2021-09-02T14:49:43.634910Z",
     "iopub.status.idle": "2021-09-02T14:49:45.794147Z",
     "shell.execute_reply.started": "2021-09-02T14:49:43.634858Z",
     "shell.execute_reply": "2021-09-02T14:49:45.792674Z"
    },
    "trusted": true
   },
   "execution_count": 67,
   "outputs": []
  },
  {
   "cell_type": "markdown",
   "source": [
    "### Functions definition"
   ],
   "metadata": {}
  },
  {
   "cell_type": "code",
   "source": [
    "\n",
    "def check_df_before_merg(d_df1,d_df2):\n",
    "    ''' the function to compare of data types both datasets\n",
    "    was copied from SF colleagues'''\n",
    "\n",
    "    list_of_names1 = list(d_df1.columns)\n",
    "    temp_dict = {}\n",
    "    temp_dict['feature_train'] = list_of_names1\n",
    "    temp_dict['type_train'] = d_df1.dtypes\n",
    "    temp_dict['sample_train'] = d_df1.loc[5].values\n",
    "    temp_df1 = pd.DataFrame.from_dict(temp_dict)\n",
    "\n",
    "\n",
    "    list_of_names2 = list(d_df2.columns)\n",
    "    temp_dict2 = {}\n",
    "    temp_dict2['feature_test'] = list_of_names2\n",
    "    temp_dict2['type_test'] = d_df2.dtypes\n",
    "    temp_dict2['sample_test'] = d_df2.loc[5].values\n",
    "    temp_df2 = pd.DataFrame.from_dict(temp_dict2)\n",
    "\n",
    "    temp_insert = pd.DataFrame(columns=['< - >'])\n",
    "\n",
    "    temp_df = pd.concat([temp_df1,temp_insert, temp_df2], axis=1, sort=False)\n",
    "    temp_df.reset_index(inplace = True)\n",
    "    del temp_df['index']\n",
    "    temp_df['< - >'] = '| - |'\n",
    "    display(temp_df)\n",
    "\n",
    "    temp_dict3 = {}\n",
    "    temp_df3= pd.DataFrame(temp_df)\n",
    "    temp_list  = []\n",
    "    temp_list2  = []\n",
    "    temp_list3  = []\n",
    "    temp_list4  = []\n",
    "\n",
    "\n",
    "    for i in range(len(temp_df)):\n",
    "        if str(temp_df3['type_train'][i]) != str(temp_df3['type_test'][i]):\n",
    "            temp_list.append(temp_df3['feature_train'][i])\n",
    "            temp_list2.append(temp_df3['feature_test'][i])\n",
    "            temp_list3.append(str(temp_df3['type_train'][i]) + ' != ' + str(temp_df3['type_test'][i]))\n",
    "            temp_list4.append(i)\n",
    "\n",
    "    temp_dict3['index']= temp_list4\n",
    "    temp_dict3['feature_train']= temp_list\n",
    "    temp_dict3['divergences'] = temp_list3\n",
    "    temp_dict3['feature_test']= temp_list2\n",
    "\n",
    "    temp_df4 = pd.DataFrame.from_dict(temp_dict3)\n",
    "    temp_df4.set_index('index',inplace=True)\n",
    "\n",
    "    print(f'The data types are different in {len(temp_df4)} columns\\n')\n",
    "    display(temp_df4)"
   ],
   "metadata": {
    "_kg_hide-input": false,
    "_kg_hide-output": true,
    "execution": {
     "iopub.status.busy": "2021-09-02T14:49:45.796746Z",
     "iopub.execute_input": "2021-09-02T14:49:45.797111Z",
     "iopub.status.idle": "2021-09-02T14:49:45.817792Z",
     "shell.execute_reply.started": "2021-09-02T14:49:45.797067Z",
     "shell.execute_reply": "2021-09-02T14:49:45.816240Z"
    },
    "trusted": true
   },
   "execution_count": 68,
   "outputs": []
  },
  {
   "cell_type": "code",
   "source": [
    "def clean_smb(smb):\n",
    "    ''' the function does remove the symbols\n",
    "    in the string data'''\n",
    "\n",
    "    smb = smb.replace(\"}\",'')\n",
    "    smb = smb.replace(\"{\",'')\n",
    "    smb = smb.replace(\"]\",'')\n",
    "    smb = smb.replace(\"]\",'')\n",
    "    smb = smb.replace('\"','')\n",
    "    smb = smb.strip('[]')\n",
    "    smb = smb.split(',')\n",
    "    return smb"
   ],
   "metadata": {
    "papermill": {
     "duration": 0.028837,
     "end_time": "2020-10-26T12:46:47.981435",
     "exception": false,
     "start_time": "2020-10-26T12:46:47.952598",
     "status": "completed"
    },
    "tags": [],
    "execution": {
     "iopub.status.busy": "2021-09-02T14:49:45.819965Z",
     "iopub.execute_input": "2021-09-02T14:49:45.820493Z",
     "iopub.status.idle": "2021-09-02T14:49:45.837358Z",
     "shell.execute_reply.started": "2021-09-02T14:49:45.820444Z",
     "shell.execute_reply": "2021-09-02T14:49:45.836157Z"
    },
    "trusted": true
   },
   "execution_count": 69,
   "outputs": []
  },
  {
   "cell_type": "code",
   "source": [
    "def float_value(feature):\n",
    "    ''' The function cleans the digits from other \n",
    "    symbols and brings them to float'''\n",
    "    \n",
    "    pattern = re.compile('([^\\d.]+)')\n",
    "    feature = feature.replace(pattern, '')\n",
    "    oft_value = feature.value_counts(sort=True).keys()[0]\n",
    "    feature = feature.replace('', oft_value).astype(float, errors = 'raise')\n",
    "    return feature"
   ],
   "metadata": {
    "papermill": {
     "duration": 0.039969,
     "end_time": "2020-10-26T12:46:48.052728",
     "exception": false,
     "start_time": "2020-10-26T12:46:48.012759",
     "status": "completed"
    },
    "tags": [],
    "execution": {
     "iopub.status.busy": "2021-09-02T14:49:45.839104Z",
     "iopub.execute_input": "2021-09-02T14:49:45.839409Z",
     "iopub.status.idle": "2021-09-02T14:49:45.853448Z",
     "shell.execute_reply.started": "2021-09-02T14:49:45.839381Z",
     "shell.execute_reply": "2021-09-02T14:49:45.852170Z"
    },
    "trusted": true
   },
   "execution_count": 70,
   "outputs": []
  },
  {
   "cell_type": "code",
   "source": [
    "def cat_feature_overview(feature):\n",
    "    ''' The function outputs the feature's info'''\n",
    "    \n",
    "    print(f'Total lines: {len(feature)}')\n",
    "    print(f'Data types: {feature.dtypes}')\n",
    "    print(f'Total values: {feature.count()}')\n",
    "    print(f'The most frequent value: {feature.value_counts(sort=True).keys()[0]}')\n",
    "    print(f'The less frequent value: {feature.value_counts(sort=True).keys()[-1]}')\n",
    "    print(f'Unique values: {feature.nunique()}')\n",
    "    print(f'Missing values: {feature.isna().sum()}')\n",
    "    sns.countplot(y = feature, order = feature.value_counts(sort=True).index)\n",
    "\n",
    "    return\n"
   ],
   "metadata": {
    "execution": {
     "iopub.status.busy": "2021-09-02T14:49:45.855808Z",
     "iopub.execute_input": "2021-09-02T14:49:45.856274Z",
     "iopub.status.idle": "2021-09-02T14:49:45.866422Z",
     "shell.execute_reply.started": "2021-09-02T14:49:45.856242Z",
     "shell.execute_reply": "2021-09-02T14:49:45.865545Z"
    },
    "trusted": true
   },
   "execution_count": 71,
   "outputs": []
  },
  {
   "cell_type": "code",
   "source": [
    "def num_feature_overview(feature):\n",
    "    ''' The function outputs the feature's info'''\n",
    "    \n",
    "    print(f'Total lines: {len(feature)}')\n",
    "    print(f'Data types: {feature.dtypes}')\n",
    "    print(f'Total values: {feature.count()}')\n",
    "    print(f'The most frequent value: {feature.value_counts(sort=True).keys()[0]}')\n",
    "    print(f'The less frequent value: {feature.value_counts(sort=True).keys()[-1]}')\n",
    "    print(f'Unique values: {feature.nunique()}')\n",
    "    print(f'Missing values: {feature.isna().sum()}')\n",
    "\n",
    "    return"
   ],
   "metadata": {
    "execution": {
     "iopub.status.busy": "2021-09-02T14:49:45.867678Z",
     "iopub.execute_input": "2021-09-02T14:49:45.868179Z",
     "iopub.status.idle": "2021-09-02T14:49:45.879494Z",
     "shell.execute_reply.started": "2021-09-02T14:49:45.868140Z",
     "shell.execute_reply": "2021-09-02T14:49:45.878610Z"
    },
    "trusted": true
   },
   "execution_count": 72,
   "outputs": []
  },
  {
   "cell_type": "code",
   "source": [
    "def subset_by_iqr(feature, whisker_width=1.5):\n",
    "    '''Remove outliers from a dataframe by column, including optional\n",
    "       whiskers, removing rows for which the column value are\n",
    "       less than Q1-1.5IQR or greater than Q3+1.5IQR.\n",
    "    '''\n",
    "    q1 = feature.quantile(0.25)\n",
    "    q3 = feature.quantile(0.75)\n",
    "    iqr = q3 - q1\n",
    "    low_outlier = q1 - whisker_width*iqr\n",
    "    high_outlier = q3 + whisker_width*iqr\n",
    "    column_median = feature.median()\n",
    "\n",
    "    # Apply filter with respect to IQR, including optional whiskers\n",
    "    # else mode()\n",
    "\n",
    "    return feature.apply(lambda x: x if (x > low_outlier and x < high_outlier) else column_median)"
   ],
   "metadata": {
    "execution": {
     "iopub.status.busy": "2021-09-02T14:49:45.880765Z",
     "iopub.execute_input": "2021-09-02T14:49:45.881107Z",
     "iopub.status.idle": "2021-09-02T14:49:45.894053Z",
     "shell.execute_reply.started": "2021-09-02T14:49:45.881065Z",
     "shell.execute_reply": "2021-09-02T14:49:45.892910Z"
    },
    "trusted": true
   },
   "execution_count": 73,
   "outputs": []
  },
  {
   "cell_type": "code",
   "source": [
    "def check_iqr(feature, whisker_width=1.5):\n",
    "    '''defines the quantiles at the column, including optional\n",
    "       whiskers with Q1-1.5IQR and Q3+1.5IQR boarders.\n",
    "    '''\n",
    "    q1 = feature.quantile(0.25)\n",
    "    q3 = feature.quantile(0.75)\n",
    "    iqr = q3 - q1\n",
    "    low_outlier = q1 - whisker_width*iqr\n",
    "    high_outlier = q3 + whisker_width*iqr\n",
    "    IQRs = pd.DataFrame({'Q1' : [q1], 'Q3' : [q3], 'IQR' : [iqr], 'low_outlier' : [low_outlier], 'high_outlier' : [high_outlier]})\n",
    "    \n",
    "    sns.set_style(\"darkgrid\")\n",
    "\n",
    "\n",
    "    # feature's distribution\n",
    "    x = feature\n",
    "    plt.figure(figsize=(10,5))\n",
    "    sns.distplot(x, kde=True)\n",
    "    plt.axvline(low_outlier, color='red')\n",
    "    plt.axvline(high_outlier, color='red')\n",
    "    plt.axvline(q1, color='blue',linestyle='--')\n",
    "    plt.axvline(q3, color='blue',linestyle='--')\n",
    "    plt.show()\n",
    "    \n",
    "\n",
    "    return IQRs"
   ],
   "metadata": {
    "execution": {
     "iopub.status.busy": "2021-09-02T14:49:45.898210Z",
     "iopub.execute_input": "2021-09-02T14:49:45.898569Z",
     "iopub.status.idle": "2021-09-02T14:49:45.911717Z",
     "shell.execute_reply.started": "2021-09-02T14:49:45.898538Z",
     "shell.execute_reply": "2021-09-02T14:49:45.910467Z"
    },
    "trusted": true
   },
   "execution_count": 74,
   "outputs": []
  },
  {
   "cell_type": "code",
   "source": [
    "def train_brand_pvt(val_body_type, from_year,  to_year, i=0):\n",
    "    \n",
    "    model_tbl= train[(train['bodyType'] == val_body_type) & (train['modelDate'].between(from_year, to_year))].pivot_table(values= 'price', index= 'brand', aggfunc= 'std')\n",
    "    std_n = model_tbl['price']\n",
    "    low_std = std_n / 1.5\n",
    "    high_std = std_n * 1.5\n",
    "    model_tbl['low_std'] = round(low_std,2)\n",
    "    model_tbl['std_n'] = round(std_n,2)\n",
    "    model_tbl['high_std'] = round(high_std,2)\n",
    "    model_tbl.drop(['price'], axis = 1, inplace = True)\n",
    "    low_std_avg = model_tbl.low_std.mean()\n",
    "    high_std_avg = model_tbl.high_std.mean()\n",
    "    model_tbl = model_tbl[(model_tbl['std_n'] >= low_std_avg) & (model_tbl['std_n'] <=  high_std_avg)].reset_index()\n",
    "    display(model_tbl)\n",
    "    act_model_lst = model_tbl['brand'].to_list()\n",
    "    print(f'The most relevant brands sorted by body type \"{val_body_type}\" in time period from {from_year} to {to_year}','\\n', act_model_lst,'\\n')\n",
    " \n",
    "    \n",
    "    return act_model_lst"
   ],
   "metadata": {
    "execution": {
     "iopub.status.busy": "2021-09-02T14:49:45.913256Z",
     "iopub.execute_input": "2021-09-02T14:49:45.913564Z",
     "iopub.status.idle": "2021-09-02T14:49:45.926991Z",
     "shell.execute_reply.started": "2021-09-02T14:49:45.913536Z",
     "shell.execute_reply": "2021-09-02T14:49:45.925493Z"
    },
    "trusted": true
   },
   "execution_count": 75,
   "outputs": []
  },
  {
   "cell_type": "code",
   "source": [
    "def metrics_func(y_true, y_pred):\n",
    "    \n",
    "    #Mean Absolute Error\n",
    "    mae = metrics.mean_absolute_error(y_true, y_pred)\n",
    "\n",
    "    #Mean Absolute Percentage Error\n",
    "    mape = np.mean(np.abs((y_true - y_pred) / y_true)) * 100\n",
    "\n",
    "    \n",
    "    #Symmetric Mean Absolute Percentage Error\n",
    "    smape = 100/len(y_true) * np.sum(2 * np.abs(y_pred - y_true) / (np.abs(y_true) + np.abs(y_pred)))\n",
    "\n",
    "    #Mean Squared Error*\n",
    "    mse = metrics.mean_squared_error(y_true, y_pred)\n",
    "\n",
    "    #Root Mean Squared Error\n",
    "    rmse = np.sqrt(mse)\n",
    "    \n",
    "    #Coefficient of determination\n",
    "    R_2 = metrics.r2_score(y_true, y_pred)\n",
    "    \n",
    "\n",
    "    print(f'MAE Mean Absolute Error {mae}')\n",
    "    print(f'MAPE  Mean Absolute Percentage Error {mape}%')\n",
    "    print(f'SMAPE Symmetric Mean Absolute Percentage Error {smape}%')\n",
    "    print(f'MSE Mean Percentage Error {mse}%')\n",
    "    print(f'RMSE Root Mean Squared Error {rmse}')\n",
    "    print(f'R_2 Coefficient of determination {R_2}')\n",
    "    \n",
    "    return\n"
   ],
   "metadata": {
    "execution": {
     "iopub.status.busy": "2021-09-02T14:49:45.929434Z",
     "iopub.execute_input": "2021-09-02T14:49:45.929895Z",
     "iopub.status.idle": "2021-09-02T14:49:45.943253Z",
     "shell.execute_reply.started": "2021-09-02T14:49:45.929849Z",
     "shell.execute_reply": "2021-09-02T14:49:45.942234Z"
    },
    "trusted": true
   },
   "execution_count": 76,
   "outputs": []
  },
  {
   "cell_type": "markdown",
   "source": [
    "# 1. DATA\n",
    "## 1.1 Import of data"
   ],
   "metadata": {}
  },
  {
   "cell_type": "code",
   "source": [
    "\"\"\"\n",
    "PATH_to_file = '/kaggle/input/sf-dst-car-price-prediction/'\n",
    "PATH_to_file_data = '/kaggle//input/20210824-auto-ru-train-dataset/'\n",
    "\"\"\""
   ],
   "metadata": {
    "execution": {
     "iopub.status.busy": "2021-09-02T14:49:45.946214Z",
     "iopub.execute_input": "2021-09-02T14:49:45.947365Z",
     "iopub.status.idle": "2021-09-02T14:49:45.957018Z",
     "shell.execute_reply.started": "2021-09-02T14:49:45.947314Z",
     "shell.execute_reply": "2021-09-02T14:49:45.955923Z"
    },
    "trusted": true
   },
   "execution_count": 77,
   "outputs": [
    {
     "data": {
      "text/plain": "\"\\nPATH_to_file = '/kaggle/input/sf-dst-car-price-prediction/'\\nPATH_to_file_data = '/kaggle//input/20210824-auto-ru-train-dataset/'\\n\""
     },
     "execution_count": 77,
     "metadata": {},
     "output_type": "execute_result"
    }
   ]
  },
  {
   "cell_type": "code",
   "source": [
    "\"\"\"\n",
    "train = pd.read_csv(PATH_to_file_data +'2021-08-29_train.csv')\n",
    "test = pd.read_csv(PATH_to_file+'test.csv')\n",
    "submit = pd.read_csv(PATH_to_file+'sample_submission.csv')\n",
    "\"\"\""
   ],
   "metadata": {
    "execution": {
     "iopub.status.busy": "2021-09-02T14:49:45.960171Z",
     "iopub.execute_input": "2021-09-02T14:49:45.960680Z",
     "iopub.status.idle": "2021-09-02T14:49:49.886490Z",
     "shell.execute_reply.started": "2021-09-02T14:49:45.960632Z",
     "shell.execute_reply": "2021-09-02T14:49:49.885585Z"
    },
    "trusted": true
   },
   "execution_count": 78,
   "outputs": [
    {
     "data": {
      "text/plain": "\"\\ntrain = pd.read_csv(PATH_to_file_data +'2021-08-29_train.csv')\\ntest = pd.read_csv(PATH_to_file+'test.csv')\\nsubmit = pd.read_csv(PATH_to_file+'sample_submission.csv')\\n\""
     },
     "execution_count": 78,
     "metadata": {},
     "output_type": "execute_result"
    }
   ]
  },
  {
   "cell_type": "code",
   "execution_count": 79,
   "outputs": [],
   "source": [
    "train = pd.read_csv('2021-08-29_train.csv')\n",
    "test = pd.read_csv('test.csv')\n",
    "submit = pd.read_csv('sample_submission.csv')"
   ],
   "metadata": {
    "collapsed": false,
    "pycharm": {
     "name": "#%%\n"
    }
   }
  },
  {
   "cell_type": "code",
   "execution_count": 80,
   "outputs": [
    {
     "name": "stdout",
     "output_type": "stream",
     "text": [
      "Training dataset shape:  (94448, 98)\n",
      "Testing dataset shape:  (34686, 32)\n",
      "Submission shape:  (34686, 2)\n"
     ]
    },
    {
     "data": {
      "text/plain": "   Unnamed: 0  brand   color  engineDisplacement  enginePower  mileage  \\\n0           0  SKODA   синий                 1.2          105    74000   \n1           1  SKODA  чёрный                 1.6          110    60563   \n2           2  SKODA   серый                 1.8          152    88000   \n\n   modelDate model_name  numberOfDoors  productionDate vehicleTransmission  \\\n0       2013    OCTAVIA              5            2014    роботизированная   \n1       2017    OCTAVIA              5            2017        механическая   \n2       2013     SUPERB              5            2014    роботизированная   \n\n     vendor  Владельцы       ПТС    Привод   Руль           Состояние  sample  \\\n0  EUROPEAN          2  Оригинал  передний  Левый  Не требует ремонта       0   \n1  EUROPEAN          1  Оригинал  передний  Левый  Не требует ремонта       0   \n2  EUROPEAN          1  Оригинал  передний  Левый  Не требует ремонта       0   \n\n   12v-socket  abs  airbag-driver  airbag-passenger  airbag-side  alarm  \\\n0           1    1              1                 1            1      1   \n1           0    1              1                 1            1      1   \n2           2    2              2                 2            2      1   \n\n   alloy-wheel-disks  ashtray-and-cigarette-lighter  audiosystem-cd  \\\n0                  0                              1               1   \n1                  1                              0               0   \n2                  1                              2               2   \n\n   auto-mirrors  automatic-lighting-control  aux  bluetooth  \\\n0             0                           0    1          0   \n1             0                           0    0          1   \n2             1                           0    2          0   \n\n   climate-control-2  computer  cruise-control  dark-interior  \\\n0                  0         1               0              1   \n1                  1         1               1              1   \n2                  1         2               1              1   \n\n   electro-mirrors  electro-window-back  electro-window-front  esp  \\\n0                1                    1                     1    0   \n1                1                    1                     0    1   \n2                2                    2                     2    2   \n\n   fabric-seats  front-centre-armrest  front-seats-heat  immo  isofix  \\\n0             1                     0                 1     0       1   \n1             1                     0                 1     1       1   \n2             1                     2                 2     2       2   \n\n   leather  leather-gear-stick  light-cleaner  light-sensor  lock  \\\n0        0                   0              0             0     1   \n1        0                   0              0             1     1   \n2        0                   1              1             2     2   \n\n   mirrors-heat  multi-wheel  navigation  park-assist-r  \\\n0             0            0           0              1   \n1             1            0           0              1   \n2             2            1           0              1   \n\n   power-child-locks-rear-doors  ptf  rain-sensor  seat-transformation  \\\n0                             1    1            1                    1   \n1                             0    1            1                    0   \n2                             1    2            2                    2   \n\n   tinted-glass  usb  wheel-configuration1  wheel-configuration2  \\\n0             1    0                     1                     1   \n1             0    1                     0                     1   \n2             1    0                     2                     2   \n\n   wheel-leather  wheel-power  xenon  airbag-curtain  third-rear-headrest  \\\n0              0            1      0               0                    0   \n1              0            1      0               0                    0   \n2              2            2      1               1                    2   \n\n   fuelType_бензин  fuelType_газ  fuelType_гибрид  fuelType_дизель  \\\n0                1             0                0                0   \n1                1             0                0                0   \n2                1             0                0                0   \n\n   fuelType_электро  fuelType_nan  bodyType_внедорожник 3 дв.  \\\n0                 0             0                           0   \n1                 0             0                           0   \n2                 0             0                           0   \n\n   bodyType_внедорожник 5 дв.  bodyType_внедорожник открытый  \\\n0                           0                              0   \n1                           0                              0   \n2                           0                              0   \n\n   bodyType_кабриолет  bodyType_компактвэн  bodyType_купе  \\\n0                   0                    0              0   \n1                   0                    0              0   \n2                   0                    0              0   \n\n   bodyType_купе-хардтоп  bodyType_лимузин  bodyType_лифтбек  \\\n0                      0                 0                 1   \n1                      0                 0                 1   \n2                      0                 0                 1   \n\n   bodyType_микровэн  bodyType_минивэн  bodyType_пикап двойная кабина  \\\n0                  0                 0                              0   \n1                  0                 0                              0   \n2                  0                 0                              0   \n\n   bodyType_пикап одинарная кабина  bodyType_пикап полуторная кабина  \\\n0                                0                                 0   \n1                                0                                 0   \n2                                0                                 0   \n\n   bodyType_родстер  bodyType_седан  bodyType_седан 2 дв.  \\\n0                 0               0                     0   \n1                 0               0                     0   \n2                 0               0                     0   \n\n   bodyType_седан-хардтоп  bodyType_тарга  bodyType_универсал 5 дв.  \\\n0                       0               0                         0   \n1                       0               0                         0   \n2                       0               0                         0   \n\n   bodyType_фастбек  bodyType_фургон  bodyType_хэтчбек 3 дв.  \\\n0                 0                0                       0   \n1                 0                0                       0   \n2                 0                0                       0   \n\n   bodyType_хэтчбек 4 дв.  bodyType_хэтчбек 5 дв.  bodyType_nan  \n0                       0                       0             0  \n1                       0                       0             0  \n2                       0                       0             0  ",
      "text/html": "<div>\n<style scoped>\n    .dataframe tbody tr th:only-of-type {\n        vertical-align: middle;\n    }\n\n    .dataframe tbody tr th {\n        vertical-align: top;\n    }\n\n    .dataframe thead th {\n        text-align: right;\n    }\n</style>\n<table border=\"1\" class=\"dataframe\">\n  <thead>\n    <tr style=\"text-align: right;\">\n      <th></th>\n      <th>Unnamed: 0</th>\n      <th>brand</th>\n      <th>color</th>\n      <th>engineDisplacement</th>\n      <th>enginePower</th>\n      <th>mileage</th>\n      <th>modelDate</th>\n      <th>model_name</th>\n      <th>numberOfDoors</th>\n      <th>productionDate</th>\n      <th>vehicleTransmission</th>\n      <th>vendor</th>\n      <th>Владельцы</th>\n      <th>ПТС</th>\n      <th>Привод</th>\n      <th>Руль</th>\n      <th>Состояние</th>\n      <th>sample</th>\n      <th>12v-socket</th>\n      <th>abs</th>\n      <th>airbag-driver</th>\n      <th>airbag-passenger</th>\n      <th>airbag-side</th>\n      <th>alarm</th>\n      <th>alloy-wheel-disks</th>\n      <th>ashtray-and-cigarette-lighter</th>\n      <th>audiosystem-cd</th>\n      <th>auto-mirrors</th>\n      <th>automatic-lighting-control</th>\n      <th>aux</th>\n      <th>bluetooth</th>\n      <th>climate-control-2</th>\n      <th>computer</th>\n      <th>cruise-control</th>\n      <th>dark-interior</th>\n      <th>electro-mirrors</th>\n      <th>electro-window-back</th>\n      <th>electro-window-front</th>\n      <th>esp</th>\n      <th>fabric-seats</th>\n      <th>front-centre-armrest</th>\n      <th>front-seats-heat</th>\n      <th>immo</th>\n      <th>isofix</th>\n      <th>leather</th>\n      <th>leather-gear-stick</th>\n      <th>light-cleaner</th>\n      <th>light-sensor</th>\n      <th>lock</th>\n      <th>mirrors-heat</th>\n      <th>multi-wheel</th>\n      <th>navigation</th>\n      <th>park-assist-r</th>\n      <th>power-child-locks-rear-doors</th>\n      <th>ptf</th>\n      <th>rain-sensor</th>\n      <th>seat-transformation</th>\n      <th>tinted-glass</th>\n      <th>usb</th>\n      <th>wheel-configuration1</th>\n      <th>wheel-configuration2</th>\n      <th>wheel-leather</th>\n      <th>wheel-power</th>\n      <th>xenon</th>\n      <th>airbag-curtain</th>\n      <th>third-rear-headrest</th>\n      <th>fuelType_бензин</th>\n      <th>fuelType_газ</th>\n      <th>fuelType_гибрид</th>\n      <th>fuelType_дизель</th>\n      <th>fuelType_электро</th>\n      <th>fuelType_nan</th>\n      <th>bodyType_внедорожник 3 дв.</th>\n      <th>bodyType_внедорожник 5 дв.</th>\n      <th>bodyType_внедорожник открытый</th>\n      <th>bodyType_кабриолет</th>\n      <th>bodyType_компактвэн</th>\n      <th>bodyType_купе</th>\n      <th>bodyType_купе-хардтоп</th>\n      <th>bodyType_лимузин</th>\n      <th>bodyType_лифтбек</th>\n      <th>bodyType_микровэн</th>\n      <th>bodyType_минивэн</th>\n      <th>bodyType_пикап двойная кабина</th>\n      <th>bodyType_пикап одинарная кабина</th>\n      <th>bodyType_пикап полуторная кабина</th>\n      <th>bodyType_родстер</th>\n      <th>bodyType_седан</th>\n      <th>bodyType_седан 2 дв.</th>\n      <th>bodyType_седан-хардтоп</th>\n      <th>bodyType_тарга</th>\n      <th>bodyType_универсал 5 дв.</th>\n      <th>bodyType_фастбек</th>\n      <th>bodyType_фургон</th>\n      <th>bodyType_хэтчбек 3 дв.</th>\n      <th>bodyType_хэтчбек 4 дв.</th>\n      <th>bodyType_хэтчбек 5 дв.</th>\n      <th>bodyType_nan</th>\n    </tr>\n  </thead>\n  <tbody>\n    <tr>\n      <th>0</th>\n      <td>0</td>\n      <td>SKODA</td>\n      <td>синий</td>\n      <td>1.2</td>\n      <td>105</td>\n      <td>74000</td>\n      <td>2013</td>\n      <td>OCTAVIA</td>\n      <td>5</td>\n      <td>2014</td>\n      <td>роботизированная</td>\n      <td>EUROPEAN</td>\n      <td>2</td>\n      <td>Оригинал</td>\n      <td>передний</td>\n      <td>Левый</td>\n      <td>Не требует ремонта</td>\n      <td>0</td>\n      <td>1</td>\n      <td>1</td>\n      <td>1</td>\n      <td>1</td>\n      <td>1</td>\n      <td>1</td>\n      <td>0</td>\n      <td>1</td>\n      <td>1</td>\n      <td>0</td>\n      <td>0</td>\n      <td>1</td>\n      <td>0</td>\n      <td>0</td>\n      <td>1</td>\n      <td>0</td>\n      <td>1</td>\n      <td>1</td>\n      <td>1</td>\n      <td>1</td>\n      <td>0</td>\n      <td>1</td>\n      <td>0</td>\n      <td>1</td>\n      <td>0</td>\n      <td>1</td>\n      <td>0</td>\n      <td>0</td>\n      <td>0</td>\n      <td>0</td>\n      <td>1</td>\n      <td>0</td>\n      <td>0</td>\n      <td>0</td>\n      <td>1</td>\n      <td>1</td>\n      <td>1</td>\n      <td>1</td>\n      <td>1</td>\n      <td>1</td>\n      <td>0</td>\n      <td>1</td>\n      <td>1</td>\n      <td>0</td>\n      <td>1</td>\n      <td>0</td>\n      <td>0</td>\n      <td>0</td>\n      <td>1</td>\n      <td>0</td>\n      <td>0</td>\n      <td>0</td>\n      <td>0</td>\n      <td>0</td>\n      <td>0</td>\n      <td>0</td>\n      <td>0</td>\n      <td>0</td>\n      <td>0</td>\n      <td>0</td>\n      <td>0</td>\n      <td>0</td>\n      <td>1</td>\n      <td>0</td>\n      <td>0</td>\n      <td>0</td>\n      <td>0</td>\n      <td>0</td>\n      <td>0</td>\n      <td>0</td>\n      <td>0</td>\n      <td>0</td>\n      <td>0</td>\n      <td>0</td>\n      <td>0</td>\n      <td>0</td>\n      <td>0</td>\n      <td>0</td>\n      <td>0</td>\n      <td>0</td>\n    </tr>\n    <tr>\n      <th>1</th>\n      <td>1</td>\n      <td>SKODA</td>\n      <td>чёрный</td>\n      <td>1.6</td>\n      <td>110</td>\n      <td>60563</td>\n      <td>2017</td>\n      <td>OCTAVIA</td>\n      <td>5</td>\n      <td>2017</td>\n      <td>механическая</td>\n      <td>EUROPEAN</td>\n      <td>1</td>\n      <td>Оригинал</td>\n      <td>передний</td>\n      <td>Левый</td>\n      <td>Не требует ремонта</td>\n      <td>0</td>\n      <td>0</td>\n      <td>1</td>\n      <td>1</td>\n      <td>1</td>\n      <td>1</td>\n      <td>1</td>\n      <td>1</td>\n      <td>0</td>\n      <td>0</td>\n      <td>0</td>\n      <td>0</td>\n      <td>0</td>\n      <td>1</td>\n      <td>1</td>\n      <td>1</td>\n      <td>1</td>\n      <td>1</td>\n      <td>1</td>\n      <td>1</td>\n      <td>0</td>\n      <td>1</td>\n      <td>1</td>\n      <td>0</td>\n      <td>1</td>\n      <td>1</td>\n      <td>1</td>\n      <td>0</td>\n      <td>0</td>\n      <td>0</td>\n      <td>1</td>\n      <td>1</td>\n      <td>1</td>\n      <td>0</td>\n      <td>0</td>\n      <td>1</td>\n      <td>0</td>\n      <td>1</td>\n      <td>1</td>\n      <td>0</td>\n      <td>0</td>\n      <td>1</td>\n      <td>0</td>\n      <td>1</td>\n      <td>0</td>\n      <td>1</td>\n      <td>0</td>\n      <td>0</td>\n      <td>0</td>\n      <td>1</td>\n      <td>0</td>\n      <td>0</td>\n      <td>0</td>\n      <td>0</td>\n      <td>0</td>\n      <td>0</td>\n      <td>0</td>\n      <td>0</td>\n      <td>0</td>\n      <td>0</td>\n      <td>0</td>\n      <td>0</td>\n      <td>0</td>\n      <td>1</td>\n      <td>0</td>\n      <td>0</td>\n      <td>0</td>\n      <td>0</td>\n      <td>0</td>\n      <td>0</td>\n      <td>0</td>\n      <td>0</td>\n      <td>0</td>\n      <td>0</td>\n      <td>0</td>\n      <td>0</td>\n      <td>0</td>\n      <td>0</td>\n      <td>0</td>\n      <td>0</td>\n      <td>0</td>\n    </tr>\n    <tr>\n      <th>2</th>\n      <td>2</td>\n      <td>SKODA</td>\n      <td>серый</td>\n      <td>1.8</td>\n      <td>152</td>\n      <td>88000</td>\n      <td>2013</td>\n      <td>SUPERB</td>\n      <td>5</td>\n      <td>2014</td>\n      <td>роботизированная</td>\n      <td>EUROPEAN</td>\n      <td>1</td>\n      <td>Оригинал</td>\n      <td>передний</td>\n      <td>Левый</td>\n      <td>Не требует ремонта</td>\n      <td>0</td>\n      <td>2</td>\n      <td>2</td>\n      <td>2</td>\n      <td>2</td>\n      <td>2</td>\n      <td>1</td>\n      <td>1</td>\n      <td>2</td>\n      <td>2</td>\n      <td>1</td>\n      <td>0</td>\n      <td>2</td>\n      <td>0</td>\n      <td>1</td>\n      <td>2</td>\n      <td>1</td>\n      <td>1</td>\n      <td>2</td>\n      <td>2</td>\n      <td>2</td>\n      <td>2</td>\n      <td>1</td>\n      <td>2</td>\n      <td>2</td>\n      <td>2</td>\n      <td>2</td>\n      <td>0</td>\n      <td>1</td>\n      <td>1</td>\n      <td>2</td>\n      <td>2</td>\n      <td>2</td>\n      <td>1</td>\n      <td>0</td>\n      <td>1</td>\n      <td>1</td>\n      <td>2</td>\n      <td>2</td>\n      <td>2</td>\n      <td>1</td>\n      <td>0</td>\n      <td>2</td>\n      <td>2</td>\n      <td>2</td>\n      <td>2</td>\n      <td>1</td>\n      <td>1</td>\n      <td>2</td>\n      <td>1</td>\n      <td>0</td>\n      <td>0</td>\n      <td>0</td>\n      <td>0</td>\n      <td>0</td>\n      <td>0</td>\n      <td>0</td>\n      <td>0</td>\n      <td>0</td>\n      <td>0</td>\n      <td>0</td>\n      <td>0</td>\n      <td>0</td>\n      <td>1</td>\n      <td>0</td>\n      <td>0</td>\n      <td>0</td>\n      <td>0</td>\n      <td>0</td>\n      <td>0</td>\n      <td>0</td>\n      <td>0</td>\n      <td>0</td>\n      <td>0</td>\n      <td>0</td>\n      <td>0</td>\n      <td>0</td>\n      <td>0</td>\n      <td>0</td>\n      <td>0</td>\n      <td>0</td>\n    </tr>\n  </tbody>\n</table>\n</div>"
     },
     "metadata": {},
     "output_type": "display_data"
    },
    {
     "data": {
      "text/plain": "  bodyType  brand                                            car_url   color  \\\n0  лифтбек  SKODA  https://auto.ru/cars/used/sale/skoda/octavia/1...   синий   \n1  лифтбек  SKODA  https://auto.ru/cars/used/sale/skoda/octavia/1...  чёрный   \n2  лифтбек  SKODA  https://auto.ru/cars/used/sale/skoda/superb/11...   серый   \n\n                                  complectation_dict  \\\n0                                                NaN   \n1                                                NaN   \n2  {\"id\":\"20026336\",\"name\":\"Ambition\",\"available_...   \n\n                                         description engineDisplacement  \\\n0  Все автомобили, представленные в продаже, прох...            1.2 LTR   \n1  ЛОТ: 01217195\\nАвтопрага Север\\nДанный автомоб...            1.6 LTR   \n2  Все автомобили, представленные в продаже, прох...            1.8 LTR   \n\n  enginePower                                     equipment_dict fuelType  \\\n0     105 N12  {\"engine-proof\":true,\"tinted-glass\":true,\"airb...   бензин   \n1     110 N12  {\"cruise-control\":true,\"asr\":true,\"esp\":true,\"...   бензин   \n2     152 N12  {\"cruise-control\":true,\"tinted-glass\":true,\"es...   бензин   \n\n                                               image  mileage  modelDate  \\\n0  https://autoru.naydex.net/o9DBXQ270/5ac010hAY0...    74000       2013   \n1  https://autoru.naydex.net/o9DBXQ270/5ac010hAY0...    60563       2017   \n2  https://avatars.mds.yandex.net/get-autoru-vos/...    88000       2013   \n\n                                          model_info model_name  \\\n0  {\"code\":\"OCTAVIA\",\"name\":\"Octavia\",\"ru_name\":\"...    OCTAVIA   \n1  {\"code\":\"OCTAVIA\",\"name\":\"Octavia\",\"ru_name\":\"...    OCTAVIA   \n2  {\"code\":\"SUPERB\",\"name\":\"Superb\",\"ru_name\":\"Су...     SUPERB   \n\n                     name  numberOfDoors  parsing_unixtime priceCurrency  \\\n0      1.2 AMT (105 л.с.)              5        1603226273           RUB   \n1       1.6 MT (110 л.с.)              5        1603226277           RUB   \n2  DSG 1.8 AMT (152 л.с.)              5        1603226280           RUB   \n\n   productionDate     sell_id  \\\n0            2014  1100575026   \n1            2017  1100549428   \n2            2014  1100658222   \n\n                                           super_gen     vehicleConfiguration  \\\n0  {\"id\":\"10373605\",\"displacement\":1197,\"engine_t...       LIFTBACK ROBOT 1.2   \n1  {\"id\":\"20913311\",\"displacement\":1598,\"engine_t...  LIFTBACK MECHANICAL 1.6   \n2  {\"id\":\"20026323\",\"nameplate\":\"DSG\",\"displaceme...       LIFTBACK ROBOT 1.8   \n\n  vehicleTransmission    vendor    Владельцы Владение       ПТС    Привод  \\\n0    роботизированная  EUROPEAN  3 или более      NaN  Оригинал  передний   \n1        механическая  EUROPEAN   1 владелец      NaN  Оригинал  передний   \n2    роботизированная  EUROPEAN   1 владелец      NaN  Оригинал  передний   \n\n    Руль           Состояние     Таможня  \n0  Левый  Не требует ремонта  Растаможен  \n1  Левый  Не требует ремонта  Растаможен  \n2  Левый  Не требует ремонта  Растаможен  ",
      "text/html": "<div>\n<style scoped>\n    .dataframe tbody tr th:only-of-type {\n        vertical-align: middle;\n    }\n\n    .dataframe tbody tr th {\n        vertical-align: top;\n    }\n\n    .dataframe thead th {\n        text-align: right;\n    }\n</style>\n<table border=\"1\" class=\"dataframe\">\n  <thead>\n    <tr style=\"text-align: right;\">\n      <th></th>\n      <th>bodyType</th>\n      <th>brand</th>\n      <th>car_url</th>\n      <th>color</th>\n      <th>complectation_dict</th>\n      <th>description</th>\n      <th>engineDisplacement</th>\n      <th>enginePower</th>\n      <th>equipment_dict</th>\n      <th>fuelType</th>\n      <th>image</th>\n      <th>mileage</th>\n      <th>modelDate</th>\n      <th>model_info</th>\n      <th>model_name</th>\n      <th>name</th>\n      <th>numberOfDoors</th>\n      <th>parsing_unixtime</th>\n      <th>priceCurrency</th>\n      <th>productionDate</th>\n      <th>sell_id</th>\n      <th>super_gen</th>\n      <th>vehicleConfiguration</th>\n      <th>vehicleTransmission</th>\n      <th>vendor</th>\n      <th>Владельцы</th>\n      <th>Владение</th>\n      <th>ПТС</th>\n      <th>Привод</th>\n      <th>Руль</th>\n      <th>Состояние</th>\n      <th>Таможня</th>\n    </tr>\n  </thead>\n  <tbody>\n    <tr>\n      <th>0</th>\n      <td>лифтбек</td>\n      <td>SKODA</td>\n      <td>https://auto.ru/cars/used/sale/skoda/octavia/1...</td>\n      <td>синий</td>\n      <td>NaN</td>\n      <td>Все автомобили, представленные в продаже, прох...</td>\n      <td>1.2 LTR</td>\n      <td>105 N12</td>\n      <td>{\"engine-proof\":true,\"tinted-glass\":true,\"airb...</td>\n      <td>бензин</td>\n      <td>https://autoru.naydex.net/o9DBXQ270/5ac010hAY0...</td>\n      <td>74000</td>\n      <td>2013</td>\n      <td>{\"code\":\"OCTAVIA\",\"name\":\"Octavia\",\"ru_name\":\"...</td>\n      <td>OCTAVIA</td>\n      <td>1.2 AMT (105 л.с.)</td>\n      <td>5</td>\n      <td>1603226273</td>\n      <td>RUB</td>\n      <td>2014</td>\n      <td>1100575026</td>\n      <td>{\"id\":\"10373605\",\"displacement\":1197,\"engine_t...</td>\n      <td>LIFTBACK ROBOT 1.2</td>\n      <td>роботизированная</td>\n      <td>EUROPEAN</td>\n      <td>3 или более</td>\n      <td>NaN</td>\n      <td>Оригинал</td>\n      <td>передний</td>\n      <td>Левый</td>\n      <td>Не требует ремонта</td>\n      <td>Растаможен</td>\n    </tr>\n    <tr>\n      <th>1</th>\n      <td>лифтбек</td>\n      <td>SKODA</td>\n      <td>https://auto.ru/cars/used/sale/skoda/octavia/1...</td>\n      <td>чёрный</td>\n      <td>NaN</td>\n      <td>ЛОТ: 01217195\\nАвтопрага Север\\nДанный автомоб...</td>\n      <td>1.6 LTR</td>\n      <td>110 N12</td>\n      <td>{\"cruise-control\":true,\"asr\":true,\"esp\":true,\"...</td>\n      <td>бензин</td>\n      <td>https://autoru.naydex.net/o9DBXQ270/5ac010hAY0...</td>\n      <td>60563</td>\n      <td>2017</td>\n      <td>{\"code\":\"OCTAVIA\",\"name\":\"Octavia\",\"ru_name\":\"...</td>\n      <td>OCTAVIA</td>\n      <td>1.6 MT (110 л.с.)</td>\n      <td>5</td>\n      <td>1603226277</td>\n      <td>RUB</td>\n      <td>2017</td>\n      <td>1100549428</td>\n      <td>{\"id\":\"20913311\",\"displacement\":1598,\"engine_t...</td>\n      <td>LIFTBACK MECHANICAL 1.6</td>\n      <td>механическая</td>\n      <td>EUROPEAN</td>\n      <td>1 владелец</td>\n      <td>NaN</td>\n      <td>Оригинал</td>\n      <td>передний</td>\n      <td>Левый</td>\n      <td>Не требует ремонта</td>\n      <td>Растаможен</td>\n    </tr>\n    <tr>\n      <th>2</th>\n      <td>лифтбек</td>\n      <td>SKODA</td>\n      <td>https://auto.ru/cars/used/sale/skoda/superb/11...</td>\n      <td>серый</td>\n      <td>{\"id\":\"20026336\",\"name\":\"Ambition\",\"available_...</td>\n      <td>Все автомобили, представленные в продаже, прох...</td>\n      <td>1.8 LTR</td>\n      <td>152 N12</td>\n      <td>{\"cruise-control\":true,\"tinted-glass\":true,\"es...</td>\n      <td>бензин</td>\n      <td>https://avatars.mds.yandex.net/get-autoru-vos/...</td>\n      <td>88000</td>\n      <td>2013</td>\n      <td>{\"code\":\"SUPERB\",\"name\":\"Superb\",\"ru_name\":\"Су...</td>\n      <td>SUPERB</td>\n      <td>DSG 1.8 AMT (152 л.с.)</td>\n      <td>5</td>\n      <td>1603226280</td>\n      <td>RUB</td>\n      <td>2014</td>\n      <td>1100658222</td>\n      <td>{\"id\":\"20026323\",\"nameplate\":\"DSG\",\"displaceme...</td>\n      <td>LIFTBACK ROBOT 1.8</td>\n      <td>роботизированная</td>\n      <td>EUROPEAN</td>\n      <td>1 владелец</td>\n      <td>NaN</td>\n      <td>Оригинал</td>\n      <td>передний</td>\n      <td>Левый</td>\n      <td>Не требует ремонта</td>\n      <td>Растаможен</td>\n    </tr>\n  </tbody>\n</table>\n</div>"
     },
     "metadata": {},
     "output_type": "display_data"
    },
    {
     "data": {
      "text/plain": "      sell_id  price\n0  1100575026      0\n1  1100549428      0",
      "text/html": "<div>\n<style scoped>\n    .dataframe tbody tr th:only-of-type {\n        vertical-align: middle;\n    }\n\n    .dataframe tbody tr th {\n        vertical-align: top;\n    }\n\n    .dataframe thead th {\n        text-align: right;\n    }\n</style>\n<table border=\"1\" class=\"dataframe\">\n  <thead>\n    <tr style=\"text-align: right;\">\n      <th></th>\n      <th>sell_id</th>\n      <th>price</th>\n    </tr>\n  </thead>\n  <tbody>\n    <tr>\n      <th>0</th>\n      <td>1100575026</td>\n      <td>0</td>\n    </tr>\n    <tr>\n      <th>1</th>\n      <td>1100549428</td>\n      <td>0</td>\n    </tr>\n  </tbody>\n</table>\n</div>"
     },
     "metadata": {},
     "output_type": "display_data"
    }
   ],
   "source": [
    "pd.set_option('display.max_columns', None)\n",
    "print('Training dataset shape: ', train.shape)\n",
    "display(train.head(3))\n",
    "print('Testing dataset shape: ', test.shape)\n",
    "display(test.head(3))\n",
    "print('Submission shape: ', submit.shape)\n",
    "display(submit.head(2))"
   ],
   "metadata": {
    "collapsed": false,
    "pycharm": {
     "name": "#%%\n"
    }
   }
  },
  {
   "cell_type": "markdown",
   "source": [
    "\n",
    "### Features\n",
    " nn |Features| Description | Type \n",
    "----|---|----|---\n",
    "0   |bodyType| Car's body type | Categorical\n",
    "1   |brand | Car's brand | Categorical\n",
    "2   |color | Color | Categorical\n",
    "3   |color_hex  | Color hex code| Categorical\n",
    "4   |complectation_dic| Dict of complectation | Categorical\n",
    "5   |description | Description by seller | Categorical\n",
    "6   |engineDisplacement | Displacement of engine | Quantitative\n",
    "7   |enginePower | Power of engine | Quantitative\n",
    "8   |equipment_dict | Dict of equipment | Categorical\n",
    "9   |fuelType | Type of fuel | Categorical\n",
    "10  |image | Image of the car | Categorical\n",
    "11  |mileage | Mileage of the car | Quantitative\n",
    "12  |modelDate | Year of car's model| Ordinal\n",
    "13  |model_info | Code of car's model | Categorical\n",
    "14  |model_name | Name of car's model | Categorical\n",
    "15  |name | Summary data | Categorical\n",
    "16  |numberOfDoors | Number of doors | Quantitative\n",
    "17  |parsing_unixtime | Time of parsing | Ordinal\n",
    "18  |price | Offered price | Quantitative\n",
    "19  |priceCurrency | Currency | Quantitative\n",
    "20  |productionDate | Date of production | Ordinal\n",
    "21  |sell_id | Seller's ID | Ordinal\n",
    "22  |super_gen | Dict of features | Categorical\n",
    "23  |vehicleConfiguration | Dict of options | Categorical\n",
    "24  |vehicleTransmission | Transmission | Categorical\n",
    "25  |vendor | Vendor | Categorical\n",
    "26  |Владельцы | Number of owners | Quantitative\n",
    "27  |Владение | Holding period month | Quantitative\n",
    "28  |ПТС | Original vehicle registration | Binary\n",
    "29  |Привод | Gear type| Categorical\n",
    "30  |Руль | Steering wheel | Categorical\n",
    "31  |Состояние | Accident-free car | Binary\n",
    "32  |Таможня | Custom cleared | Binary\n",
    "\n",
    "\n"
   ],
   "metadata": {
    "execution": {
     "iopub.status.busy": "2021-09-02T11:43:55.214748Z",
     "iopub.execute_input": "2021-09-02T11:43:55.215239Z",
     "iopub.status.idle": "2021-09-02T11:43:55.237955Z",
     "shell.execute_reply.started": "2021-09-02T11:43:55.215208Z",
     "shell.execute_reply": "2021-09-02T11:43:55.229042Z"
    }
   }
  },
  {
   "cell_type": "markdown",
   "source": [
    "## 1.2 Data validation and training dataset matching with test sample before the merging"
   ],
   "metadata": {}
  },
  {
   "cell_type": "code",
   "source": [
    "# comparison of training and test datasets\n",
    "check_df_before_merg(train, test)"
   ],
   "metadata": {
    "execution": {
     "iopub.status.busy": "2021-09-02T14:49:49.888722Z",
     "iopub.execute_input": "2021-09-02T14:49:49.889008Z",
     "iopub.status.idle": "2021-09-02T14:49:49.937620Z",
     "shell.execute_reply.started": "2021-09-02T14:49:49.888980Z",
     "shell.execute_reply": "2021-09-02T14:49:49.936584Z"
    },
    "trusted": true
   },
   "execution_count": 81,
   "outputs": [
    {
     "data": {
      "text/plain": "          feature_train type_train sample_train  < - >          feature_test  \\\n0            Unnamed: 0      int64            5  | - |                   NaN   \n1                 brand     object        SKODA  | - |                 brand   \n2                 color     object        серый  | - |                 color   \n3    engineDisplacement    float64          2.0  | - |    engineDisplacement   \n4           enginePower      int64          200  | - |           enginePower   \n..                  ...        ...          ...    ...                   ...   \n109                 NaN        NaN          NaN  | - |               sell_id   \n110                 NaN        NaN          NaN  | - |             super_gen   \n111                 NaN        NaN          NaN  | - |  vehicleConfiguration   \n112                 NaN        NaN          NaN  | - |              Владение   \n113                 NaN        NaN          NaN  | - |               Таможня   \n\n    type_test                                        sample_test  \n0         NaN                                                NaN  \n1      object                                              SKODA  \n2      object                                              серый  \n3      object                                            2.0 LTR  \n4      object                                            200 N12  \n..        ...                                                ...  \n109     int64                                         1100912634  \n110    object  {\"id\":\"5009158\",\"displacement\":1984,\"engine_ty...  \n111    object                                 LIFTBACK ROBOT 2.0  \n112    object                                                NaN  \n113    object                                         Растаможен  \n\n[114 rows x 7 columns]",
      "text/html": "<div>\n<style scoped>\n    .dataframe tbody tr th:only-of-type {\n        vertical-align: middle;\n    }\n\n    .dataframe tbody tr th {\n        vertical-align: top;\n    }\n\n    .dataframe thead th {\n        text-align: right;\n    }\n</style>\n<table border=\"1\" class=\"dataframe\">\n  <thead>\n    <tr style=\"text-align: right;\">\n      <th></th>\n      <th>feature_train</th>\n      <th>type_train</th>\n      <th>sample_train</th>\n      <th>&lt; - &gt;</th>\n      <th>feature_test</th>\n      <th>type_test</th>\n      <th>sample_test</th>\n    </tr>\n  </thead>\n  <tbody>\n    <tr>\n      <th>0</th>\n      <td>Unnamed: 0</td>\n      <td>int64</td>\n      <td>5</td>\n      <td>| - |</td>\n      <td>NaN</td>\n      <td>NaN</td>\n      <td>NaN</td>\n    </tr>\n    <tr>\n      <th>1</th>\n      <td>brand</td>\n      <td>object</td>\n      <td>SKODA</td>\n      <td>| - |</td>\n      <td>brand</td>\n      <td>object</td>\n      <td>SKODA</td>\n    </tr>\n    <tr>\n      <th>2</th>\n      <td>color</td>\n      <td>object</td>\n      <td>серый</td>\n      <td>| - |</td>\n      <td>color</td>\n      <td>object</td>\n      <td>серый</td>\n    </tr>\n    <tr>\n      <th>3</th>\n      <td>engineDisplacement</td>\n      <td>float64</td>\n      <td>2.0</td>\n      <td>| - |</td>\n      <td>engineDisplacement</td>\n      <td>object</td>\n      <td>2.0 LTR</td>\n    </tr>\n    <tr>\n      <th>4</th>\n      <td>enginePower</td>\n      <td>int64</td>\n      <td>200</td>\n      <td>| - |</td>\n      <td>enginePower</td>\n      <td>object</td>\n      <td>200 N12</td>\n    </tr>\n    <tr>\n      <th>...</th>\n      <td>...</td>\n      <td>...</td>\n      <td>...</td>\n      <td>...</td>\n      <td>...</td>\n      <td>...</td>\n      <td>...</td>\n    </tr>\n    <tr>\n      <th>109</th>\n      <td>NaN</td>\n      <td>NaN</td>\n      <td>NaN</td>\n      <td>| - |</td>\n      <td>sell_id</td>\n      <td>int64</td>\n      <td>1100912634</td>\n    </tr>\n    <tr>\n      <th>110</th>\n      <td>NaN</td>\n      <td>NaN</td>\n      <td>NaN</td>\n      <td>| - |</td>\n      <td>super_gen</td>\n      <td>object</td>\n      <td>{\"id\":\"5009158\",\"displacement\":1984,\"engine_ty...</td>\n    </tr>\n    <tr>\n      <th>111</th>\n      <td>NaN</td>\n      <td>NaN</td>\n      <td>NaN</td>\n      <td>| - |</td>\n      <td>vehicleConfiguration</td>\n      <td>object</td>\n      <td>LIFTBACK ROBOT 2.0</td>\n    </tr>\n    <tr>\n      <th>112</th>\n      <td>NaN</td>\n      <td>NaN</td>\n      <td>NaN</td>\n      <td>| - |</td>\n      <td>Владение</td>\n      <td>object</td>\n      <td>NaN</td>\n    </tr>\n    <tr>\n      <th>113</th>\n      <td>NaN</td>\n      <td>NaN</td>\n      <td>NaN</td>\n      <td>| - |</td>\n      <td>Таможня</td>\n      <td>object</td>\n      <td>Растаможен</td>\n    </tr>\n  </tbody>\n</table>\n<p>114 rows × 7 columns</p>\n</div>"
     },
     "metadata": {},
     "output_type": "display_data"
    },
    {
     "name": "stdout",
     "output_type": "stream",
     "text": [
      "The data types are different in 101 columns\n",
      "\n"
     ]
    },
    {
     "data": {
      "text/plain": "            feature_train        divergences          feature_test\nindex                                                             \n0              Unnamed: 0       int64 != nan                   NaN\n3      engineDisplacement  float64 != object    engineDisplacement\n4             enginePower    int64 != object           enginePower\n12              Владельцы    int64 != object             Владельцы\n17                 sample       int64 != nan                   NaN\n...                   ...                ...                   ...\n109                   NaN       nan != int64               sell_id\n110                   NaN      nan != object             super_gen\n111                   NaN      nan != object  vehicleConfiguration\n112                   NaN      nan != object              Владение\n113                   NaN      nan != object               Таможня\n\n[101 rows x 3 columns]",
      "text/html": "<div>\n<style scoped>\n    .dataframe tbody tr th:only-of-type {\n        vertical-align: middle;\n    }\n\n    .dataframe tbody tr th {\n        vertical-align: top;\n    }\n\n    .dataframe thead th {\n        text-align: right;\n    }\n</style>\n<table border=\"1\" class=\"dataframe\">\n  <thead>\n    <tr style=\"text-align: right;\">\n      <th></th>\n      <th>feature_train</th>\n      <th>divergences</th>\n      <th>feature_test</th>\n    </tr>\n    <tr>\n      <th>index</th>\n      <th></th>\n      <th></th>\n      <th></th>\n    </tr>\n  </thead>\n  <tbody>\n    <tr>\n      <th>0</th>\n      <td>Unnamed: 0</td>\n      <td>int64 != nan</td>\n      <td>NaN</td>\n    </tr>\n    <tr>\n      <th>3</th>\n      <td>engineDisplacement</td>\n      <td>float64 != object</td>\n      <td>engineDisplacement</td>\n    </tr>\n    <tr>\n      <th>4</th>\n      <td>enginePower</td>\n      <td>int64 != object</td>\n      <td>enginePower</td>\n    </tr>\n    <tr>\n      <th>12</th>\n      <td>Владельцы</td>\n      <td>int64 != object</td>\n      <td>Владельцы</td>\n    </tr>\n    <tr>\n      <th>17</th>\n      <td>sample</td>\n      <td>int64 != nan</td>\n      <td>NaN</td>\n    </tr>\n    <tr>\n      <th>...</th>\n      <td>...</td>\n      <td>...</td>\n      <td>...</td>\n    </tr>\n    <tr>\n      <th>109</th>\n      <td>NaN</td>\n      <td>nan != int64</td>\n      <td>sell_id</td>\n    </tr>\n    <tr>\n      <th>110</th>\n      <td>NaN</td>\n      <td>nan != object</td>\n      <td>super_gen</td>\n    </tr>\n    <tr>\n      <th>111</th>\n      <td>NaN</td>\n      <td>nan != object</td>\n      <td>vehicleConfiguration</td>\n    </tr>\n    <tr>\n      <th>112</th>\n      <td>NaN</td>\n      <td>nan != object</td>\n      <td>Владение</td>\n    </tr>\n    <tr>\n      <th>113</th>\n      <td>NaN</td>\n      <td>nan != object</td>\n      <td>Таможня</td>\n    </tr>\n  </tbody>\n</table>\n<p>101 rows × 3 columns</p>\n</div>"
     },
     "metadata": {},
     "output_type": "display_data"
    }
   ]
  },
  {
   "cell_type": "markdown",
   "source": [
    "### _For further processing, training and test datasets are being merged._"
   ],
   "metadata": {}
  },
  {
   "cell_type": "code",
   "source": [
    "#the feature Unnamed: 0 isn't in test dataset.\n",
    "# Unnamed column has no information\n",
    "train.drop(['Unnamed: 0'], axis = 1, inplace=True)"
   ],
   "metadata": {
    "execution": {
     "iopub.status.busy": "2021-09-02T14:49:49.939146Z",
     "iopub.execute_input": "2021-09-02T14:49:49.939473Z",
     "iopub.status.idle": "2021-09-02T14:49:49.964380Z",
     "shell.execute_reply.started": "2021-09-02T14:49:49.939444Z",
     "shell.execute_reply": "2021-09-02T14:49:49.963335Z"
    },
    "trusted": true
   },
   "execution_count": 82,
   "outputs": []
  },
  {
   "cell_type": "code",
   "source": [
    "#in train dataset are not the features 'sell_id','car_url'.\n",
    "#meaning that they don't have any useful for our model information\n",
    "#drop these features\n",
    "test.drop(['sell_id','car_url'], axis = 1, inplace=True)"
   ],
   "metadata": {
    "execution": {
     "iopub.status.busy": "2021-09-02T14:49:49.965764Z",
     "iopub.execute_input": "2021-09-02T14:49:49.966051Z",
     "iopub.status.idle": "2021-09-02T14:49:49.985627Z",
     "shell.execute_reply.started": "2021-09-02T14:49:49.966024Z",
     "shell.execute_reply": "2021-09-02T14:49:49.984532Z"
    },
    "trusted": true
   },
   "execution_count": 83,
   "outputs": []
  },
  {
   "cell_type": "code",
   "source": [
    "#to provide same shape of the datasets before merging, the 'price' feature has to be in test feature\n",
    "\n",
    "test['price'] = float(0)"
   ],
   "metadata": {
    "execution": {
     "iopub.status.busy": "2021-09-02T14:49:49.988708Z",
     "iopub.execute_input": "2021-09-02T14:49:49.989000Z",
     "iopub.status.idle": "2021-09-02T14:49:49.994235Z",
     "shell.execute_reply.started": "2021-09-02T14:49:49.988973Z",
     "shell.execute_reply": "2021-09-02T14:49:49.993169Z"
    },
    "trusted": true
   },
   "execution_count": 84,
   "outputs": []
  },
  {
   "cell_type": "code",
   "source": [
    "train['price'] = train.price.astype(float)"
   ],
   "metadata": {
    "execution": {
     "iopub.status.busy": "2021-09-02T14:49:49.998703Z",
     "iopub.execute_input": "2021-09-02T14:49:49.999036Z",
     "iopub.status.idle": "2021-09-02T14:49:50.010935Z",
     "shell.execute_reply.started": "2021-09-02T14:49:49.999004Z",
     "shell.execute_reply": "2021-09-02T14:49:50.009920Z"
    },
    "trusted": true
   },
   "execution_count": 85,
   "outputs": [
    {
     "ename": "AttributeError",
     "evalue": "'DataFrame' object has no attribute 'price'",
     "output_type": "error",
     "traceback": [
      "\u001B[1;31m---------------------------------------------------------------------------\u001B[0m",
      "\u001B[1;31mAttributeError\u001B[0m                            Traceback (most recent call last)",
      "\u001B[1;32m~\\AppData\\Local\\Temp/ipykernel_11412/4096258971.py\u001B[0m in \u001B[0;36m<module>\u001B[1;34m\u001B[0m\n\u001B[1;32m----> 1\u001B[1;33m \u001B[0mtrain\u001B[0m\u001B[1;33m[\u001B[0m\u001B[1;34m'price'\u001B[0m\u001B[1;33m]\u001B[0m \u001B[1;33m=\u001B[0m \u001B[0mtrain\u001B[0m\u001B[1;33m.\u001B[0m\u001B[0mprice\u001B[0m\u001B[1;33m.\u001B[0m\u001B[0mastype\u001B[0m\u001B[1;33m(\u001B[0m\u001B[0mfloat\u001B[0m\u001B[1;33m)\u001B[0m\u001B[1;33m\u001B[0m\u001B[1;33m\u001B[0m\u001B[0m\n\u001B[0m\u001B[0;32m      2\u001B[0m \u001B[1;33m\u001B[0m\u001B[0m\n",
      "\u001B[1;32mG:\\SF\\venv\\lib\\site-packages\\pandas\\core\\generic.py\u001B[0m in \u001B[0;36m__getattr__\u001B[1;34m(self, name)\u001B[0m\n\u001B[0;32m   5485\u001B[0m         ):\n\u001B[0;32m   5486\u001B[0m             \u001B[1;32mreturn\u001B[0m \u001B[0mself\u001B[0m\u001B[1;33m[\u001B[0m\u001B[0mname\u001B[0m\u001B[1;33m]\u001B[0m\u001B[1;33m\u001B[0m\u001B[1;33m\u001B[0m\u001B[0m\n\u001B[1;32m-> 5487\u001B[1;33m         \u001B[1;32mreturn\u001B[0m \u001B[0mobject\u001B[0m\u001B[1;33m.\u001B[0m\u001B[0m__getattribute__\u001B[0m\u001B[1;33m(\u001B[0m\u001B[0mself\u001B[0m\u001B[1;33m,\u001B[0m \u001B[0mname\u001B[0m\u001B[1;33m)\u001B[0m\u001B[1;33m\u001B[0m\u001B[1;33m\u001B[0m\u001B[0m\n\u001B[0m\u001B[0;32m   5488\u001B[0m \u001B[1;33m\u001B[0m\u001B[0m\n\u001B[0;32m   5489\u001B[0m     \u001B[1;32mdef\u001B[0m \u001B[0m__setattr__\u001B[0m\u001B[1;33m(\u001B[0m\u001B[0mself\u001B[0m\u001B[1;33m,\u001B[0m \u001B[0mname\u001B[0m\u001B[1;33m:\u001B[0m \u001B[0mstr\u001B[0m\u001B[1;33m,\u001B[0m \u001B[0mvalue\u001B[0m\u001B[1;33m)\u001B[0m \u001B[1;33m->\u001B[0m \u001B[1;32mNone\u001B[0m\u001B[1;33m:\u001B[0m\u001B[1;33m\u001B[0m\u001B[1;33m\u001B[0m\u001B[0m\n",
      "\u001B[1;31mAttributeError\u001B[0m: 'DataFrame' object has no attribute 'price'"
     ]
    }
   ]
  },
  {
   "cell_type": "markdown",
   "source": [
    "\n",
    "* assign for the testing dataset as 'sample' = 0\n",
    "* assign for the training dataset as 'sample' = 1"
   ],
   "metadata": {
    "papermill": {
     "duration": 0.082055,
     "end_time": "2020-10-26T12:48:14.270602",
     "exception": false,
     "start_time": "2020-10-26T12:48:14.188547",
     "status": "completed"
    },
    "tags": []
   }
  },
  {
   "cell_type": "code",
   "source": [
    "test['sample'] = 0\n",
    "train['sample'] = 1\n",
    "print(f'The training dataset with {train.shape} and testing dataset with {test.shape} can be combined')"
   ],
   "metadata": {
    "papermill": {
     "duration": 0.08168,
     "end_time": "2020-10-26T12:48:14.435554",
     "exception": false,
     "start_time": "2020-10-26T12:48:14.353874",
     "status": "completed"
    },
    "tags": [],
    "execution": {
     "iopub.status.busy": "2021-09-02T14:49:50.012943Z",
     "iopub.execute_input": "2021-09-02T14:49:50.013354Z",
     "iopub.status.idle": "2021-09-02T14:49:50.021566Z",
     "shell.execute_reply.started": "2021-09-02T14:49:50.013317Z",
     "shell.execute_reply": "2021-09-02T14:49:50.020603Z"
    },
    "trusted": true
   },
   "execution_count": null,
   "outputs": []
  },
  {
   "cell_type": "code",
   "source": [
    "# comparison of training and test datasets\n",
    "check_df_before_merg(train, test)"
   ],
   "metadata": {
    "execution": {
     "iopub.status.busy": "2021-09-02T14:49:50.023302Z",
     "iopub.execute_input": "2021-09-02T14:49:50.023597Z",
     "iopub.status.idle": "2021-09-02T14:49:50.072252Z",
     "shell.execute_reply.started": "2021-09-02T14:49:50.023568Z",
     "shell.execute_reply": "2021-09-02T14:49:50.071334Z"
    },
    "trusted": true
   },
   "execution_count": null,
   "outputs": []
  },
  {
   "cell_type": "code",
   "source": [
    "# Merging\n",
    "df = test.append(train, sort=False).reset_index(drop=True)\n",
    "print(f'the shape of the merged dataset is {df.shape}')"
   ],
   "metadata": {
    "papermill": {
     "duration": 0.080788,
     "end_time": "2020-10-26T12:48:14.596978",
     "exception": false,
     "start_time": "2020-10-26T12:48:14.51619",
     "status": "completed"
    },
    "tags": [],
    "execution": {
     "iopub.status.busy": "2021-09-02T14:49:50.074022Z",
     "iopub.execute_input": "2021-09-02T14:49:50.074364Z",
     "iopub.status.idle": "2021-09-02T14:49:50.218398Z",
     "shell.execute_reply.started": "2021-09-02T14:49:50.074330Z",
     "shell.execute_reply": "2021-09-02T14:49:50.217233Z"
    },
    "trusted": true
   },
   "execution_count": null,
   "outputs": []
  },
  {
   "cell_type": "code",
   "source": [
    "df.sample(2)"
   ],
   "metadata": {
    "execution": {
     "iopub.status.busy": "2021-09-02T14:49:50.219649Z",
     "iopub.execute_input": "2021-09-02T14:49:50.219978Z",
     "iopub.status.idle": "2021-09-02T14:49:50.323493Z",
     "shell.execute_reply.started": "2021-09-02T14:49:50.219936Z",
     "shell.execute_reply": "2021-09-02T14:49:50.322636Z"
    },
    "trusted": true
   },
   "execution_count": null,
   "outputs": []
  },
  {
   "cell_type": "markdown",
   "source": [
    "# 2. Data cleaning and Exploratory Data Analysis (EDA)\n"
   ],
   "metadata": {
    "execution": {
     "iopub.status.busy": "2021-08-30T07:02:10.250655Z",
     "iopub.execute_input": "2021-08-30T07:02:10.251219Z",
     "iopub.status.idle": "2021-08-30T07:02:10.256091Z",
     "shell.execute_reply.started": "2021-08-30T07:02:10.251169Z",
     "shell.execute_reply": "2021-08-30T07:02:10.254908Z"
    }
   }
  },
  {
   "cell_type": "markdown",
   "source": [
    "## 2.1 Pandas profiling analyse"
   ],
   "metadata": {}
  },
  {
   "cell_type": "code",
   "source": [
    "pandas_profiling.ProfileReport(df)"
   ],
   "metadata": {
    "execution": {
     "iopub.status.busy": "2021-09-02T14:49:50.324664Z",
     "iopub.execute_input": "2021-09-02T14:49:50.325107Z",
     "iopub.status.idle": "2021-09-02T14:52:31.254051Z",
     "shell.execute_reply.started": "2021-09-02T14:49:50.325063Z",
     "shell.execute_reply": "2021-09-02T14:52:31.252599Z"
    },
    "trusted": true
   },
   "execution_count": null,
   "outputs": []
  },
  {
   "cell_type": "markdown",
   "source": [
    "#### Profiling summary\n",
    "* _30 not treated features in the dataset:_\n",
    "    * _CAT\t21_\n",
    "    * _NUM\t6_\n",
    "    * _UNSUPPORTED\t4_ \n",
    "    * _BOOL\t1_\n",
    "* _Missing cells (%)\t2.2%_\n",
    "* _Duplicate rows (%)\t0.0%_\n",
    "* _'Состояние','Таможня','priceCurrency',  are constant values and there is no sense for any further treatment._ _They are being droped._\n",
    "* _'car url' can give no information directly and doesn't matter for the prediction model._\n",
    "* _'image' can give no information directla and doesn'matter for the prediction model._\n",
    "* _'super gen' contains a lot of technical information, however the test data set doesn't contain the data in the feature._\n",
    "* _'sell id' doesn't contain any useful information._\n",
    "* _'vehicleConfiguration' duplicates the information are provided by other features._\n",
    "* _'description' doesn't contains useful information._\n",
    "* _'model info duplicates the information are provided by other features._\n",
    "* _'equipment_dict' and 'complectation_dict' have a similar data and can be merged._"
   ],
   "metadata": {}
  },
  {
   "cell_type": "markdown",
   "source": [
    "## 2.2 Features analysis"
   ],
   "metadata": {}
  },
  {
   "cell_type": "code",
   "source": [
    "df.columns"
   ],
   "metadata": {
    "execution": {
     "iopub.status.busy": "2021-09-02T14:52:31.256250Z",
     "iopub.execute_input": "2021-09-02T14:52:31.256795Z",
     "iopub.status.idle": "2021-09-02T14:52:31.264468Z",
     "shell.execute_reply.started": "2021-09-02T14:52:31.256731Z",
     "shell.execute_reply": "2021-09-02T14:52:31.263374Z"
    },
    "trusted": true
   },
   "execution_count": null,
   "outputs": []
  },
  {
   "cell_type": "code",
   "source": [
    "# droping the useless features\n",
    "df.drop(['Состояние', 'Таможня', 'priceCurrency', 'image', 'super_gen',\n",
    "         'vehicleConfiguration', 'description', 'model_info', 'parsing_unixtime'], axis = 1, inplace=True)"
   ],
   "metadata": {
    "execution": {
     "iopub.status.busy": "2021-09-02T14:52:31.265819Z",
     "iopub.execute_input": "2021-09-02T14:52:31.266154Z",
     "iopub.status.idle": "2021-09-02T14:52:31.292426Z",
     "shell.execute_reply.started": "2021-09-02T14:52:31.266123Z",
     "shell.execute_reply": "2021-09-02T14:52:31.291376Z"
    },
    "trusted": true
   },
   "execution_count": null,
   "outputs": []
  },
  {
   "cell_type": "code",
   "source": [
    "df.shape"
   ],
   "metadata": {
    "execution": {
     "iopub.status.busy": "2021-09-02T14:52:31.293861Z",
     "iopub.execute_input": "2021-09-02T14:52:31.294202Z",
     "iopub.status.idle": "2021-09-02T14:52:31.300122Z",
     "shell.execute_reply.started": "2021-09-02T14:52:31.294169Z",
     "shell.execute_reply": "2021-09-02T14:52:31.299089Z"
    },
    "trusted": true
   },
   "execution_count": null,
   "outputs": []
  },
  {
   "cell_type": "markdown",
   "source": [
    "### 2.2.1 bodyType"
   ],
   "metadata": {}
  },
  {
   "cell_type": "code",
   "source": [
    "#show the feature's info\n",
    "cat_feature_overview(df.bodyType)"
   ],
   "metadata": {
    "execution": {
     "iopub.status.busy": "2021-09-02T14:52:31.301633Z",
     "iopub.execute_input": "2021-09-02T14:52:31.301974Z",
     "iopub.status.idle": "2021-09-02T14:52:31.843000Z",
     "shell.execute_reply.started": "2021-09-02T14:52:31.301942Z",
     "shell.execute_reply": "2021-09-02T14:52:31.841920Z"
    },
    "trusted": true
   },
   "execution_count": null,
   "outputs": []
  },
  {
   "cell_type": "code",
   "source": [
    "#filling up by mode\n",
    "df['bodyType'] = df.bodyType.fillna(df.bodyType.value_counts(sort=True).keys()[0])"
   ],
   "metadata": {
    "execution": {
     "iopub.status.busy": "2021-09-02T14:52:31.844358Z",
     "iopub.execute_input": "2021-09-02T14:52:31.844666Z",
     "iopub.status.idle": "2021-09-02T14:52:31.890064Z",
     "shell.execute_reply.started": "2021-09-02T14:52:31.844629Z",
     "shell.execute_reply": "2021-09-02T14:52:31.889026Z"
    },
    "trusted": true
   },
   "execution_count": null,
   "outputs": []
  },
  {
   "cell_type": "code",
   "source": [
    "#Dropping the bodyTypes features that are not in the test dataset\n",
    "test_bodyType_lst = test.bodyType.value_counts().keys()\n",
    "df = df[(df['bodyType'].isin(test_bodyType_lst))]\n",
    "df.shape"
   ],
   "metadata": {
    "execution": {
     "iopub.status.busy": "2021-09-02T14:52:31.891396Z",
     "iopub.execute_input": "2021-09-02T14:52:31.891706Z",
     "iopub.status.idle": "2021-09-02T14:52:31.941038Z",
     "shell.execute_reply.started": "2021-09-02T14:52:31.891676Z",
     "shell.execute_reply": "2021-09-02T14:52:31.939973Z"
    },
    "trusted": true
   },
   "execution_count": null,
   "outputs": []
  },
  {
   "cell_type": "code",
   "source": [
    "# 10 most popular car bodies from test dataset\n",
    "test_bodies_10 = test.bodyType.value_counts(sort=True).keys()[:10]\n",
    "test_bodies_10"
   ],
   "metadata": {
    "execution": {
     "iopub.status.busy": "2021-09-02T14:52:31.942350Z",
     "iopub.execute_input": "2021-09-02T14:52:31.942639Z",
     "iopub.status.idle": "2021-09-02T14:52:31.960795Z",
     "shell.execute_reply.started": "2021-09-02T14:52:31.942612Z",
     "shell.execute_reply": "2021-09-02T14:52:31.959476Z"
    },
    "trusted": true
   },
   "execution_count": null,
   "outputs": []
  },
  {
   "cell_type": "markdown",
   "source": [
    "### 2.2.2 enginePower"
   ],
   "metadata": {}
  },
  {
   "cell_type": "code",
   "source": [
    "num_feature_overview(df.enginePower)"
   ],
   "metadata": {
    "execution": {
     "iopub.status.busy": "2021-09-02T14:52:31.962515Z",
     "iopub.execute_input": "2021-09-02T14:52:31.962963Z",
     "iopub.status.idle": "2021-09-02T14:52:32.052615Z",
     "shell.execute_reply.started": "2021-09-02T14:52:31.962917Z",
     "shell.execute_reply": "2021-09-02T14:52:32.051348Z"
    },
    "trusted": true
   },
   "execution_count": null,
   "outputs": []
  },
  {
   "cell_type": "code",
   "source": [
    "df['enginePower'] = df['enginePower'].astype(str)\n",
    "df['enginePower']  = df['enginePower'].apply(lambda x: x.partition('N12')[0]).astype(int)"
   ],
   "metadata": {
    "execution": {
     "iopub.status.busy": "2021-09-02T14:52:32.054233Z",
     "iopub.execute_input": "2021-09-02T14:52:32.054667Z",
     "iopub.status.idle": "2021-09-02T14:52:32.168785Z",
     "shell.execute_reply.started": "2021-09-02T14:52:32.054622Z",
     "shell.execute_reply": "2021-09-02T14:52:32.167719Z"
    },
    "trusted": true
   },
   "execution_count": null,
   "outputs": []
  },
  {
   "cell_type": "code",
   "source": [
    "num_feature_overview(df.enginePower)"
   ],
   "metadata": {
    "execution": {
     "iopub.status.busy": "2021-09-02T14:52:32.170423Z",
     "iopub.execute_input": "2021-09-02T14:52:32.170866Z",
     "iopub.status.idle": "2021-09-02T14:52:32.185558Z",
     "shell.execute_reply.started": "2021-09-02T14:52:32.170817Z",
     "shell.execute_reply": "2021-09-02T14:52:32.184500Z"
    },
    "trusted": true
   },
   "execution_count": null,
   "outputs": []
  },
  {
   "cell_type": "code",
   "source": [
    "df[(df['enginePower']<90)]['brand'].value_counts().plot(kind = 'barh',figsize= (10,7), title='The cars with total power less then 90HP')"
   ],
   "metadata": {
    "execution": {
     "iopub.status.busy": "2021-09-02T14:52:32.186903Z",
     "iopub.execute_input": "2021-09-02T14:52:32.187212Z",
     "iopub.status.idle": "2021-09-02T14:52:32.605179Z",
     "shell.execute_reply.started": "2021-09-02T14:52:32.187183Z",
     "shell.execute_reply": "2021-09-02T14:52:32.604159Z"
    },
    "trusted": true
   },
   "execution_count": null,
   "outputs": []
  },
  {
   "cell_type": "code",
   "source": [
    "df[(df['enginePower']>600)]['brand'].value_counts().plot(kind = 'barh', figsize= (10,7),title='The cars with total power over 600HP')"
   ],
   "metadata": {
    "execution": {
     "iopub.status.busy": "2021-09-02T14:52:32.606621Z",
     "iopub.execute_input": "2021-09-02T14:52:32.606908Z",
     "iopub.status.idle": "2021-09-02T14:52:32.879512Z",
     "shell.execute_reply.started": "2021-09-02T14:52:32.606880Z",
     "shell.execute_reply": "2021-09-02T14:52:32.878751Z"
    },
    "trusted": true
   },
   "execution_count": null,
   "outputs": []
  },
  {
   "cell_type": "code",
   "source": [
    "sns.boxplot(df.enginePower, color='blue')"
   ],
   "metadata": {
    "execution": {
     "iopub.status.busy": "2021-09-02T14:52:32.880572Z",
     "iopub.execute_input": "2021-09-02T14:52:32.880963Z",
     "iopub.status.idle": "2021-09-02T14:52:33.146674Z",
     "shell.execute_reply.started": "2021-09-02T14:52:32.880933Z",
     "shell.execute_reply": "2021-09-02T14:52:33.145787Z"
    },
    "trusted": true
   },
   "execution_count": null,
   "outputs": []
  },
  {
   "cell_type": "code",
   "source": [
    "#Distribution of the enginePower before dropping of the outliers\n",
    "check_iqr(df.enginePower)"
   ],
   "metadata": {
    "execution": {
     "iopub.status.busy": "2021-09-02T14:52:33.148025Z",
     "iopub.execute_input": "2021-09-02T14:52:33.148497Z",
     "iopub.status.idle": "2021-09-02T14:52:33.573185Z",
     "shell.execute_reply.started": "2021-09-02T14:52:33.148455Z",
     "shell.execute_reply": "2021-09-02T14:52:33.572416Z"
    },
    "trusted": true
   },
   "execution_count": null,
   "outputs": []
  },
  {
   "cell_type": "code",
   "source": [
    "sns.boxplot(df.enginePower, color='blue')"
   ],
   "metadata": {
    "execution": {
     "iopub.status.busy": "2021-09-02T14:52:33.574264Z",
     "iopub.execute_input": "2021-09-02T14:52:33.574673Z",
     "iopub.status.idle": "2021-09-02T14:52:33.832239Z",
     "shell.execute_reply.started": "2021-09-02T14:52:33.574631Z",
     "shell.execute_reply": "2021-09-02T14:52:33.831279Z"
    },
    "trusted": true
   },
   "execution_count": null,
   "outputs": []
  },
  {
   "cell_type": "code",
   "source": [
    "#Dropping the lines with the outliers\n",
    "df.drop(df[df.enginePower > 360].index, inplace=True)\n",
    "df.shape"
   ],
   "metadata": {
    "execution": {
     "iopub.status.busy": "2021-09-02T14:52:33.834130Z",
     "iopub.execute_input": "2021-09-02T14:52:33.834472Z",
     "iopub.status.idle": "2021-09-02T14:52:33.870436Z",
     "shell.execute_reply.started": "2021-09-02T14:52:33.834438Z",
     "shell.execute_reply": "2021-09-02T14:52:33.869354Z"
    },
    "trusted": true
   },
   "execution_count": null,
   "outputs": []
  },
  {
   "cell_type": "code",
   "source": [
    "#Distribution of the enginePower after dropping of the outliers\n",
    "check_iqr(df.enginePower)"
   ],
   "metadata": {
    "execution": {
     "iopub.status.busy": "2021-09-02T14:52:33.871986Z",
     "iopub.execute_input": "2021-09-02T14:52:33.872336Z",
     "iopub.status.idle": "2021-09-02T14:52:34.311677Z",
     "shell.execute_reply.started": "2021-09-02T14:52:33.872304Z",
     "shell.execute_reply": "2021-09-02T14:52:34.310444Z"
    },
    "trusted": true
   },
   "execution_count": null,
   "outputs": []
  },
  {
   "cell_type": "markdown",
   "source": [
    "### 2.2.3 modelDate"
   ],
   "metadata": {}
  },
  {
   "cell_type": "code",
   "source": [
    "cat_feature_overview(df.modelDate)"
   ],
   "metadata": {
    "execution": {
     "iopub.status.busy": "2021-09-02T14:52:34.313574Z",
     "iopub.execute_input": "2021-09-02T14:52:34.314346Z",
     "iopub.status.idle": "2021-09-02T14:52:35.137736Z",
     "shell.execute_reply.started": "2021-09-02T14:52:34.314295Z",
     "shell.execute_reply": "2021-09-02T14:52:35.136283Z"
    },
    "trusted": true
   },
   "execution_count": null,
   "outputs": []
  },
  {
   "cell_type": "code",
   "source": [
    "#check the outliers \n",
    "check_iqr(df.modelDate)"
   ],
   "metadata": {
    "execution": {
     "iopub.status.busy": "2021-09-02T14:52:35.139352Z",
     "iopub.execute_input": "2021-09-02T14:52:35.139786Z",
     "iopub.status.idle": "2021-09-02T14:52:35.570714Z",
     "shell.execute_reply.started": "2021-09-02T14:52:35.139731Z",
     "shell.execute_reply": "2021-09-02T14:52:35.569329Z"
    },
    "trusted": true
   },
   "execution_count": null,
   "outputs": []
  },
  {
   "cell_type": "code",
   "source": [
    "df.modelDate.describe()"
   ],
   "metadata": {
    "execution": {
     "iopub.status.busy": "2021-09-02T14:52:35.572750Z",
     "iopub.execute_input": "2021-09-02T14:52:35.573251Z",
     "iopub.status.idle": "2021-09-02T14:52:35.588123Z",
     "shell.execute_reply.started": "2021-09-02T14:52:35.573200Z",
     "shell.execute_reply": "2021-09-02T14:52:35.586582Z"
    },
    "trusted": true
   },
   "execution_count": null,
   "outputs": []
  },
  {
   "cell_type": "code",
   "source": [
    "#Sampling the relevant modelDate year's range\n",
    "df = df[(df.modelDate >= 1990) & (df.modelDate <= 2021)]\n",
    "df.shape"
   ],
   "metadata": {
    "execution": {
     "iopub.status.busy": "2021-09-02T14:52:35.601360Z",
     "iopub.execute_input": "2021-09-02T14:52:35.601708Z",
     "iopub.status.idle": "2021-09-02T14:52:35.631916Z",
     "shell.execute_reply.started": "2021-09-02T14:52:35.601678Z",
     "shell.execute_reply": "2021-09-02T14:52:35.630664Z"
    },
    "trusted": true
   },
   "execution_count": null,
   "outputs": []
  },
  {
   "cell_type": "markdown",
   "source": [
    "### 2.2.4 productionDate"
   ],
   "metadata": {}
  },
  {
   "cell_type": "code",
   "source": [
    "cat_feature_overview(df.productionDate)"
   ],
   "metadata": {
    "execution": {
     "iopub.status.busy": "2021-09-02T14:52:35.635947Z",
     "iopub.execute_input": "2021-09-02T14:52:35.636287Z",
     "iopub.status.idle": "2021-09-02T14:52:36.063389Z",
     "shell.execute_reply.started": "2021-09-02T14:52:35.636257Z",
     "shell.execute_reply": "2021-09-02T14:52:36.062428Z"
    },
    "trusted": true
   },
   "execution_count": null,
   "outputs": []
  },
  {
   "cell_type": "code",
   "source": [
    "#check the outliers distribution of the productionDate\n",
    "check_iqr(df.productionDate)"
   ],
   "metadata": {
    "execution": {
     "iopub.status.busy": "2021-09-02T14:52:36.064779Z",
     "iopub.execute_input": "2021-09-02T14:52:36.065075Z",
     "iopub.status.idle": "2021-09-02T14:52:36.505106Z",
     "shell.execute_reply.started": "2021-09-02T14:52:36.065048Z",
     "shell.execute_reply": "2021-09-02T14:52:36.503922Z"
    },
    "trusted": true
   },
   "execution_count": null,
   "outputs": []
  },
  {
   "cell_type": "code",
   "source": [
    "df.productionDate.describe()"
   ],
   "metadata": {
    "execution": {
     "iopub.status.busy": "2021-09-02T14:52:36.507169Z",
     "iopub.execute_input": "2021-09-02T14:52:36.507633Z",
     "iopub.status.idle": "2021-09-02T14:52:36.522839Z",
     "shell.execute_reply.started": "2021-09-02T14:52:36.507576Z",
     "shell.execute_reply": "2021-09-02T14:52:36.521414Z"
    },
    "trusted": true
   },
   "execution_count": null,
   "outputs": []
  },
  {
   "cell_type": "code",
   "source": [
    "#Sampling the relevant productionDate year's range\n",
    "df = df[(df.productionDate >= 1995) & (df.productionDate <= 2021)]\n",
    "df.shape"
   ],
   "metadata": {
    "execution": {
     "iopub.status.busy": "2021-09-02T14:52:36.524331Z",
     "iopub.execute_input": "2021-09-02T14:52:36.524764Z",
     "iopub.status.idle": "2021-09-02T14:52:36.555995Z",
     "shell.execute_reply.started": "2021-09-02T14:52:36.524718Z",
     "shell.execute_reply": "2021-09-02T14:52:36.554937Z"
    },
    "trusted": true
   },
   "execution_count": null,
   "outputs": []
  },
  {
   "cell_type": "code",
   "source": [
    "#Distribution of the productionDate after dropping of the outliers\n",
    "check_iqr(df.productionDate)"
   ],
   "metadata": {
    "execution": {
     "iopub.status.busy": "2021-09-02T14:52:36.558360Z",
     "iopub.execute_input": "2021-09-02T14:52:36.558855Z",
     "iopub.status.idle": "2021-09-02T14:52:36.998065Z",
     "shell.execute_reply.started": "2021-09-02T14:52:36.558806Z",
     "shell.execute_reply": "2021-09-02T14:52:36.996870Z"
    },
    "trusted": true
   },
   "execution_count": null,
   "outputs": []
  },
  {
   "cell_type": "code",
   "source": [
    "df.shape"
   ],
   "metadata": {
    "execution": {
     "iopub.status.busy": "2021-09-02T14:52:36.999961Z",
     "iopub.execute_input": "2021-09-02T14:52:37.000436Z",
     "iopub.status.idle": "2021-09-02T14:52:37.006951Z",
     "shell.execute_reply.started": "2021-09-02T14:52:37.000387Z",
     "shell.execute_reply": "2021-09-02T14:52:37.006116Z"
    },
    "trusted": true
   },
   "execution_count": null,
   "outputs": []
  },
  {
   "cell_type": "markdown",
   "source": [
    "### 2.2.5 target feature \"price\" at the train dataset"
   ],
   "metadata": {}
  },
  {
   "cell_type": "code",
   "source": [
    "#info from prices of training dataset\n",
    "num_feature_overview(df.price)"
   ],
   "metadata": {
    "execution": {
     "iopub.status.busy": "2021-09-02T14:52:37.008566Z",
     "iopub.execute_input": "2021-09-02T14:52:37.008882Z",
     "iopub.status.idle": "2021-09-02T14:52:37.029949Z",
     "shell.execute_reply.started": "2021-09-02T14:52:37.008852Z",
     "shell.execute_reply": "2021-09-02T14:52:37.028841Z"
    },
    "trusted": true
   },
   "execution_count": null,
   "outputs": []
  },
  {
   "cell_type": "code",
   "source": [
    "check_iqr(df[(df['sample'] ==1)].price)"
   ],
   "metadata": {
    "execution": {
     "iopub.status.busy": "2021-09-02T14:52:37.031507Z",
     "iopub.execute_input": "2021-09-02T14:52:37.031823Z",
     "iopub.status.idle": "2021-09-02T14:52:37.506953Z",
     "shell.execute_reply.started": "2021-09-02T14:52:37.031790Z",
     "shell.execute_reply": "2021-09-02T14:52:37.505773Z"
    },
    "trusted": true
   },
   "execution_count": null,
   "outputs": []
  },
  {
   "cell_type": "code",
   "source": [
    "df[(df['sample'] ==1)].price.describe()"
   ],
   "metadata": {
    "execution": {
     "iopub.status.busy": "2021-09-02T14:52:37.508380Z",
     "iopub.execute_input": "2021-09-02T14:52:37.508783Z",
     "iopub.status.idle": "2021-09-02T14:52:37.535743Z",
     "shell.execute_reply.started": "2021-09-02T14:52:37.508743Z",
     "shell.execute_reply": "2021-09-02T14:52:37.534660Z"
    },
    "trusted": true
   },
   "execution_count": null,
   "outputs": []
  },
  {
   "cell_type": "code",
   "source": [
    "len(df[(df['price']> 3038000)])"
   ],
   "metadata": {
    "execution": {
     "iopub.status.busy": "2021-09-02T14:52:37.537187Z",
     "iopub.execute_input": "2021-09-02T14:52:37.537489Z",
     "iopub.status.idle": "2021-09-02T14:52:37.548113Z",
     "shell.execute_reply.started": "2021-09-02T14:52:37.537460Z",
     "shell.execute_reply": "2021-09-02T14:52:37.547144Z"
    },
    "trusted": true
   },
   "execution_count": null,
   "outputs": []
  },
  {
   "cell_type": "code",
   "source": [
    "#dropping the higher outliered data in dataset\n",
    "df = df[((df['sample']==1) & (df['price']<3038000)) | (df['sample']==0)]"
   ],
   "metadata": {
    "execution": {
     "iopub.status.busy": "2021-09-02T14:52:37.549947Z",
     "iopub.execute_input": "2021-09-02T14:52:37.550299Z",
     "iopub.status.idle": "2021-09-02T14:52:37.582658Z",
     "shell.execute_reply.started": "2021-09-02T14:52:37.550269Z",
     "shell.execute_reply": "2021-09-02T14:52:37.581387Z"
    },
    "trusted": true
   },
   "execution_count": null,
   "outputs": []
  },
  {
   "cell_type": "code",
   "source": [
    "#For further modeling seems to be used a log-function of price feature\n",
    "df['price_log']=df['price'].apply(lambda x: np.log(x))"
   ],
   "metadata": {
    "execution": {
     "iopub.status.busy": "2021-09-02T14:52:37.584073Z",
     "iopub.execute_input": "2021-09-02T14:52:37.584430Z",
     "iopub.status.idle": "2021-09-02T14:52:37.789409Z",
     "shell.execute_reply.started": "2021-09-02T14:52:37.584398Z",
     "shell.execute_reply": "2021-09-02T14:52:37.788557Z"
    },
    "trusted": true
   },
   "execution_count": null,
   "outputs": []
  },
  {
   "cell_type": "code",
   "source": [
    "#check the feature's distribution\n",
    "check_iqr(df[(df['sample'] ==1)].price_log)"
   ],
   "metadata": {
    "execution": {
     "iopub.status.busy": "2021-09-02T14:52:37.790487Z",
     "iopub.execute_input": "2021-09-02T14:52:37.790919Z",
     "iopub.status.idle": "2021-09-02T14:52:38.232290Z",
     "shell.execute_reply.started": "2021-09-02T14:52:37.790888Z",
     "shell.execute_reply": "2021-09-02T14:52:38.231355Z"
    },
    "trusted": true
   },
   "execution_count": null,
   "outputs": []
  },
  {
   "cell_type": "code",
   "source": [
    "df.shape"
   ],
   "metadata": {
    "execution": {
     "iopub.status.busy": "2021-09-02T14:52:38.233731Z",
     "iopub.execute_input": "2021-09-02T14:52:38.234031Z",
     "iopub.status.idle": "2021-09-02T14:52:38.240493Z",
     "shell.execute_reply.started": "2021-09-02T14:52:38.234001Z",
     "shell.execute_reply": "2021-09-02T14:52:38.239368Z"
    },
    "trusted": true
   },
   "execution_count": null,
   "outputs": []
  },
  {
   "cell_type": "code",
   "source": [
    "#The distribution car prices by production years\n",
    "year = df['productionDate'].values\n",
    "price = df['price'].values\n",
    "plt.figure(figsize=(15,10))\n",
    "plt.scatter(year,price,c='b')"
   ],
   "metadata": {
    "execution": {
     "iopub.status.busy": "2021-09-02T14:52:38.241661Z",
     "iopub.execute_input": "2021-09-02T14:52:38.241936Z",
     "iopub.status.idle": "2021-09-02T14:52:38.728380Z",
     "shell.execute_reply.started": "2021-09-02T14:52:38.241910Z",
     "shell.execute_reply": "2021-09-02T14:52:38.727350Z"
    },
    "trusted": true
   },
   "execution_count": null,
   "outputs": []
  },
  {
   "cell_type": "markdown",
   "source": [
    "### 2.2.6 brand"
   ],
   "metadata": {
    "execution": {
     "iopub.status.busy": "2021-08-30T11:45:33.183044Z",
     "iopub.execute_input": "2021-08-30T11:45:33.183466Z",
     "iopub.status.idle": "2021-08-30T11:45:33.188222Z",
     "shell.execute_reply.started": "2021-08-30T11:45:33.183434Z",
     "shell.execute_reply": "2021-08-30T11:45:33.186824Z"
    }
   }
  },
  {
   "cell_type": "code",
   "source": [
    "cat_feature_overview(df.brand)"
   ],
   "metadata": {
    "execution": {
     "iopub.status.busy": "2021-09-02T14:52:38.729664Z",
     "iopub.execute_input": "2021-09-02T14:52:38.729930Z",
     "iopub.status.idle": "2021-09-02T14:52:39.382402Z",
     "shell.execute_reply.started": "2021-09-02T14:52:38.729904Z",
     "shell.execute_reply": "2021-09-02T14:52:39.381376Z"
    },
    "trusted": true
   },
   "execution_count": null,
   "outputs": []
  },
  {
   "cell_type": "code",
   "source": [
    "brand_list = train.brand.unique()\n",
    "print(f'Total amount of represented brands in dataset is {len(brand_list)}')"
   ],
   "metadata": {
    "execution": {
     "iopub.status.busy": "2021-09-02T14:52:39.383612Z",
     "iopub.execute_input": "2021-09-02T14:52:39.383920Z",
     "iopub.status.idle": "2021-09-02T14:52:39.394988Z",
     "shell.execute_reply.started": "2021-09-02T14:52:39.383891Z",
     "shell.execute_reply": "2021-09-02T14:52:39.393960Z"
    },
    "trusted": true
   },
   "execution_count": null,
   "outputs": []
  },
  {
   "cell_type": "markdown",
   "source": [
    "#### _Definition of most relevant brands for the model of price prediction_\n"
   ],
   "metadata": {
    "execution": {
     "iopub.status.busy": "2021-08-30T16:36:30.560912Z",
     "iopub.execute_input": "2021-08-30T16:36:30.561355Z",
     "iopub.status.idle": "2021-08-30T16:36:30.569342Z",
     "shell.execute_reply.started": "2021-08-30T16:36:30.561321Z",
     "shell.execute_reply": "2021-08-30T16:36:30.568488Z"
    }
   }
  },
  {
   "cell_type": "code",
   "source": [
    "brand_lst= []\n",
    "for mark in test_bodies_10:\n",
    "    brand_lst += train_brand_pvt(mark, 1990, 2020)"
   ],
   "metadata": {
    "execution": {
     "iopub.status.busy": "2021-09-02T14:52:39.396684Z",
     "iopub.execute_input": "2021-09-02T14:52:39.396996Z",
     "iopub.status.idle": "2021-09-02T14:52:39.773968Z",
     "shell.execute_reply.started": "2021-09-02T14:52:39.396967Z",
     "shell.execute_reply": "2021-09-02T14:52:39.772772Z"
    },
    "trusted": true
   },
   "execution_count": null,
   "outputs": []
  },
  {
   "cell_type": "markdown",
   "source": [
    "#### _The list of relevant brands_"
   ],
   "metadata": {}
  },
  {
   "cell_type": "code",
   "source": [
    "relevant_brands_lst = set(brand_lst)\n",
    "print(relevant_brands_lst,'\\n','\\n', f'Total amount of relevant brands was reduced to {len(relevant_brands_lst)}')\n"
   ],
   "metadata": {
    "execution": {
     "iopub.status.busy": "2021-09-02T14:52:39.775325Z",
     "iopub.execute_input": "2021-09-02T14:52:39.775628Z",
     "iopub.status.idle": "2021-09-02T14:52:39.782494Z",
     "shell.execute_reply.started": "2021-09-02T14:52:39.775600Z",
     "shell.execute_reply": "2021-09-02T14:52:39.780935Z"
    },
    "trusted": true
   },
   "execution_count": null,
   "outputs": []
  },
  {
   "cell_type": "markdown",
   "source": [
    "#### _The updated dataset by relevant models list_"
   ],
   "metadata": {}
  },
  {
   "cell_type": "code",
   "source": [
    "df = df[df['brand'].isin(relevant_brands_lst)]\n",
    "df.shape"
   ],
   "metadata": {
    "execution": {
     "iopub.status.busy": "2021-09-02T14:52:39.783947Z",
     "iopub.execute_input": "2021-09-02T14:52:39.784305Z",
     "iopub.status.idle": "2021-09-02T14:52:39.821281Z",
     "shell.execute_reply.started": "2021-09-02T14:52:39.784275Z",
     "shell.execute_reply": "2021-09-02T14:52:39.820213Z"
    },
    "trusted": true
   },
   "execution_count": null,
   "outputs": []
  },
  {
   "cell_type": "code",
   "source": [
    "cat_feature_overview(df.brand)"
   ],
   "metadata": {
    "execution": {
     "iopub.status.busy": "2021-09-02T14:52:39.822776Z",
     "iopub.execute_input": "2021-09-02T14:52:39.823224Z",
     "iopub.status.idle": "2021-09-02T14:52:40.335307Z",
     "shell.execute_reply.started": "2021-09-02T14:52:39.823178Z",
     "shell.execute_reply": "2021-09-02T14:52:40.334104Z"
    },
    "trusted": true
   },
   "execution_count": null,
   "outputs": []
  },
  {
   "cell_type": "markdown",
   "source": [
    "### 2.2.7 fuelType"
   ],
   "metadata": {}
  },
  {
   "cell_type": "code",
   "source": [
    "cat_feature_overview(df.fuelType)"
   ],
   "metadata": {
    "execution": {
     "iopub.status.busy": "2021-09-02T14:52:40.336811Z",
     "iopub.execute_input": "2021-09-02T14:52:40.337151Z",
     "iopub.status.idle": "2021-09-02T14:52:40.701745Z",
     "shell.execute_reply.started": "2021-09-02T14:52:40.337118Z",
     "shell.execute_reply": "2021-09-02T14:52:40.700756Z"
    },
    "trusted": true
   },
   "execution_count": null,
   "outputs": []
  },
  {
   "cell_type": "code",
   "source": [
    "#check wether are same the fuel types at the test dataset and training dataset\n",
    "\n",
    "print('at the test dataset', '\\n',test.fuelType.value_counts(), '\\n')\n",
    "print('at the train dataset','\\n',train.fuelType.value_counts(),'\\n')"
   ],
   "metadata": {
    "execution": {
     "iopub.status.busy": "2021-09-02T14:52:40.703183Z",
     "iopub.execute_input": "2021-09-02T14:52:40.703491Z",
     "iopub.status.idle": "2021-09-02T14:52:40.738687Z",
     "shell.execute_reply.started": "2021-09-02T14:52:40.703463Z",
     "shell.execute_reply": "2021-09-02T14:52:40.737652Z"
    },
    "trusted": true
   },
   "execution_count": null,
   "outputs": []
  },
  {
   "cell_type": "markdown",
   "source": [
    "### 2.2.8 engineDisplacement"
   ],
   "metadata": {}
  },
  {
   "cell_type": "code",
   "source": [
    "num_feature_overview(df.engineDisplacement)"
   ],
   "metadata": {
    "execution": {
     "iopub.status.busy": "2021-09-02T14:52:40.739950Z",
     "iopub.execute_input": "2021-09-02T14:52:40.740263Z",
     "iopub.status.idle": "2021-09-02T14:52:40.809860Z",
     "shell.execute_reply.started": "2021-09-02T14:52:40.740235Z",
     "shell.execute_reply": "2021-09-02T14:52:40.808925Z"
    },
    "trusted": true
   },
   "execution_count": null,
   "outputs": []
  },
  {
   "cell_type": "code",
   "source": [
    "df.engineDisplacement.value_counts()"
   ],
   "metadata": {
    "execution": {
     "iopub.status.busy": "2021-09-02T14:52:40.811608Z",
     "iopub.execute_input": "2021-09-02T14:52:40.812039Z",
     "iopub.status.idle": "2021-09-02T14:52:40.842270Z",
     "shell.execute_reply.started": "2021-09-02T14:52:40.811993Z",
     "shell.execute_reply": "2021-09-02T14:52:40.841367Z"
    },
    "trusted": true
   },
   "execution_count": null,
   "outputs": []
  },
  {
   "cell_type": "code",
   "source": [
    "def float_value(feature):\n",
    "    '''the cleaning function returns the \n",
    "    float value's type\n",
    "    '''\n",
    "    pattern = re.compile('([^\\d.]+)')\n",
    "    feature = feature.replace(pattern, '')\n",
    "    oft_value = feature.value_counts(sort=True).keys()[0]\n",
    "    feature = feature.replace('', oft_value).astype(float, errors = 'raise')\n",
    "    return feature"
   ],
   "metadata": {
    "execution": {
     "iopub.status.busy": "2021-09-02T14:52:40.845796Z",
     "iopub.execute_input": "2021-09-02T14:52:40.846114Z",
     "iopub.status.idle": "2021-09-02T14:52:40.855822Z",
     "shell.execute_reply.started": "2021-09-02T14:52:40.846068Z",
     "shell.execute_reply": "2021-09-02T14:52:40.854914Z"
    },
    "trusted": true
   },
   "execution_count": null,
   "outputs": []
  },
  {
   "cell_type": "code",
   "source": [
    "df['engineDisplacement'] = float_value(df['engineDisplacement'])"
   ],
   "metadata": {
    "execution": {
     "iopub.status.busy": "2021-09-02T14:52:40.857994Z",
     "iopub.execute_input": "2021-09-02T14:52:40.858345Z",
     "iopub.status.idle": "2021-09-02T14:52:41.060750Z",
     "shell.execute_reply.started": "2021-09-02T14:52:40.858313Z",
     "shell.execute_reply": "2021-09-02T14:52:41.059453Z"
    },
    "trusted": true
   },
   "execution_count": null,
   "outputs": []
  },
  {
   "cell_type": "code",
   "source": [
    "df.engineDisplacement.describe()"
   ],
   "metadata": {
    "execution": {
     "iopub.status.busy": "2021-09-02T14:52:41.062316Z",
     "iopub.execute_input": "2021-09-02T14:52:41.062776Z",
     "iopub.status.idle": "2021-09-02T14:52:41.077719Z",
     "shell.execute_reply.started": "2021-09-02T14:52:41.062713Z",
     "shell.execute_reply": "2021-09-02T14:52:41.076486Z"
    },
    "trusted": true
   },
   "execution_count": null,
   "outputs": []
  },
  {
   "cell_type": "code",
   "source": [
    "#sampling the relevant engineDisplacement range\n",
    "df = df[(df.engineDisplacement >= 0.9) & (df.engineDisplacement <= 6)]\n",
    "df.shape"
   ],
   "metadata": {
    "execution": {
     "iopub.status.busy": "2021-09-02T14:52:41.079420Z",
     "iopub.execute_input": "2021-09-02T14:52:41.079858Z",
     "iopub.status.idle": "2021-09-02T14:52:41.110176Z",
     "shell.execute_reply.started": "2021-09-02T14:52:41.079812Z",
     "shell.execute_reply": "2021-09-02T14:52:41.109158Z"
    },
    "trusted": true
   },
   "execution_count": null,
   "outputs": []
  },
  {
   "cell_type": "code",
   "source": [
    "#Distribution of the engineDisplacement \n",
    "check_iqr(df.engineDisplacement)"
   ],
   "metadata": {
    "execution": {
     "iopub.status.busy": "2021-09-02T14:52:41.111248Z",
     "iopub.execute_input": "2021-09-02T14:52:41.111536Z",
     "iopub.status.idle": "2021-09-02T14:52:41.514963Z",
     "shell.execute_reply.started": "2021-09-02T14:52:41.111508Z",
     "shell.execute_reply": "2021-09-02T14:52:41.513901Z"
    },
    "trusted": true
   },
   "execution_count": null,
   "outputs": []
  },
  {
   "cell_type": "code",
   "source": [
    "#For further modeling seems to be used a log-function of engineDisplacement  feature\n",
    "df['engineDisplacement _log']=df['engineDisplacement'].apply(lambda x: np.log(x))"
   ],
   "metadata": {
    "execution": {
     "iopub.status.busy": "2021-09-02T14:52:41.516281Z",
     "iopub.execute_input": "2021-09-02T14:52:41.516568Z",
     "iopub.status.idle": "2021-09-02T14:52:41.708782Z",
     "shell.execute_reply.started": "2021-09-02T14:52:41.516541Z",
     "shell.execute_reply": "2021-09-02T14:52:41.707674Z"
    },
    "trusted": true
   },
   "execution_count": null,
   "outputs": []
  },
  {
   "cell_type": "code",
   "source": [
    "num_feature_overview(df.engineDisplacement)"
   ],
   "metadata": {
    "execution": {
     "iopub.status.busy": "2021-09-02T14:52:41.710268Z",
     "iopub.execute_input": "2021-09-02T14:52:41.710679Z",
     "iopub.status.idle": "2021-09-02T14:52:41.724738Z",
     "shell.execute_reply.started": "2021-09-02T14:52:41.710636Z",
     "shell.execute_reply": "2021-09-02T14:52:41.723513Z"
    },
    "trusted": true
   },
   "execution_count": null,
   "outputs": []
  },
  {
   "cell_type": "markdown",
   "source": [
    "### 2.2.9 numberOfDoors"
   ],
   "metadata": {}
  },
  {
   "cell_type": "code",
   "source": [
    "num_feature_overview(df.numberOfDoors)"
   ],
   "metadata": {
    "execution": {
     "iopub.status.busy": "2021-09-02T14:52:41.726040Z",
     "iopub.execute_input": "2021-09-02T14:52:41.726375Z",
     "iopub.status.idle": "2021-09-02T14:52:41.738359Z",
     "shell.execute_reply.started": "2021-09-02T14:52:41.726344Z",
     "shell.execute_reply": "2021-09-02T14:52:41.737162Z"
    },
    "trusted": true
   },
   "execution_count": null,
   "outputs": []
  },
  {
   "cell_type": "code",
   "source": [
    "#check the '0' value\n",
    "df[(df.numberOfDoors == 0)]"
   ],
   "metadata": {
    "execution": {
     "iopub.status.busy": "2021-09-02T14:52:41.740195Z",
     "iopub.execute_input": "2021-09-02T14:52:41.740502Z",
     "iopub.status.idle": "2021-09-02T14:52:41.758802Z",
     "shell.execute_reply.started": "2021-09-02T14:52:41.740473Z",
     "shell.execute_reply": "2021-09-02T14:52:41.758013Z"
    },
    "trusted": true
   },
   "execution_count": null,
   "outputs": []
  },
  {
   "cell_type": "code",
   "source": [
    "#check\n",
    "plt.hist(df.numberOfDoors)"
   ],
   "metadata": {
    "execution": {
     "iopub.status.busy": "2021-09-02T14:52:41.759959Z",
     "iopub.execute_input": "2021-09-02T14:52:41.760450Z",
     "iopub.status.idle": "2021-09-02T14:52:42.046311Z",
     "shell.execute_reply.started": "2021-09-02T14:52:41.760415Z",
     "shell.execute_reply": "2021-09-02T14:52:42.045543Z"
    },
    "trusted": true
   },
   "execution_count": null,
   "outputs": []
  },
  {
   "cell_type": "markdown",
   "source": [
    "### 2.2.10 mileage"
   ],
   "metadata": {}
  },
  {
   "cell_type": "code",
   "source": [
    "num_feature_overview(df.mileage)"
   ],
   "metadata": {
    "execution": {
     "iopub.status.busy": "2021-09-02T14:52:42.047423Z",
     "iopub.execute_input": "2021-09-02T14:52:42.047851Z",
     "iopub.status.idle": "2021-09-02T14:52:42.063857Z",
     "shell.execute_reply.started": "2021-09-02T14:52:42.047807Z",
     "shell.execute_reply": "2021-09-02T14:52:42.063032Z"
    },
    "trusted": true
   },
   "execution_count": null,
   "outputs": []
  },
  {
   "cell_type": "code",
   "source": [
    "df.mileage.describe()"
   ],
   "metadata": {
    "execution": {
     "iopub.status.busy": "2021-09-02T14:52:42.065152Z",
     "iopub.execute_input": "2021-09-02T14:52:42.065456Z",
     "iopub.status.idle": "2021-09-02T14:52:42.080204Z",
     "shell.execute_reply.started": "2021-09-02T14:52:42.065425Z",
     "shell.execute_reply": "2021-09-02T14:52:42.078985Z"
    },
    "trusted": true
   },
   "execution_count": null,
   "outputs": []
  },
  {
   "cell_type": "code",
   "source": [
    "check_iqr(df.mileage)"
   ],
   "metadata": {
    "execution": {
     "iopub.status.busy": "2021-09-02T14:52:42.081855Z",
     "iopub.execute_input": "2021-09-02T14:52:42.082178Z",
     "iopub.status.idle": "2021-09-02T14:52:42.498001Z",
     "shell.execute_reply.started": "2021-09-02T14:52:42.082146Z",
     "shell.execute_reply": "2021-09-02T14:52:42.497062Z"
    },
    "trusted": true
   },
   "execution_count": null,
   "outputs": []
  },
  {
   "cell_type": "code",
   "source": [
    "df[(df['mileage']>384000.0)].brand.value_counts()"
   ],
   "metadata": {
    "execution": {
     "iopub.status.busy": "2021-09-02T14:52:42.499571Z",
     "iopub.execute_input": "2021-09-02T14:52:42.499877Z",
     "iopub.status.idle": "2021-09-02T14:52:42.516688Z",
     "shell.execute_reply.started": "2021-09-02T14:52:42.499846Z",
     "shell.execute_reply": "2021-09-02T14:52:42.515525Z"
    },
    "trusted": true
   },
   "execution_count": null,
   "outputs": []
  },
  {
   "cell_type": "code",
   "source": [
    "#apply the outlier's high border on dataframe by mileage\n",
    "df = df[(df['mileage'] < 384000.0)]\n",
    "df.shape"
   ],
   "metadata": {
    "execution": {
     "iopub.status.busy": "2021-09-02T14:52:42.520135Z",
     "iopub.execute_input": "2021-09-02T14:52:42.520435Z",
     "iopub.status.idle": "2021-09-02T14:52:42.546980Z",
     "shell.execute_reply.started": "2021-09-02T14:52:42.520407Z",
     "shell.execute_reply": "2021-09-02T14:52:42.545870Z"
    },
    "trusted": true
   },
   "execution_count": null,
   "outputs": []
  },
  {
   "cell_type": "markdown",
   "source": [
    "### 2.2.11 Владельцы"
   ],
   "metadata": {}
  },
  {
   "cell_type": "code",
   "source": [
    "cat_feature_overview(df.Владельцы)"
   ],
   "metadata": {
    "execution": {
     "iopub.status.busy": "2021-09-02T14:52:42.548286Z",
     "iopub.execute_input": "2021-09-02T14:52:42.548583Z",
     "iopub.status.idle": "2021-09-02T14:52:42.926904Z",
     "shell.execute_reply.started": "2021-09-02T14:52:42.548554Z",
     "shell.execute_reply": "2021-09-02T14:52:42.925846Z"
    },
    "trusted": true
   },
   "execution_count": null,
   "outputs": []
  },
  {
   "cell_type": "code",
   "source": [
    "df['Владельцы'] = float_value(df['Владельцы']).astype(int)"
   ],
   "metadata": {
    "execution": {
     "iopub.status.busy": "2021-09-02T14:52:42.928154Z",
     "iopub.execute_input": "2021-09-02T14:52:42.928441Z",
     "iopub.status.idle": "2021-09-02T14:52:43.131713Z",
     "shell.execute_reply.started": "2021-09-02T14:52:42.928415Z",
     "shell.execute_reply": "2021-09-02T14:52:43.130540Z"
    },
    "trusted": true
   },
   "execution_count": null,
   "outputs": []
  },
  {
   "cell_type": "code",
   "source": [
    "sns.countplot(y = df.Владельцы, order = df.Владельцы.value_counts().index)"
   ],
   "metadata": {
    "execution": {
     "iopub.status.busy": "2021-09-02T14:52:43.133435Z",
     "iopub.execute_input": "2021-09-02T14:52:43.133887Z",
     "iopub.status.idle": "2021-09-02T14:52:43.379900Z",
     "shell.execute_reply.started": "2021-09-02T14:52:43.133843Z",
     "shell.execute_reply": "2021-09-02T14:52:43.379013Z"
    },
    "trusted": true
   },
   "execution_count": null,
   "outputs": []
  },
  {
   "cell_type": "markdown",
   "source": [
    "### _Statistics by the mileage related to amount of owners_"
   ],
   "metadata": {}
  },
  {
   "cell_type": "code",
   "source": [
    "owner_1 = df[(df['Владельцы']== 1) & (df['mileage']>0)].mileage.describe()\n",
    "owner_1 "
   ],
   "metadata": {
    "execution": {
     "iopub.status.busy": "2021-09-02T14:52:43.381017Z",
     "iopub.execute_input": "2021-09-02T14:52:43.381326Z",
     "iopub.status.idle": "2021-09-02T14:52:43.405622Z",
     "shell.execute_reply.started": "2021-09-02T14:52:43.381298Z",
     "shell.execute_reply": "2021-09-02T14:52:43.404559Z"
    },
    "trusted": true
   },
   "execution_count": null,
   "outputs": []
  },
  {
   "cell_type": "code",
   "source": [
    "owner_2 = df[(df['Владельцы']== 2) & (df['mileage']>0)].mileage.describe()\n",
    "owner_2"
   ],
   "metadata": {
    "execution": {
     "iopub.status.busy": "2021-09-02T14:52:43.406826Z",
     "iopub.execute_input": "2021-09-02T14:52:43.407120Z",
     "iopub.status.idle": "2021-09-02T14:52:43.430984Z",
     "shell.execute_reply.started": "2021-09-02T14:52:43.407091Z",
     "shell.execute_reply": "2021-09-02T14:52:43.430158Z"
    },
    "trusted": true
   },
   "execution_count": null,
   "outputs": []
  },
  {
   "cell_type": "code",
   "source": [
    "owner_3 = df[(df['Владельцы']== 3) & (df['mileage']>0)].mileage.describe()\n",
    "owner_3"
   ],
   "metadata": {
    "execution": {
     "iopub.status.busy": "2021-09-02T14:52:43.432635Z",
     "iopub.execute_input": "2021-09-02T14:52:43.432939Z",
     "iopub.status.idle": "2021-09-02T14:52:43.455121Z",
     "shell.execute_reply.started": "2021-09-02T14:52:43.432908Z",
     "shell.execute_reply": "2021-09-02T14:52:43.454174Z"
    },
    "trusted": true
   },
   "execution_count": null,
   "outputs": []
  },
  {
   "cell_type": "code",
   "source": [
    "owner_4 = df[(df['Владельцы']== 4) & (df['mileage']>0)].mileage.describe()\n",
    "owner_4"
   ],
   "metadata": {
    "execution": {
     "iopub.status.busy": "2021-09-02T14:52:43.456617Z",
     "iopub.execute_input": "2021-09-02T14:52:43.456916Z",
     "iopub.status.idle": "2021-09-02T14:52:43.474822Z",
     "shell.execute_reply.started": "2021-09-02T14:52:43.456888Z",
     "shell.execute_reply": "2021-09-02T14:52:43.473729Z"
    },
    "trusted": true
   },
   "execution_count": null,
   "outputs": []
  },
  {
   "cell_type": "markdown",
   "source": [],
   "metadata": {}
  },
  {
   "cell_type": "markdown",
   "source": [
    "vehicleTransmission### 2.2.12 vehicleTransmission"
   ],
   "metadata": {}
  },
  {
   "cell_type": "code",
   "source": [
    "cat_feature_overview(df.vehicleTransmission)"
   ],
   "metadata": {
    "execution": {
     "iopub.status.busy": "2021-09-02T14:52:43.476117Z",
     "iopub.execute_input": "2021-09-02T14:52:43.476423Z",
     "iopub.status.idle": "2021-09-02T14:52:43.855187Z",
     "shell.execute_reply.started": "2021-09-02T14:52:43.476395Z",
     "shell.execute_reply": "2021-09-02T14:52:43.854116Z"
    },
    "trusted": true
   },
   "execution_count": null,
   "outputs": []
  },
  {
   "cell_type": "markdown",
   "source": [
    "### 2.2.13 Привод"
   ],
   "metadata": {}
  },
  {
   "cell_type": "code",
   "source": [
    "cat_feature_overview(df.Привод)"
   ],
   "metadata": {
    "execution": {
     "iopub.status.busy": "2021-09-02T14:52:43.856890Z",
     "iopub.execute_input": "2021-09-02T14:52:43.857363Z",
     "iopub.status.idle": "2021-09-02T14:52:44.223811Z",
     "shell.execute_reply.started": "2021-09-02T14:52:43.857315Z",
     "shell.execute_reply": "2021-09-02T14:52:44.222598Z"
    },
    "trusted": true
   },
   "execution_count": null,
   "outputs": []
  },
  {
   "cell_type": "markdown",
   "source": [
    "### 2.2.14 vendor"
   ],
   "metadata": {}
  },
  {
   "cell_type": "code",
   "source": [
    "cat_feature_overview(df.vendor)"
   ],
   "metadata": {
    "execution": {
     "iopub.status.busy": "2021-09-02T14:52:44.224995Z",
     "iopub.execute_input": "2021-09-02T14:52:44.225303Z",
     "iopub.status.idle": "2021-09-02T14:52:44.591583Z",
     "shell.execute_reply.started": "2021-09-02T14:52:44.225274Z",
     "shell.execute_reply": "2021-09-02T14:52:44.590684Z"
    },
    "trusted": true
   },
   "execution_count": null,
   "outputs": []
  },
  {
   "cell_type": "markdown",
   "source": [
    "### 2.2.15 ПТС"
   ],
   "metadata": {}
  },
  {
   "cell_type": "code",
   "source": [
    "cat_feature_overview(df.ПТС)"
   ],
   "metadata": {
    "execution": {
     "iopub.status.busy": "2021-09-02T14:52:44.595037Z",
     "iopub.execute_input": "2021-09-02T14:52:44.595375Z",
     "iopub.status.idle": "2021-09-02T14:52:44.948749Z",
     "shell.execute_reply.started": "2021-09-02T14:52:44.595345Z",
     "shell.execute_reply": "2021-09-02T14:52:44.947639Z"
    },
    "trusted": true
   },
   "execution_count": null,
   "outputs": []
  },
  {
   "cell_type": "code",
   "source": [
    "#changing the missing value by mode\n",
    "df.ПТС.fillna(df.ПТС.value_counts().keys()[0], inplace=True)"
   ],
   "metadata": {
    "execution": {
     "iopub.status.busy": "2021-09-02T14:52:44.950522Z",
     "iopub.execute_input": "2021-09-02T14:52:44.950899Z",
     "iopub.status.idle": "2021-09-02T14:52:44.986724Z",
     "shell.execute_reply.started": "2021-09-02T14:52:44.950865Z",
     "shell.execute_reply": "2021-09-02T14:52:44.985852Z"
    },
    "trusted": true
   },
   "execution_count": null,
   "outputs": []
  },
  {
   "cell_type": "markdown",
   "source": [
    "### 2.2.16 Руль"
   ],
   "metadata": {}
  },
  {
   "cell_type": "code",
   "source": [
    "cat_feature_overview(df.Руль)"
   ],
   "metadata": {
    "execution": {
     "iopub.status.busy": "2021-09-02T14:52:44.987985Z",
     "iopub.execute_input": "2021-09-02T14:52:44.988645Z",
     "iopub.status.idle": "2021-09-02T14:52:45.338189Z",
     "shell.execute_reply.started": "2021-09-02T14:52:44.988597Z",
     "shell.execute_reply": "2021-09-02T14:52:45.337397Z"
    },
    "trusted": true
   },
   "execution_count": null,
   "outputs": []
  },
  {
   "cell_type": "markdown",
   "source": [
    "Due low amounts of the right steering wheel, the feature can be dropped\n"
   ],
   "metadata": {}
  },
  {
   "cell_type": "code",
   "source": [
    "df.drop(['Руль'], axis=1, inplace=True)"
   ],
   "metadata": {
    "execution": {
     "iopub.status.busy": "2021-09-02T14:52:45.339237Z",
     "iopub.execute_input": "2021-09-02T14:52:45.339629Z",
     "iopub.status.idle": "2021-09-02T14:52:45.358301Z",
     "shell.execute_reply.started": "2021-09-02T14:52:45.339600Z",
     "shell.execute_reply": "2021-09-02T14:52:45.357344Z"
    },
    "trusted": true
   },
   "execution_count": null,
   "outputs": []
  },
  {
   "cell_type": "markdown",
   "source": [
    "### 2.2.17 name"
   ],
   "metadata": {}
  },
  {
   "cell_type": "code",
   "source": [
    "df.name.value_counts()[:10]"
   ],
   "metadata": {
    "execution": {
     "iopub.status.busy": "2021-09-02T14:52:45.359790Z",
     "iopub.execute_input": "2021-09-02T14:52:45.360244Z",
     "iopub.status.idle": "2021-09-02T14:52:45.394294Z",
     "shell.execute_reply.started": "2021-09-02T14:52:45.360197Z",
     "shell.execute_reply": "2021-09-02T14:52:45.393205Z"
    },
    "trusted": true
   },
   "execution_count": null,
   "outputs": []
  },
  {
   "cell_type": "markdown",
   "source": [
    "_The contain information is in other columnes_\n",
    "\n",
    "_It has to be dropped_"
   ],
   "metadata": {}
  },
  {
   "cell_type": "code",
   "source": [
    "df.drop(['name'], axis=1, inplace=True)"
   ],
   "metadata": {
    "execution": {
     "iopub.status.busy": "2021-09-02T14:52:45.395869Z",
     "iopub.execute_input": "2021-09-02T14:52:45.396320Z",
     "iopub.status.idle": "2021-09-02T14:52:45.418397Z",
     "shell.execute_reply.started": "2021-09-02T14:52:45.396284Z",
     "shell.execute_reply": "2021-09-02T14:52:45.417280Z"
    },
    "trusted": true
   },
   "execution_count": null,
   "outputs": []
  },
  {
   "cell_type": "markdown",
   "source": [
    "### 2.2.18 Владение\n"
   ],
   "metadata": {
    "execution": {
     "iopub.status.busy": "2021-08-31T19:45:24.41142Z",
     "iopub.execute_input": "2021-08-31T19:45:24.411849Z",
     "iopub.status.idle": "2021-08-31T19:45:24.416743Z",
     "shell.execute_reply.started": "2021-08-31T19:45:24.411815Z",
     "shell.execute_reply": "2021-08-31T19:45:24.415339Z"
    }
   }
  },
  {
   "cell_type": "code",
   "source": [
    "df.Владение.isna().sum()"
   ],
   "metadata": {
    "execution": {
     "iopub.status.busy": "2021-09-02T14:52:45.419985Z",
     "iopub.execute_input": "2021-09-02T14:52:45.420444Z",
     "iopub.status.idle": "2021-09-02T14:52:45.432020Z",
     "shell.execute_reply.started": "2021-09-02T14:52:45.420397Z",
     "shell.execute_reply": "2021-09-02T14:52:45.430938Z"
    },
    "trusted": true
   },
   "execution_count": null,
   "outputs": []
  },
  {
   "cell_type": "code",
   "source": [
    "df.Владение.value_counts()"
   ],
   "metadata": {
    "execution": {
     "iopub.status.busy": "2021-09-02T14:52:45.433510Z",
     "iopub.execute_input": "2021-09-02T14:52:45.433833Z",
     "iopub.status.idle": "2021-09-02T14:52:45.464400Z",
     "shell.execute_reply.started": "2021-09-02T14:52:45.433793Z",
     "shell.execute_reply": "2021-09-02T14:52:45.463349Z"
    },
    "trusted": true
   },
   "execution_count": null,
   "outputs": []
  },
  {
   "cell_type": "markdown",
   "source": [
    "_the biggest part of the values looks as not valid_  \n",
    "\n",
    "_it has to be dropped_"
   ],
   "metadata": {}
  },
  {
   "cell_type": "code",
   "source": [
    "df.drop(['Владение'], axis=1, inplace=True)"
   ],
   "metadata": {
    "execution": {
     "iopub.status.busy": "2021-09-02T14:52:45.466026Z",
     "iopub.execute_input": "2021-09-02T14:52:45.466615Z",
     "iopub.status.idle": "2021-09-02T14:52:45.486697Z",
     "shell.execute_reply.started": "2021-09-02T14:52:45.466575Z",
     "shell.execute_reply": "2021-09-02T14:52:45.485549Z"
    },
    "trusted": true
   },
   "execution_count": null,
   "outputs": []
  },
  {
   "cell_type": "markdown",
   "source": [
    "### 2.2.19 model_name"
   ],
   "metadata": {}
  },
  {
   "cell_type": "code",
   "source": [
    "num_feature_overview(df.model_name)"
   ],
   "metadata": {
    "execution": {
     "iopub.status.busy": "2021-09-02T14:52:45.487987Z",
     "iopub.execute_input": "2021-09-02T14:52:45.488313Z",
     "iopub.status.idle": "2021-09-02T14:52:45.561006Z",
     "shell.execute_reply.started": "2021-09-02T14:52:45.488284Z",
     "shell.execute_reply": "2021-09-02T14:52:45.560008Z"
    },
    "trusted": true
   },
   "execution_count": null,
   "outputs": []
  },
  {
   "cell_type": "code",
   "source": [
    "#through the changing of the strings to upper letter, the amount of unique values is grouped\n",
    "df['model_name'] = df.model_name.str.upper()"
   ],
   "metadata": {
    "execution": {
     "iopub.status.busy": "2021-09-02T14:52:45.563249Z",
     "iopub.execute_input": "2021-09-02T14:52:45.563691Z",
     "iopub.status.idle": "2021-09-02T14:52:45.616544Z",
     "shell.execute_reply.started": "2021-09-02T14:52:45.563645Z",
     "shell.execute_reply": "2021-09-02T14:52:45.615299Z"
    },
    "trusted": true
   },
   "execution_count": null,
   "outputs": []
  },
  {
   "cell_type": "code",
   "source": [
    "#most popular model is by each brand\n",
    "df.groupby(['brand','model_name'])['model_name'].agg(['count']).sort_values(by='count',ascending= False)\n"
   ],
   "metadata": {
    "execution": {
     "iopub.status.busy": "2021-09-02T14:52:45.617809Z",
     "iopub.execute_input": "2021-09-02T14:52:45.618174Z",
     "iopub.status.idle": "2021-09-02T14:52:45.663808Z",
     "shell.execute_reply.started": "2021-09-02T14:52:45.618139Z",
     "shell.execute_reply": "2021-09-02T14:52:45.662605Z"
    },
    "trusted": true
   },
   "execution_count": null,
   "outputs": []
  },
  {
   "cell_type": "markdown",
   "source": [
    "### 2.2.20 color"
   ],
   "metadata": {}
  },
  {
   "cell_type": "code",
   "source": [
    "cat_feature_overview(df.color)"
   ],
   "metadata": {
    "execution": {
     "iopub.status.busy": "2021-09-02T14:52:45.665107Z",
     "iopub.execute_input": "2021-09-02T14:52:45.665505Z",
     "iopub.status.idle": "2021-09-02T14:52:46.111318Z",
     "shell.execute_reply.started": "2021-09-02T14:52:45.665460Z",
     "shell.execute_reply": "2021-09-02T14:52:46.109942Z"
    },
    "trusted": true
   },
   "execution_count": null,
   "outputs": []
  },
  {
   "cell_type": "code",
   "source": [
    "#most common color by brands\n",
    "df.groupby(['brand','color'])['color'].agg(['count']).sort_values(by='count',ascending= False)"
   ],
   "metadata": {
    "execution": {
     "iopub.status.busy": "2021-09-02T14:52:46.112731Z",
     "iopub.execute_input": "2021-09-02T14:52:46.113120Z",
     "iopub.status.idle": "2021-09-02T14:52:46.158561Z",
     "shell.execute_reply.started": "2021-09-02T14:52:46.113051Z",
     "shell.execute_reply": "2021-09-02T14:52:46.157495Z"
    },
    "trusted": true
   },
   "execution_count": null,
   "outputs": []
  },
  {
   "cell_type": "markdown",
   "source": [
    "### 2.2.21  complectation_dict  &  equipment_dict\n",
    "\n",
    " _with nested options dictionary_\n",
    "\n",
    "_the features look same and they have to be mearged_\n"
   ],
   "metadata": {}
  },
  {
   "cell_type": "code",
   "source": [
    "print(f'the complectation_dict has {df.complectation_dict.isna().sum()} of missing values')\n",
    "\n",
    "print(f'the equipment_dict has {df.equipment_dict.isna().sum()} of missing values')"
   ],
   "metadata": {
    "execution": {
     "iopub.status.busy": "2021-09-02T14:52:46.162024Z",
     "iopub.execute_input": "2021-09-02T14:52:46.162426Z",
     "iopub.status.idle": "2021-09-02T14:52:46.188444Z",
     "shell.execute_reply.started": "2021-09-02T14:52:46.162395Z",
     "shell.execute_reply": "2021-09-02T14:52:46.187354Z"
    },
    "trusted": true
   },
   "execution_count": null,
   "outputs": []
  },
  {
   "cell_type": "code",
   "source": [
    "df['complectation_dict'] = df['complectation_dict'].fillna('No value').astype(str)\n",
    "df['equipment_dict'] = df['equipment_dict'].fillna('No value').astype(str)"
   ],
   "metadata": {
    "execution": {
     "iopub.status.busy": "2021-09-02T14:52:46.190248Z",
     "iopub.execute_input": "2021-09-02T14:52:46.190684Z",
     "iopub.status.idle": "2021-09-02T14:52:46.278720Z",
     "shell.execute_reply.started": "2021-09-02T14:52:46.190636Z",
     "shell.execute_reply": "2021-09-02T14:52:46.277591Z"
    },
    "trusted": true
   },
   "execution_count": null,
   "outputs": []
  },
  {
   "cell_type": "code",
   "source": [
    "\n",
    "pat = \"'id': '0'\"\n",
    "df['complectation_dict'] = df['complectation_dict'].map(lambda x: x if pat not in x else 'No value')"
   ],
   "metadata": {
    "execution": {
     "iopub.status.busy": "2021-09-02T14:52:46.280330Z",
     "iopub.execute_input": "2021-09-02T14:52:46.280743Z",
     "iopub.status.idle": "2021-09-02T14:52:46.345747Z",
     "shell.execute_reply.started": "2021-09-02T14:52:46.280701Z",
     "shell.execute_reply": "2021-09-02T14:52:46.344874Z"
    },
    "trusted": true
   },
   "execution_count": null,
   "outputs": []
  },
  {
   "cell_type": "code",
   "source": [
    "#useful data extracting - string partition method.\n",
    "cmpl_opt = []\n",
    "for row in df.complectation_dict:\n",
    "    try:\n",
    "        line = row.partition('\"available_options\":')[-1]\n",
    "        line = line.partition('\"vendor_color')[0]\n",
    "        cmpl_opt.append(line)\n",
    "    except:\n",
    "        cmpl_opt.append('No value')\n",
    "\n",
    "df['complectation_dict'] = cmpl_opt\n"
   ],
   "metadata": {
    "execution": {
     "iopub.status.busy": "2021-09-02T14:52:46.346885Z",
     "iopub.execute_input": "2021-09-02T14:52:46.347350Z",
     "iopub.status.idle": "2021-09-02T14:52:46.455719Z",
     "shell.execute_reply.started": "2021-09-02T14:52:46.347303Z",
     "shell.execute_reply": "2021-09-02T14:52:46.454480Z"
    },
    "trusted": true
   },
   "execution_count": null,
   "outputs": []
  },
  {
   "cell_type": "code",
   "source": [
    "df['complectation_dict'] = df['complectation_dict'].apply(clean_smb)\n",
    "\n",
    "df['complectation_dict']#check"
   ],
   "metadata": {
    "execution": {
     "iopub.status.busy": "2021-09-02T14:52:46.457167Z",
     "iopub.execute_input": "2021-09-02T14:52:46.457466Z",
     "iopub.status.idle": "2021-09-02T14:52:46.633656Z",
     "shell.execute_reply.started": "2021-09-02T14:52:46.457437Z",
     "shell.execute_reply": "2021-09-02T14:52:46.632747Z"
    },
    "trusted": true
   },
   "execution_count": null,
   "outputs": []
  },
  {
   "cell_type": "code",
   "source": [
    "# extracting the options form equipment_dict\n",
    "df['equipment_dict'] = df['equipment_dict'].apply(clean_smb)\n",
    "\n",
    "row_lst = []\n",
    "for row in df.equipment_dict:\n",
    "    eq_lst = []\n",
    "    for item in row:\n",
    "        if item == item:\n",
    "            key = item.split(':')[0]\n",
    "            eq_lst.append(key)\n",
    "        else:\n",
    "            eq_lst.append('No value')\n",
    "\n",
    "    row_lst.append(eq_lst)\n",
    "\n",
    "df['equipment_dict'] = row_lst"
   ],
   "metadata": {
    "execution": {
     "iopub.status.busy": "2021-09-02T14:52:46.635011Z",
     "iopub.execute_input": "2021-09-02T14:52:46.635326Z",
     "iopub.status.idle": "2021-09-02T14:52:50.589448Z",
     "shell.execute_reply.started": "2021-09-02T14:52:46.635296Z",
     "shell.execute_reply": "2021-09-02T14:52:50.588305Z"
    },
    "trusted": true
   },
   "execution_count": null,
   "outputs": []
  },
  {
   "cell_type": "code",
   "source": [
    "df['equipment_dict']#check"
   ],
   "metadata": {
    "execution": {
     "iopub.status.busy": "2021-09-02T14:52:50.590658Z",
     "iopub.execute_input": "2021-09-02T14:52:50.590947Z",
     "iopub.status.idle": "2021-09-02T14:52:50.604303Z",
     "shell.execute_reply.started": "2021-09-02T14:52:50.590919Z",
     "shell.execute_reply": "2021-09-02T14:52:50.603110Z"
    },
    "trusted": true
   },
   "execution_count": null,
   "outputs": []
  },
  {
   "cell_type": "code",
   "source": [
    "#merging the values from columns equipment_dict and equipment_dict\n",
    "options = []\n",
    "for i, j in zip(df.complectation_dict, df.equipment_dict):\n",
    "    options.append(i+j)\n",
    "df['options'] = options"
   ],
   "metadata": {
    "execution": {
     "iopub.status.busy": "2021-09-02T14:52:50.605826Z",
     "iopub.execute_input": "2021-09-02T14:52:50.606192Z",
     "iopub.status.idle": "2021-09-02T14:52:50.982763Z",
     "shell.execute_reply.started": "2021-09-02T14:52:50.606160Z",
     "shell.execute_reply": "2021-09-02T14:52:50.981801Z"
    },
    "trusted": true
   },
   "execution_count": null,
   "outputs": []
  },
  {
   "cell_type": "code",
   "source": [
    "df['options']#check"
   ],
   "metadata": {
    "execution": {
     "iopub.status.busy": "2021-09-02T14:52:50.984156Z",
     "iopub.execute_input": "2021-09-02T14:52:50.984691Z",
     "iopub.status.idle": "2021-09-02T14:52:50.997134Z",
     "shell.execute_reply.started": "2021-09-02T14:52:50.984654Z",
     "shell.execute_reply": "2021-09-02T14:52:50.995968Z"
    },
    "trusted": true
   },
   "execution_count": null,
   "outputs": []
  },
  {
   "cell_type": "code",
   "source": [
    "#To make a list of most used options\n",
    "df1 = df\n",
    "df1 = df.explode('options')"
   ],
   "metadata": {
    "execution": {
     "iopub.status.busy": "2021-09-02T14:52:50.998806Z",
     "iopub.execute_input": "2021-09-02T14:52:50.999289Z",
     "iopub.status.idle": "2021-09-02T14:52:55.246043Z",
     "shell.execute_reply.started": "2021-09-02T14:52:50.999236Z",
     "shell.execute_reply": "2021-09-02T14:52:55.244938Z"
    },
    "trusted": true
   },
   "execution_count": null,
   "outputs": []
  },
  {
   "cell_type": "code",
   "source": [
    "\n",
    "#List of most used options\n",
    "options_dict = df1.options.value_counts(sort=True)[1:50]\n",
    "options_lst = options_dict.keys().map(lambda x: x.replace(\"\\'\",'').replace(\" \", \"\")).to_list()\n",
    "options_lst = set(options_lst)\n"
   ],
   "metadata": {
    "execution": {
     "iopub.status.busy": "2021-09-02T14:52:55.247236Z",
     "iopub.execute_input": "2021-09-02T14:52:55.247529Z",
     "iopub.status.idle": "2021-09-02T14:52:55.927299Z",
     "shell.execute_reply.started": "2021-09-02T14:52:55.247501Z",
     "shell.execute_reply": "2021-09-02T14:52:55.926417Z"
    },
    "trusted": true
   },
   "execution_count": null,
   "outputs": []
  },
  {
   "cell_type": "code",
   "source": [
    "#are sampled only popular options\n",
    "row_lst = []\n",
    "for row in df.options:\n",
    "    opt_lst = []\n",
    "    for item in row:\n",
    "        for opt in options_lst:\n",
    "            if item == opt:\n",
    "                opt_lst.append(item)\n",
    "            else:\n",
    "                continue\n",
    "    row_lst.append(opt_lst)"
   ],
   "metadata": {
    "execution": {
     "iopub.status.busy": "2021-09-02T14:52:55.928701Z",
     "iopub.execute_input": "2021-09-02T14:52:55.929001Z",
     "iopub.status.idle": "2021-09-02T14:53:03.105149Z",
     "shell.execute_reply.started": "2021-09-02T14:52:55.928973Z",
     "shell.execute_reply": "2021-09-02T14:53:03.104223Z"
    },
    "trusted": true
   },
   "execution_count": null,
   "outputs": []
  },
  {
   "cell_type": "code",
   "source": [
    "#to DataFrame\n",
    "df['options'] = row_lst\n",
    "df.options.head(5)"
   ],
   "metadata": {
    "execution": {
     "iopub.status.busy": "2021-09-02T14:53:03.106387Z",
     "iopub.execute_input": "2021-09-02T14:53:03.106679Z",
     "iopub.status.idle": "2021-09-02T14:53:03.166695Z",
     "shell.execute_reply.started": "2021-09-02T14:53:03.106650Z",
     "shell.execute_reply": "2021-09-02T14:53:03.165697Z"
    },
    "trusted": true
   },
   "execution_count": null,
   "outputs": []
  },
  {
   "cell_type": "code",
   "source": [
    "plt.figure(figsize=(15,10))\n",
    "sns.barplot(options_dict.values, options_dict.index, alpha=0.8)\n",
    "plt.title('Most popular options')\n",
    "plt.ylabel('Options', fontsize=12)\n",
    "plt.xlabel('Number of Occurrences', fontsize=12)\n",
    "plt.show()"
   ],
   "metadata": {
    "execution": {
     "iopub.status.busy": "2021-09-02T14:53:03.167959Z",
     "iopub.execute_input": "2021-09-02T14:53:03.168269Z",
     "iopub.status.idle": "2021-09-02T14:53:03.879799Z",
     "shell.execute_reply.started": "2021-09-02T14:53:03.168238Z",
     "shell.execute_reply": "2021-09-02T14:53:03.878804Z"
    },
    "trusted": true
   },
   "execution_count": null,
   "outputs": []
  },
  {
   "cell_type": "code",
   "source": [
    "df.drop(['complectation_dict', 'equipment_dict'], axis=1, inplace=True)"
   ],
   "metadata": {
    "execution": {
     "iopub.status.busy": "2021-09-02T14:53:03.881218Z",
     "iopub.execute_input": "2021-09-02T14:53:03.881496Z",
     "iopub.status.idle": "2021-09-02T14:53:03.915635Z",
     "shell.execute_reply.started": "2021-09-02T14:53:03.881468Z",
     "shell.execute_reply": "2021-09-02T14:53:03.914590Z"
    },
    "trusted": true
   },
   "execution_count": null,
   "outputs": []
  },
  {
   "cell_type": "code",
   "source": [
    "df.info()"
   ],
   "metadata": {
    "execution": {
     "iopub.status.busy": "2021-09-02T14:53:03.916929Z",
     "iopub.execute_input": "2021-09-02T14:53:03.917226Z",
     "iopub.status.idle": "2021-09-02T14:53:04.011763Z",
     "shell.execute_reply.started": "2021-09-02T14:53:03.917198Z",
     "shell.execute_reply": "2021-09-02T14:53:04.010674Z"
    },
    "trusted": true
   },
   "execution_count": null,
   "outputs": []
  },
  {
   "cell_type": "code",
   "source": [
    "#sort by types\n",
    "cat_cols = ['bodyType', 'brand', 'color','model_name', 'fuelType', 'vehicleTransmission', 'vendor','Привод', 'options']\n",
    "num_cols= ['engineDisplacement', 'enginePower','mileage', 'modelDate','productionDate', 'Владельцы','numberOfDoors']\n",
    "bin_cols = ['ПТС','sample']\n",
    "target_cols = ['price', 'price_log']\n"
   ],
   "metadata": {
    "execution": {
     "iopub.status.busy": "2021-09-02T14:53:04.012904Z",
     "iopub.execute_input": "2021-09-02T14:53:04.013236Z",
     "iopub.status.idle": "2021-09-02T14:53:04.019590Z",
     "shell.execute_reply.started": "2021-09-02T14:53:04.013207Z",
     "shell.execute_reply": "2021-09-02T14:53:04.018521Z"
    },
    "trusted": true
   },
   "execution_count": null,
   "outputs": []
  },
  {
   "cell_type": "code",
   "source": [
    "#correlation matrix of train dataset\n",
    "df_corr = df[(df['sample']== 1)].drop(['sample'], axis=1)\n",
    "corr = df_corr.corr()\n",
    "cmap = cmap=sns.diverging_palette(5, 250, as_cmap=True)\n",
    "\n",
    "def magnify():\n",
    "    return [dict(selector=\"th\",\n",
    "                 props=[(\"font-size\", \"8pt\")]),\n",
    "            dict(selector=\"td\",\n",
    "                 props=[('padding', \"0em 0em\")]),\n",
    "            dict(selector=\"th:hover\",\n",
    "                 props=[(\"font-size\", \"12pt\")]),\n",
    "            dict(selector=\"tr:hover td:hover\",\n",
    "                 props=[('max-width', '200px'),\n",
    "                        ('font-size', '12pt')])\n",
    "]\n",
    "\n",
    "corr.style.background_gradient(cmap, axis=1)\\\n",
    "    .set_properties(**{'max-width': '80px', 'font-size': '10pt'})\\\n",
    "    .set_caption(\"Heatmap\")\\\n",
    "    .set_precision(2)\\\n",
    "    .set_table_styles(magnify())"
   ],
   "metadata": {
    "execution": {
     "iopub.status.busy": "2021-09-02T14:53:04.020864Z",
     "iopub.execute_input": "2021-09-02T14:53:04.021214Z",
     "iopub.status.idle": "2021-09-02T14:53:04.123482Z",
     "shell.execute_reply.started": "2021-09-02T14:53:04.021170Z",
     "shell.execute_reply": "2021-09-02T14:53:04.122283Z"
    },
    "trusted": true
   },
   "execution_count": null,
   "outputs": []
  },
  {
   "cell_type": "markdown",
   "source": [
    "the features are highly correlated with each other:\n",
    "* modelDate, productionDate, mileage, Владельцы, price, \n",
    "* enginePower and engineDisplacement "
   ],
   "metadata": {}
  },
  {
   "cell_type": "code",
   "source": [
    "df = df.reset_index(drop=True)\n",
    "df.shape"
   ],
   "metadata": {
    "execution": {
     "iopub.status.busy": "2021-09-02T14:53:04.125045Z",
     "iopub.execute_input": "2021-09-02T14:53:04.125686Z",
     "iopub.status.idle": "2021-09-02T14:53:04.142669Z",
     "shell.execute_reply.started": "2021-09-02T14:53:04.125638Z",
     "shell.execute_reply": "2021-09-02T14:53:04.141062Z"
    },
    "trusted": true
   },
   "execution_count": null,
   "outputs": []
  },
  {
   "cell_type": "markdown",
   "source": [
    "#### Summary by EDA\n",
    "\n",
    "Using quantitative techniques and visual methods of representation, EDA looks to tell a story about the existing data based on a broad examination of patterns, trends, outliers, and unexpected results.\n",
    "\n"
   ],
   "metadata": {}
  },
  {
   "cell_type": "markdown",
   "source": [
    "# 3. Data preprocessing"
   ],
   "metadata": {}
  },
  {
   "cell_type": "markdown",
   "source": [
    "## 3.1 Significance of continuous variables by ANOVA F test "
   ],
   "metadata": {}
  },
  {
   "cell_type": "code",
   "source": [
    "temp_df = df[df['sample']==1]\n",
    "imp_num = pd.Series(f_classif(temp_df[num_cols], temp_df['price_log'])[0], index = num_cols)\n",
    "imp_num.sort_values(inplace = True)\n",
    "imp_num.plot(kind = 'barh', title='Significance of continuous variables by ANOVA F test for all brands')"
   ],
   "metadata": {
    "execution": {
     "iopub.status.busy": "2021-09-02T14:53:04.144372Z",
     "iopub.execute_input": "2021-09-02T14:53:04.144677Z",
     "iopub.status.idle": "2021-09-02T14:53:05.055943Z",
     "shell.execute_reply.started": "2021-09-02T14:53:04.144648Z",
     "shell.execute_reply": "2021-09-02T14:53:05.054905Z"
    },
    "trusted": true
   },
   "execution_count": null,
   "outputs": []
  },
  {
   "cell_type": "markdown",
   "source": [
    "## 3.2 Data encoding"
   ],
   "metadata": {}
  },
  {
   "cell_type": "code",
   "source": [
    "df"
   ],
   "metadata": {
    "execution": {
     "iopub.status.busy": "2021-09-02T14:53:05.057274Z",
     "iopub.execute_input": "2021-09-02T14:53:05.057556Z",
     "iopub.status.idle": "2021-09-02T14:53:05.107337Z",
     "shell.execute_reply.started": "2021-09-02T14:53:05.057529Z",
     "shell.execute_reply": "2021-09-02T14:53:05.106308Z"
    },
    "trusted": true
   },
   "execution_count": null,
   "outputs": []
  },
  {
   "cell_type": "markdown",
   "source": [
    "### 3.2.1 Categorical Data Encoding"
   ],
   "metadata": {}
  },
  {
   "cell_type": "markdown",
   "source": [
    "#### 3.2.2.1 Options"
   ],
   "metadata": {}
  },
  {
   "cell_type": "code",
   "source": [
    "#OneHotEncoding\n",
    "df1 = pd.get_dummies(df['options'].apply(pd.Series), prefix='', prefix_sep='', dummy_na=True).sum(level=0, axis=1)\n",
    "#df1 = pd.concat([df, df1.reindex(df1.index)], axis=1)\n",
    "df1.head(3)"
   ],
   "metadata": {
    "execution": {
     "iopub.status.busy": "2021-09-02T14:53:05.110788Z",
     "iopub.execute_input": "2021-09-02T14:53:05.111109Z",
     "iopub.status.idle": "2021-09-02T14:53:29.893544Z",
     "shell.execute_reply.started": "2021-09-02T14:53:05.111064Z",
     "shell.execute_reply": "2021-09-02T14:53:29.892293Z"
    },
    "trusted": true
   },
   "execution_count": null,
   "outputs": []
  },
  {
   "cell_type": "code",
   "source": [
    "df1.shape"
   ],
   "metadata": {
    "execution": {
     "iopub.status.busy": "2021-09-02T14:53:29.895164Z",
     "iopub.execute_input": "2021-09-02T14:53:29.895582Z",
     "iopub.status.idle": "2021-09-02T14:53:29.902200Z",
     "shell.execute_reply.started": "2021-09-02T14:53:29.895536Z",
     "shell.execute_reply": "2021-09-02T14:53:29.901139Z"
    },
    "trusted": true
   },
   "execution_count": null,
   "outputs": []
  },
  {
   "cell_type": "code",
   "source": [
    "df1.drop(['nan'], axis=1, inplace=True)"
   ],
   "metadata": {
    "execution": {
     "iopub.status.busy": "2021-09-02T14:53:29.903883Z",
     "iopub.execute_input": "2021-09-02T14:53:29.904337Z",
     "iopub.status.idle": "2021-09-02T14:53:29.917297Z",
     "shell.execute_reply.started": "2021-09-02T14:53:29.904293Z",
     "shell.execute_reply": "2021-09-02T14:53:29.916279Z"
    },
    "trusted": true
   },
   "execution_count": null,
   "outputs": []
  },
  {
   "cell_type": "code",
   "source": [
    "cat_cols.remove('options')\n",
    "cat_cols"
   ],
   "metadata": {
    "execution": {
     "iopub.status.busy": "2021-09-02T14:53:29.919399Z",
     "iopub.execute_input": "2021-09-02T14:53:29.919922Z",
     "iopub.status.idle": "2021-09-02T14:53:29.932133Z",
     "shell.execute_reply.started": "2021-09-02T14:53:29.919875Z",
     "shell.execute_reply": "2021-09-02T14:53:29.931207Z"
    },
    "trusted": true
   },
   "execution_count": null,
   "outputs": []
  },
  {
   "cell_type": "code",
   "source": [
    "#Lable encoding\n",
    "labelencoder = LabelEncoder()\n",
    "for col in cat_cols:\n",
    "    df1[col] = labelencoder.fit_transform(df[col])"
   ],
   "metadata": {
    "execution": {
     "iopub.status.busy": "2021-09-02T14:53:29.933988Z",
     "iopub.execute_input": "2021-09-02T14:53:29.934536Z",
     "iopub.status.idle": "2021-09-02T14:53:30.171300Z",
     "shell.execute_reply.started": "2021-09-02T14:53:29.934495Z",
     "shell.execute_reply": "2021-09-02T14:53:30.170353Z"
    },
    "trusted": true
   },
   "execution_count": null,
   "outputs": []
  },
  {
   "cell_type": "code",
   "source": [
    "df1"
   ],
   "metadata": {
    "execution": {
     "iopub.status.busy": "2021-09-02T14:53:30.172775Z",
     "iopub.execute_input": "2021-09-02T14:53:30.173114Z",
     "iopub.status.idle": "2021-09-02T14:53:30.209919Z",
     "shell.execute_reply.started": "2021-09-02T14:53:30.173067Z",
     "shell.execute_reply": "2021-09-02T14:53:30.208741Z"
    },
    "trusted": true
   },
   "execution_count": null,
   "outputs": []
  },
  {
   "cell_type": "markdown",
   "source": [
    "### 3.2.2 Binary Data Encoding"
   ],
   "metadata": {
    "execution": {
     "iopub.status.busy": "2021-09-02T05:23:57.295033Z",
     "iopub.execute_input": "2021-09-02T05:23:57.295467Z",
     "iopub.status.idle": "2021-09-02T05:23:57.304314Z",
     "shell.execute_reply.started": "2021-09-02T05:23:57.295421Z",
     "shell.execute_reply": "2021-09-02T05:23:57.303257Z"
    }
   }
  },
  {
   "cell_type": "code",
   "source": [
    "#Lable encoding\n",
    "labelencoder = LabelEncoder()\n",
    "df1['ПТС'] = labelencoder.fit_transform(df['ПТС'])"
   ],
   "metadata": {
    "execution": {
     "iopub.status.busy": "2021-09-02T14:53:30.211476Z",
     "iopub.execute_input": "2021-09-02T14:53:30.211790Z",
     "iopub.status.idle": "2021-09-02T14:53:30.246845Z",
     "shell.execute_reply.started": "2021-09-02T14:53:30.211758Z",
     "shell.execute_reply": "2021-09-02T14:53:30.245565Z"
    },
    "trusted": true
   },
   "execution_count": null,
   "outputs": []
  },
  {
   "cell_type": "code",
   "source": [
    "#Adding to df1 the 'sample' column\n",
    "df1['sample'] = df['sample']"
   ],
   "metadata": {
    "execution": {
     "iopub.status.busy": "2021-09-02T14:53:30.248392Z",
     "iopub.execute_input": "2021-09-02T14:53:30.248744Z",
     "iopub.status.idle": "2021-09-02T14:53:30.259372Z",
     "shell.execute_reply.started": "2021-09-02T14:53:30.248713Z",
     "shell.execute_reply": "2021-09-02T14:53:30.258306Z"
    },
    "trusted": true
   },
   "execution_count": null,
   "outputs": []
  },
  {
   "cell_type": "markdown",
   "source": [
    "### 3.2.3 Numerical Data Type's columns"
   ],
   "metadata": {}
  },
  {
   "cell_type": "code",
   "source": [
    "df1.shape"
   ],
   "metadata": {
    "execution": {
     "iopub.status.busy": "2021-09-02T14:53:30.261040Z",
     "iopub.execute_input": "2021-09-02T14:53:30.261452Z",
     "iopub.status.idle": "2021-09-02T14:53:30.271706Z",
     "shell.execute_reply.started": "2021-09-02T14:53:30.261421Z",
     "shell.execute_reply": "2021-09-02T14:53:30.270690Z"
    },
    "trusted": true
   },
   "execution_count": null,
   "outputs": []
  },
  {
   "cell_type": "code",
   "source": [
    "#Appending the numerical columns into df1\n",
    "df1[num_cols] = df[num_cols]"
   ],
   "metadata": {
    "execution": {
     "iopub.status.busy": "2021-09-02T14:53:30.273478Z",
     "iopub.execute_input": "2021-09-02T14:53:30.273855Z",
     "iopub.status.idle": "2021-09-02T14:53:30.293247Z",
     "shell.execute_reply.started": "2021-09-02T14:53:30.273782Z",
     "shell.execute_reply": "2021-09-02T14:53:30.292369Z"
    },
    "trusted": true
   },
   "execution_count": null,
   "outputs": []
  },
  {
   "cell_type": "code",
   "source": [
    "df1[target_cols] = df[target_cols]"
   ],
   "metadata": {
    "execution": {
     "iopub.status.busy": "2021-09-02T14:53:30.294566Z",
     "iopub.execute_input": "2021-09-02T14:53:30.294860Z",
     "iopub.status.idle": "2021-09-02T14:53:30.303276Z",
     "shell.execute_reply.started": "2021-09-02T14:53:30.294831Z",
     "shell.execute_reply": "2021-09-02T14:53:30.302230Z"
    },
    "trusted": true
   },
   "execution_count": null,
   "outputs": []
  },
  {
   "cell_type": "code",
   "source": [
    "df1.sample(3)"
   ],
   "metadata": {
    "execution": {
     "iopub.status.busy": "2021-09-02T14:53:30.304547Z",
     "iopub.execute_input": "2021-09-02T14:53:30.304842Z",
     "iopub.status.idle": "2021-09-02T14:53:30.346491Z",
     "shell.execute_reply.started": "2021-09-02T14:53:30.304814Z",
     "shell.execute_reply": "2021-09-02T14:53:30.345602Z"
    },
    "trusted": true
   },
   "execution_count": null,
   "outputs": []
  },
  {
   "cell_type": "code",
   "source": [
    "df1.info()"
   ],
   "metadata": {
    "execution": {
     "iopub.status.busy": "2021-09-02T14:53:30.347607Z",
     "iopub.execute_input": "2021-09-02T14:53:30.348025Z",
     "iopub.status.idle": "2021-09-02T14:53:30.369812Z",
     "shell.execute_reply.started": "2021-09-02T14:53:30.347986Z",
     "shell.execute_reply": "2021-09-02T14:53:30.368977Z"
    },
    "trusted": true
   },
   "execution_count": null,
   "outputs": []
  },
  {
   "cell_type": "markdown",
   "source": [
    "### Dataset separation on traininig and testing parts by sample mark "
   ],
   "metadata": {}
  },
  {
   "cell_type": "code",
   "source": [
    "df1.replace([np.inf, -np.inf], np.nan, inplace=True)\n",
    "\n",
    "y = df1[(df1['sample']==1)].price\n",
    "y_lg = df1[(df1['sample']==1)].price_log\n",
    "\n",
    "X = df1[(df1['sample']==1)].drop(['price','price_log'], axis=1)\n",
    "X_sub = df1[(df1['sample']==0)]"
   ],
   "metadata": {
    "execution": {
     "iopub.status.busy": "2021-09-02T14:53:30.370879Z",
     "iopub.execute_input": "2021-09-02T14:53:30.371322Z",
     "iopub.status.idle": "2021-09-02T14:53:30.400481Z",
     "shell.execute_reply.started": "2021-09-02T14:53:30.371277Z",
     "shell.execute_reply": "2021-09-02T14:53:30.399400Z"
    },
    "trusted": true
   },
   "execution_count": null,
   "outputs": []
  },
  {
   "cell_type": "code",
   "source": [
    "X_train, X_val, y_train, y_val = train_test_split(X, y, test_size = VAL_SIZE, shuffle=True, random_state=RANDOM_SEED)"
   ],
   "metadata": {
    "execution": {
     "iopub.status.busy": "2021-09-02T14:53:30.401832Z",
     "iopub.execute_input": "2021-09-02T14:53:30.402178Z",
     "iopub.status.idle": "2021-09-02T14:53:30.419637Z",
     "shell.execute_reply.started": "2021-09-02T14:53:30.402147Z",
     "shell.execute_reply": "2021-09-02T14:53:30.418321Z"
    },
    "trusted": true
   },
   "execution_count": null,
   "outputs": []
  },
  {
   "cell_type": "code",
   "source": [
    "X_train.sample(2)"
   ],
   "metadata": {
    "execution": {
     "iopub.status.busy": "2021-09-02T14:53:30.420926Z",
     "iopub.execute_input": "2021-09-02T14:53:30.421236Z",
     "iopub.status.idle": "2021-09-02T14:53:30.448614Z",
     "shell.execute_reply.started": "2021-09-02T14:53:30.421207Z",
     "shell.execute_reply": "2021-09-02T14:53:30.447576Z"
    },
    "trusted": true
   },
   "execution_count": null,
   "outputs": []
  },
  {
   "cell_type": "code",
   "source": [
    "X_val.sample(2)"
   ],
   "metadata": {
    "execution": {
     "iopub.status.busy": "2021-09-02T14:53:30.449924Z",
     "iopub.execute_input": "2021-09-02T14:53:30.450329Z",
     "iopub.status.idle": "2021-09-02T14:53:30.476295Z",
     "shell.execute_reply.started": "2021-09-02T14:53:30.450297Z",
     "shell.execute_reply": "2021-09-02T14:53:30.475360Z"
    },
    "trusted": true
   },
   "execution_count": null,
   "outputs": []
  },
  {
   "cell_type": "markdown",
   "source": [
    "# 4. Machine Learning Model"
   ],
   "metadata": {}
  },
  {
   "cell_type": "markdown",
   "source": [
    "## 4.1 Exploration ML Models"
   ],
   "metadata": {}
  },
  {
   "cell_type": "code",
   "source": [
    "#Model Random Forest \n",
    "model = RandomForestRegressor(random_state = RANDOM_SEED, n_jobs = -1, verbose = 1)\n",
    "model.fit(X_train, y_train)\n",
    "y_pred = model.predict(X_val)"
   ],
   "metadata": {
    "execution": {
     "iopub.status.busy": "2021-09-02T14:53:30.477583Z",
     "iopub.execute_input": "2021-09-02T14:53:30.477858Z",
     "iopub.status.idle": "2021-09-02T14:53:38.480571Z",
     "shell.execute_reply.started": "2021-09-02T14:53:30.477831Z",
     "shell.execute_reply": "2021-09-02T14:53:38.479682Z"
    },
    "trusted": true
   },
   "execution_count": null,
   "outputs": []
  },
  {
   "cell_type": "code",
   "source": [
    "#Accuracy metrics\n",
    "metrics_func(y_val, y_pred)"
   ],
   "metadata": {
    "execution": {
     "iopub.status.busy": "2021-09-02T14:53:38.481638Z",
     "iopub.execute_input": "2021-09-02T14:53:38.481937Z",
     "iopub.status.idle": "2021-09-02T14:53:38.493273Z",
     "shell.execute_reply.started": "2021-09-02T14:53:38.481909Z",
     "shell.execute_reply": "2021-09-02T14:53:38.492208Z"
    },
    "trusted": true
   },
   "execution_count": null,
   "outputs": []
  },
  {
   "cell_type": "code",
   "source": [
    "#Analysis of variables by importance (random forest model)\n",
    "plt.rcParams['figure.figsize'] = (10,10)\n",
    "feat_importances = pd.Series(model.feature_importances_, index=X_train.columns)\n",
    "feat_importances.nlargest(15).plot(kind='barh')"
   ],
   "metadata": {
    "execution": {
     "iopub.status.busy": "2021-09-02T14:53:38.495024Z",
     "iopub.execute_input": "2021-09-02T14:53:38.495388Z",
     "iopub.status.idle": "2021-09-02T14:53:38.942899Z",
     "shell.execute_reply.started": "2021-09-02T14:53:38.495356Z",
     "shell.execute_reply": "2021-09-02T14:53:38.941940Z"
    },
    "trusted": true
   },
   "execution_count": null,
   "outputs": []
  },
  {
   "cell_type": "code",
   "source": [],
   "metadata": {
    "trusted": true
   },
   "execution_count": null,
   "outputs": []
  },
  {
   "cell_type": "code",
   "source": [
    "df1.sample(5)"
   ],
   "metadata": {
    "execution": {
     "iopub.status.busy": "2021-09-02T14:53:38.944982Z",
     "iopub.execute_input": "2021-09-02T14:53:38.945313Z",
     "iopub.status.idle": "2021-09-02T14:53:38.979293Z",
     "shell.execute_reply.started": "2021-09-02T14:53:38.945281Z",
     "shell.execute_reply": "2021-09-02T14:53:38.978510Z"
    },
    "trusted": true
   },
   "execution_count": null,
   "outputs": []
  },
  {
   "cell_type": "code",
   "source": [
    "df1['price_log'] = df1.price_log.fillna(0)"
   ],
   "metadata": {
    "execution": {
     "iopub.status.busy": "2021-09-02T14:53:38.980444Z",
     "iopub.execute_input": "2021-09-02T14:53:38.980899Z",
     "iopub.status.idle": "2021-09-02T14:53:38.986383Z",
     "shell.execute_reply.started": "2021-09-02T14:53:38.980856Z",
     "shell.execute_reply": "2021-09-02T14:53:38.985393Z"
    },
    "trusted": true
   },
   "execution_count": null,
   "outputs": []
  },
  {
   "cell_type": "code",
   "source": [
    "# Linear Regeression\n",
    "y_train = df1.price_log.values   \n",
    "X_train = df1.drop(['price','price_log'], axis=1)\n",
    "\n",
    "lrg = LinearRegression()\n",
    "lrg.fit(X_train, y_train)\n",
    "y_pred = lrg.predict(X_val)\n"
   ],
   "metadata": {
    "execution": {
     "iopub.status.busy": "2021-09-02T14:53:38.987778Z",
     "iopub.execute_input": "2021-09-02T14:53:38.988090Z",
     "iopub.status.idle": "2021-09-02T14:53:39.091275Z",
     "shell.execute_reply.started": "2021-09-02T14:53:38.988046Z",
     "shell.execute_reply": "2021-09-02T14:53:39.090113Z"
    },
    "trusted": true
   },
   "execution_count": null,
   "outputs": []
  },
  {
   "cell_type": "code",
   "source": [
    "metrics_func(y_val, y_pred)"
   ],
   "metadata": {
    "execution": {
     "iopub.status.busy": "2021-09-02T14:53:39.092775Z",
     "iopub.execute_input": "2021-09-02T14:53:39.093161Z",
     "iopub.status.idle": "2021-09-02T14:53:39.103907Z",
     "shell.execute_reply.started": "2021-09-02T14:53:39.093118Z",
     "shell.execute_reply": "2021-09-02T14:53:39.102674Z"
    },
    "trusted": true
   },
   "execution_count": null,
   "outputs": []
  },
  {
   "cell_type": "markdown",
   "source": [
    "### _the accurancy at linear Regression metrics has been worsened with compare to Random Forest Model_"
   ],
   "metadata": {}
  },
  {
   "cell_type": "code",
   "source": [
    "### gradient boosting model\n",
    "gbr = GradientBoostingRegressor(n_estimators=250)\n",
    "gbr.fit(X_train, y_train)\n",
    "y_pred = gbr.predict(X_val)\n"
   ],
   "metadata": {
    "execution": {
     "iopub.status.busy": "2021-09-02T14:53:39.105360Z",
     "iopub.execute_input": "2021-09-02T14:53:39.105753Z",
     "iopub.status.idle": "2021-09-02T14:54:19.636402Z",
     "shell.execute_reply.started": "2021-09-02T14:53:39.105713Z",
     "shell.execute_reply": "2021-09-02T14:54:19.635161Z"
    },
    "trusted": true
   },
   "execution_count": null,
   "outputs": []
  },
  {
   "cell_type": "code",
   "source": [
    "metrics_func(y_val, y_pred)"
   ],
   "metadata": {
    "execution": {
     "iopub.status.busy": "2021-09-02T14:54:19.638052Z",
     "iopub.execute_input": "2021-09-02T14:54:19.638521Z",
     "iopub.status.idle": "2021-09-02T14:54:19.649046Z",
     "shell.execute_reply.started": "2021-09-02T14:54:19.638476Z",
     "shell.execute_reply": "2021-09-02T14:54:19.648285Z"
    },
    "trusted": true
   },
   "execution_count": null,
   "outputs": []
  },
  {
   "cell_type": "markdown",
   "source": [
    "### _the accurancy at gradient boosting model has been worsened with compare to Random Forest Model also_"
   ],
   "metadata": {}
  },
  {
   "cell_type": "code",
   "source": [
    "#Bagging Regression model with Random Forest Model\n",
    "bgr_rf = BaggingRegressor(model, n_estimators=3, n_jobs=-1, random_state=RANDOM_SEED)\n",
    "bgr_rf.fit(X_train, y_train)\n",
    "y_pred = bgr_rf.predict(X_val)\n",
    "metrics_func(y_val, y_pred)\n"
   ],
   "metadata": {
    "execution": {
     "iopub.status.busy": "2021-09-02T14:54:19.650174Z",
     "iopub.execute_input": "2021-09-02T14:54:19.650458Z",
     "iopub.status.idle": "2021-09-02T14:54:49.244213Z",
     "shell.execute_reply.started": "2021-09-02T14:54:19.650431Z",
     "shell.execute_reply": "2021-09-02T14:54:49.242654Z"
    },
    "trusted": true
   },
   "execution_count": null,
   "outputs": []
  },
  {
   "cell_type": "code",
   "source": [
    "model = RandomForestRegressor(random_state = RANDOM_SEED, n_jobs = -1, verbose = 1)\n",
    "model.fit(X_train, y_train)\n",
    "y_pred = model.predict(X_val)\n",
    "metrics_func(y_val, y_pred)"
   ],
   "metadata": {
    "execution": {
     "iopub.status.busy": "2021-09-02T14:54:49.246432Z",
     "iopub.execute_input": "2021-09-02T14:54:49.246881Z",
     "iopub.status.idle": "2021-09-02T14:55:00.682915Z",
     "shell.execute_reply.started": "2021-09-02T14:54:49.246832Z",
     "shell.execute_reply": "2021-09-02T14:55:00.681404Z"
    },
    "trusted": true
   },
   "execution_count": null,
   "outputs": []
  },
  {
   "cell_type": "code",
   "source": [
    "#Stacking of Random Forest and Bagging\n",
    "models = [RandomForestRegressor(random_state = RANDOM_SEED, n_jobs = -1, verbose = 1),\n",
    "         BaggingRegressor(ExtraTreeRegressor(random_state=RANDOM_SEED), random_state=RANDOM_SEED)]\n",
    "\n",
    "def stacking_model_predict(d_models, d_X_train, d_y_train, d_X_val):\n",
    "    d_df = pd.DataFrame()\n",
    "    for model_ in tqdm(d_models):\n",
    "        model_.fit(d_X_train, d_y_train)\n",
    "        y_pred = model_.predict(d_X_val)\n",
    "        d_df[str(model_)[:6]] = np.exp(y_pred)                   \n",
    "    return d_df\n",
    "\n",
    "df2 = stacking_model_predict(models, X_train, y_train, X_val)\n",
    "df2['y_pred']=df2.mean(axis=1)"
   ],
   "metadata": {
    "execution": {
     "iopub.status.busy": "2021-09-02T14:55:00.684869Z",
     "iopub.execute_input": "2021-09-02T14:55:00.685212Z",
     "iopub.status.idle": "2021-09-02T14:55:13.385551Z",
     "shell.execute_reply.started": "2021-09-02T14:55:00.685181Z",
     "shell.execute_reply": "2021-09-02T14:55:13.384511Z"
    },
    "trusted": true
   },
   "execution_count": null,
   "outputs": []
  },
  {
   "cell_type": "code",
   "source": [
    "\n",
    "y_pred = np.array(df2['y_pred'])\n",
    "metrics_func(y_val, y_pred)"
   ],
   "metadata": {
    "execution": {
     "iopub.status.busy": "2021-09-02T14:55:13.388292Z",
     "iopub.execute_input": "2021-09-02T14:55:13.388648Z",
     "iopub.status.idle": "2021-09-02T14:55:13.399380Z",
     "shell.execute_reply.started": "2021-09-02T14:55:13.388610Z",
     "shell.execute_reply": "2021-09-02T14:55:13.398232Z"
    },
    "trusted": true
   },
   "execution_count": null,
   "outputs": []
  },
  {
   "cell_type": "markdown",
   "source": [
    "### _Stacking of Random Forest and Bagging is a best one_"
   ],
   "metadata": {}
  },
  {
   "cell_type": "markdown",
   "source": [
    "## 4.2 Hyperparameters tuning"
   ],
   "metadata": {}
  },
  {
   "cell_type": "code",
   "source": [
    "\"\"\"\n",
    "\n",
    "n_estimators = [int(x) for x in np.linspace(start = 100, stop = 1500, num = 50)]\n",
    "max_features = ['auto', 'sqrt', 'log2']\n",
    "max_depth = [int(x) for x in np.linspace(10, 110, num = 11)]\n",
    "max_depth.append(None)\n",
    "min_samples_split = [2, 5, 10]\n",
    "min_samples_leaf = [1, 2, 4]\n",
    "bootstrap = [True, False]\n",
    "random_grid = {'n_estimators': n_estimators,\n",
    "                'max_features': max_features,\n",
    "                'max_depth': max_depth,\n",
    "                'min_samples_split': min_samples_split,\n",
    "                'min_samples_leaf': min_samples_leaf,\n",
    "                'bootstrap': bootstrap}\n",
    "\n",
    "rf = RandomForestRegressor()\n",
    "rf_random = RandomizedSearchCV(estimator = rf, \n",
    "                                param_distributions = random_grid, \n",
    "                                n_iter = 100, \n",
    "                                cv = 3, \n",
    "                                verbose=2, \n",
    "                                random_state=RANDOM_SEED, \n",
    "                                n_jobs = -1)\n",
    "rf_random.fit(X_train, y_train)\n",
    "\"\"\""
   ],
   "metadata": {
    "execution": {
     "iopub.status.busy": "2021-09-02T14:55:13.401069Z",
     "iopub.execute_input": "2021-09-02T14:55:13.401480Z"
    },
    "trusted": true,
    "pycharm": {
     "name": "#%%\n"
    }
   },
   "execution_count": null,
   "outputs": []
  },
  {
   "cell_type": "markdown",
   "source": [
    "# 5.Submission"
   ],
   "metadata": {}
  },
  {
   "cell_type": "code",
   "source": [
    "X_train.shape\n"
   ],
   "metadata": {
    "trusted": true
   },
   "execution_count": null,
   "outputs": []
  },
  {
   "cell_type": "code",
   "source": [
    "y_train.shape"
   ],
   "metadata": {
    "trusted": true
   },
   "execution_count": null,
   "outputs": []
  },
  {
   "cell_type": "code",
   "execution_count": null,
   "outputs": [],
   "source": [
    "X_val.shape"
   ],
   "metadata": {
    "collapsed": false,
    "pycharm": {
     "name": "#%%\n"
    }
   }
  },
  {
   "cell_type": "code",
   "execution_count": null,
   "outputs": [],
   "source": [],
   "metadata": {
    "collapsed": false,
    "pycharm": {
     "name": "#%%\n"
    }
   }
  },
  {
   "cell_type": "code",
   "execution_count": null,
   "outputs": [],
   "source": [
    "\n",
    "models = [RandomForestRegressor(random_state = RANDOM_SEED, n_jobs = -1, verbose = 1),\n",
    "         BaggingRegressor(ExtraTreeRegressor(random_state=RANDOM_SEED), random_state=RANDOM_SEED)]\n",
    "\n",
    "def stacking_model_predict(d_models, d_X_train, d_y_train, d_X_test, d_df):\n",
    "    for model_ in tqdm(d_models):\n",
    "        model_.fit(d_X_train, d_y_train)\n",
    "        y_pred = model_.predict(d_X_test)\n",
    "        d_df[str(model_)[:6]] = np.round(np.exp(y_pred)/10000,2)*10000\n",
    "    d_df['price'] = d_df.iloc[:,2:].mean(axis=1)    \n",
    "    return \n",
    "\n",
    "stacking_model_predict(models, X_train, y_train, X_val, submit)\n"
   ],
   "metadata": {
    "collapsed": false,
    "pycharm": {
     "name": "#%%\n"
    }
   }
  },
  {
   "cell_type": "code",
   "execution_count": null,
   "outputs": [],
   "source": [
    "submit"
   ],
   "metadata": {
    "collapsed": false,
    "pycharm": {
     "name": "#%%\n"
    }
   }
  },
  {
   "cell_type": "code",
   "execution_count": null,
   "outputs": [],
   "source": [
    "submit.head(5)"
   ],
   "metadata": {
    "collapsed": false,
    "pycharm": {
     "name": "#%%\n"
    }
   }
  },
  {
   "cell_type": "code",
   "source": [
    "submit[['id', 'price']].to_csv(f'submission.csv', index=False)"
   ],
   "metadata": {
    "trusted": true
   },
   "execution_count": null,
   "outputs": []
  },
  {
   "cell_type": "code",
   "source": "",
   "metadata": {},
   "execution_count": null,
   "outputs": []
  }
 ]
}