{
 "cells": [
  {
   "cell_type": "code",
   "execution_count": 1,
   "outputs": [],
   "source": [
    "#from google.colab import drive\n",
    "#drive.mount('/content/drive')\n",
    "#PATH = '/content/drive/MyDrive/SkillFactory/DS_ML_data/'"
   ],
   "metadata": {
    "collapsed": false
   }
  },
  {
   "cell_type": "code",
   "source": [
    "PATH = './data/'"
   ],
   "metadata": {
    "colab": {
     "base_uri": "https://localhost:8080/"
    },
    "id": "5Ae5b7vRRvY1",
    "executionInfo": {
     "status": "ok",
     "timestamp": 1666718585017,
     "user_tz": -120,
     "elapsed": 18537,
     "user": {
      "displayName": "Alexander Syachin",
      "userId": "01407196237518825368"
     }
    },
    "outputId": "0214a96e-7cd9-4cca-c86e-36ed1b9a9349"
   },
   "execution_count": 2,
   "outputs": []
  },
  {
   "cell_type": "code",
   "execution_count": 3,
   "metadata": {
    "collapsed": true,
    "executionInfo": {
     "elapsed": 955,
     "status": "ok",
     "timestamp": 1666718585969,
     "user": {
      "displayName": "Alexander Syachin",
      "userId": "01407196237518825368"
     },
     "user_tz": -120
    },
    "id": "tuolUdq-RJ-V"
   },
   "outputs": [],
   "source": [
    "import pandas as pd\n",
    "import numpy as np\n",
    "import matplotlib.pyplot as plt\n",
    "import re\n",
    "import seaborn as sns"
   ]
  },
  {
   "cell_type": "markdown",
   "metadata": {
    "collapsed": false,
    "id": "mk__zFb2RJ-a"
   },
   "source": [
    "# 1. Data upload"
   ]
  },
  {
   "cell_type": "code",
   "execution_count": 4,
   "metadata": {
    "executionInfo": {
     "elapsed": 25289,
     "status": "ok",
     "timestamp": 1666718611255,
     "user": {
      "displayName": "Alexander Syachin",
      "userId": "01407196237518825368"
     },
     "user_tz": -120
    },
    "id": "93RO0-34RJ-d"
   },
   "outputs": [],
   "source": [
    "events = pd.read_csv(PATH + 'events.csv')\n",
    "category_tree = pd.read_csv(PATH + 'category_tree.csv')\n",
    "item_1 = pd.read_csv(PATH + 'item_properties_part1.csv')\n",
    "item_2 = pd.read_csv(PATH + 'item_properties_part2.csv')\n",
    "item_properties = pd.concat([item_1, item_2], ignore_index=True)\n"
   ]
  },
  {
   "cell_type": "markdown",
   "metadata": {
    "id": "dz8rQm8Fnat-"
   },
   "source": [
    "## Deascription of features of uploaded datasets"
   ]
  },
  {
   "cell_type": "markdown",
   "metadata": {
    "collapsed": false,
    "id": "nBgXNunZnbJY"
   },
   "source": [
    "* ### events — датасет с событиями\n",
    "\n",
    "* timestamp — время события\n",
    "* visitorid — идентификатор пользователя\n",
    "* event — тип события\n",
    "* itemid — идентификатор объекта\n",
    "* transactionid — идентификатор транзакции, если она проходила\n",
    "\n",
    "* ### category_tree — файл с деревом категорий\n",
    "\n",
    "* category_id — идентификатор категорий\n",
    "* parent_id — идентификатор родительской категории\n",
    "\n",
    "* ### item_properties — файл с свойствами товаров\n",
    "\n",
    "* timestamp — момент записи значения свойства\n",
    "* item_id — идентификатор объекта\n",
    "* property — свойство, кажется, они все, кроме категории, захешированы\n",
    "* value — значение свойства"
   ]
  },
  {
   "cell_type": "markdown",
   "metadata": {
    "id": "_suE2PiY_ofq"
   },
   "source": [
    "# 2. EDA"
   ]
  },
  {
   "cell_type": "code",
   "execution_count": 5,
   "metadata": {
    "executionInfo": {
     "elapsed": 7,
     "status": "ok",
     "timestamp": 1666718611256,
     "user": {
      "displayName": "Alexander Syachin",
      "userId": "01407196237518825368"
     },
     "user_tz": -120
    },
    "id": "wQxrDBMyNTc5"
   },
   "outputs": [],
   "source": [
    "def get_df_name(df):\n",
    "    name =[x for x in globals() if globals()[x] is df][0]\n",
    "    return name\n",
    "    \n",
    "def files_info(df):\n",
    "    print(f' {get_df_name(df)} contains {df.shape[0]} entries')\n",
    "    display(df.head(3))\n",
    "    display(df.info())\n",
    "    display(df.isnull().sum())\n",
    "    display(df.describe().T)"
   ]
  },
  {
   "cell_type": "markdown",
   "source": [
    "## events"
   ],
   "metadata": {
    "id": "AejG5HiqpyqY"
   }
  },
  {
   "cell_type": "code",
   "execution_count": 6,
   "metadata": {
    "colab": {
     "base_uri": "https://localhost:8080/",
     "height": 648
    },
    "executionInfo": {
     "elapsed": 467,
     "status": "ok",
     "timestamp": 1666718611717,
     "user": {
      "displayName": "Alexander Syachin",
      "userId": "01407196237518825368"
     },
     "user_tz": -120
    },
    "id": "KXt-Z9obmoS-",
    "outputId": "07c72785-fd30-488d-bd66-ab79c388ce50"
   },
   "outputs": [
    {
     "name": "stdout",
     "output_type": "stream",
     "text": [
      " events contains 2756101 entries\n"
     ]
    },
    {
     "data": {
      "text/plain": "       timestamp  visitorid event  itemid  transactionid\n0  1433221332117     257597  view  355908            NaN\n1  1433224214164     992329  view  248676            NaN\n2  1433221999827     111016  view  318965            NaN",
      "text/html": "<div>\n<style scoped>\n    .dataframe tbody tr th:only-of-type {\n        vertical-align: middle;\n    }\n\n    .dataframe tbody tr th {\n        vertical-align: top;\n    }\n\n    .dataframe thead th {\n        text-align: right;\n    }\n</style>\n<table border=\"1\" class=\"dataframe\">\n  <thead>\n    <tr style=\"text-align: right;\">\n      <th></th>\n      <th>timestamp</th>\n      <th>visitorid</th>\n      <th>event</th>\n      <th>itemid</th>\n      <th>transactionid</th>\n    </tr>\n  </thead>\n  <tbody>\n    <tr>\n      <th>0</th>\n      <td>1433221332117</td>\n      <td>257597</td>\n      <td>view</td>\n      <td>355908</td>\n      <td>NaN</td>\n    </tr>\n    <tr>\n      <th>1</th>\n      <td>1433224214164</td>\n      <td>992329</td>\n      <td>view</td>\n      <td>248676</td>\n      <td>NaN</td>\n    </tr>\n    <tr>\n      <th>2</th>\n      <td>1433221999827</td>\n      <td>111016</td>\n      <td>view</td>\n      <td>318965</td>\n      <td>NaN</td>\n    </tr>\n  </tbody>\n</table>\n</div>"
     },
     "metadata": {},
     "output_type": "display_data"
    },
    {
     "name": "stdout",
     "output_type": "stream",
     "text": [
      "<class 'pandas.core.frame.DataFrame'>\n",
      "RangeIndex: 2756101 entries, 0 to 2756100\n",
      "Data columns (total 5 columns):\n",
      " #   Column         Dtype  \n",
      "---  ------         -----  \n",
      " 0   timestamp      int64  \n",
      " 1   visitorid      int64  \n",
      " 2   event          object \n",
      " 3   itemid         int64  \n",
      " 4   transactionid  float64\n",
      "dtypes: float64(1), int64(3), object(1)\n",
      "memory usage: 105.1+ MB\n"
     ]
    },
    {
     "data": {
      "text/plain": "None"
     },
     "metadata": {},
     "output_type": "display_data"
    },
    {
     "data": {
      "text/plain": "timestamp              0\nvisitorid              0\nevent                  0\nitemid                 0\ntransactionid    2733644\ndtype: int64"
     },
     "metadata": {},
     "output_type": "display_data"
    },
    {
     "data": {
      "text/plain": "                   count          mean           std           min  \\\ntimestamp      2756101.0  1.436424e+12  3.366312e+09  1.430622e+12   \nvisitorid      2756101.0  7.019229e+05  4.056875e+05  0.000000e+00   \nitemid         2756101.0  2.349225e+05  1.341954e+05  3.000000e+00   \ntransactionid    22457.0  8.826498e+03  5.098996e+03  0.000000e+00   \n\n                        25%           50%           75%           max  \ntimestamp      1.433478e+12  1.436453e+12  1.439225e+12  1.442545e+12  \nvisitorid      3.505660e+05  7.020600e+05  1.053437e+06  1.407579e+06  \nitemid         1.181200e+05  2.360670e+05  3.507150e+05  4.668670e+05  \ntransactionid  4.411000e+03  8.813000e+03  1.322400e+04  1.767100e+04  ",
      "text/html": "<div>\n<style scoped>\n    .dataframe tbody tr th:only-of-type {\n        vertical-align: middle;\n    }\n\n    .dataframe tbody tr th {\n        vertical-align: top;\n    }\n\n    .dataframe thead th {\n        text-align: right;\n    }\n</style>\n<table border=\"1\" class=\"dataframe\">\n  <thead>\n    <tr style=\"text-align: right;\">\n      <th></th>\n      <th>count</th>\n      <th>mean</th>\n      <th>std</th>\n      <th>min</th>\n      <th>25%</th>\n      <th>50%</th>\n      <th>75%</th>\n      <th>max</th>\n    </tr>\n  </thead>\n  <tbody>\n    <tr>\n      <th>timestamp</th>\n      <td>2756101.0</td>\n      <td>1.436424e+12</td>\n      <td>3.366312e+09</td>\n      <td>1.430622e+12</td>\n      <td>1.433478e+12</td>\n      <td>1.436453e+12</td>\n      <td>1.439225e+12</td>\n      <td>1.442545e+12</td>\n    </tr>\n    <tr>\n      <th>visitorid</th>\n      <td>2756101.0</td>\n      <td>7.019229e+05</td>\n      <td>4.056875e+05</td>\n      <td>0.000000e+00</td>\n      <td>3.505660e+05</td>\n      <td>7.020600e+05</td>\n      <td>1.053437e+06</td>\n      <td>1.407579e+06</td>\n    </tr>\n    <tr>\n      <th>itemid</th>\n      <td>2756101.0</td>\n      <td>2.349225e+05</td>\n      <td>1.341954e+05</td>\n      <td>3.000000e+00</td>\n      <td>1.181200e+05</td>\n      <td>2.360670e+05</td>\n      <td>3.507150e+05</td>\n      <td>4.668670e+05</td>\n    </tr>\n    <tr>\n      <th>transactionid</th>\n      <td>22457.0</td>\n      <td>8.826498e+03</td>\n      <td>5.098996e+03</td>\n      <td>0.000000e+00</td>\n      <td>4.411000e+03</td>\n      <td>8.813000e+03</td>\n      <td>1.322400e+04</td>\n      <td>1.767100e+04</td>\n    </tr>\n  </tbody>\n</table>\n</div>"
     },
     "metadata": {},
     "output_type": "display_data"
    }
   ],
   "source": [
    "files_info(events)"
   ]
  },
  {
   "cell_type": "code",
   "source": [
    "#check duplicates\n",
    "events.duplicated(['timestamp','visitorid','event','itemid']).sum()"
   ],
   "metadata": {
    "colab": {
     "base_uri": "https://localhost:8080/"
    },
    "id": "_mXvQhm6Uzdw",
    "executionInfo": {
     "status": "ok",
     "timestamp": 1666718613478,
     "user_tz": -120,
     "elapsed": 1765,
     "user": {
      "displayName": "Alexander Syachin",
      "userId": "01407196237518825368"
     }
    },
    "outputId": "52c6f7c9-66fe-402c-c224-5dcefb6ccf6f"
   },
   "execution_count": 7,
   "outputs": [
    {
     "data": {
      "text/plain": "460"
     },
     "execution_count": 7,
     "metadata": {},
     "output_type": "execute_result"
    }
   ]
  },
  {
   "cell_type": "code",
   "source": [
    "#drop duplicates\n",
    "events = events.loc[~events.duplicated(['timestamp','visitorid','event','itemid'])]"
   ],
   "metadata": {
    "id": "P2Z_ttEPV4sz",
    "executionInfo": {
     "status": "ok",
     "timestamp": 1666718614560,
     "user_tz": -120,
     "elapsed": 1084,
     "user": {
      "displayName": "Alexander Syachin",
      "userId": "01407196237518825368"
     }
    }
   },
   "execution_count": 8,
   "outputs": []
  },
  {
   "cell_type": "code",
   "source": [
    "events_count = events.event.value_counts()\n",
    "plt.bar(events_count.index,events_count.values)\n",
    "print(events_count)"
   ],
   "metadata": {
    "colab": {
     "base_uri": "https://localhost:8080/",
     "height": 400
    },
    "id": "vfbfxMHipa8P",
    "executionInfo": {
     "status": "ok",
     "timestamp": 1666718614561,
     "user_tz": -120,
     "elapsed": 15,
     "user": {
      "displayName": "Alexander Syachin",
      "userId": "01407196237518825368"
     }
    },
    "outputId": "568d5b5d-8868-4cee-c280-d7abec517299"
   },
   "execution_count": 9,
   "outputs": [
    {
     "name": "stdout",
     "output_type": "stream",
     "text": [
      "view           2664218\n",
      "addtocart        68966\n",
      "transaction      22457\n",
      "Name: event, dtype: int64\n"
     ]
    },
    {
     "data": {
      "text/plain": "<Figure size 640x480 with 1 Axes>",
      "image/png": "[encoded data removed]"
     },
     "metadata": {},
     "output_type": "display_data"
    }
   ]
  },
  {
   "cell_type": "code",
   "source": [
    "#Change unix time format to datatime format\n",
    "events['datetime'] = pd.to_datetime(events['timestamp'], unit='ms')\n",
    "events.drop('timestamp', axis=1, inplace=True)\n",
    "\n",
    "print(f'The dataset contains the entries from {events.datetime.min()} up to {events.datetime.max()}')"
   ],
   "metadata": {
    "colab": {
     "base_uri": "https://localhost:8080/"
    },
    "id": "sNUmhMIsTeK7",
    "executionInfo": {
     "status": "ok",
     "timestamp": 1666718614562,
     "user_tz": -120,
     "elapsed": 11,
     "user": {
      "displayName": "Alexander Syachin",
      "userId": "01407196237518825368"
     }
    },
    "outputId": "15e499f0-6b34-4e9b-ae47-0b4bcbac580e"
   },
   "execution_count": 10,
   "outputs": [
    {
     "name": "stdout",
     "output_type": "stream",
     "text": [
      "The dataset contains the entries from 2015-05-03 03:00:04.384000 up to 2015-09-18 02:59:47.788000\n"
     ]
    }
   ]
  },
  {
   "cell_type": "code",
   "source": [
    "#Top 10 users\n",
    "events.visitorid.value_counts()[:10]"
   ],
   "metadata": {
    "colab": {
     "base_uri": "https://localhost:8080/"
    },
    "id": "FQaM0Sx_UBbt",
    "executionInfo": {
     "status": "ok",
     "timestamp": 1666718615142,
     "user_tz": -120,
     "elapsed": 587,
     "user": {
      "displayName": "Alexander Syachin",
      "userId": "01407196237518825368"
     }
    },
    "outputId": "5b0482a2-f226-4ba2-eaf7-1d0345d5ab1f"
   },
   "execution_count": 11,
   "outputs": [
    {
     "name": "stderr",
     "output_type": "stream",
     "text": [
      "/tmp/ipykernel_28619/741517605.py:2: FutureWarning: The behavior of `series[i:j]` with an integer-dtype index is deprecated. In a future version, this will be treated as *label-based* indexing, consistent with e.g. `series[i]` lookups. To retain the old behavior, use `series.iloc[i:j]`. To get the future behavior, use `series.loc[i:j]`.\n",
      "  events.visitorid.value_counts()[:10]\n"
     ]
    },
    {
     "data": {
      "text/plain": "1150086    7757\n530559     4328\n152963     3024\n895999     2474\n163561     2410\n371606     2345\n286616     2252\n684514     2246\n892013     2024\n861299     1991\nName: visitorid, dtype: int64"
     },
     "execution_count": 11,
     "metadata": {},
     "output_type": "execute_result"
    }
   ]
  },
  {
   "cell_type": "code",
   "source": [
    "#Featue 'events'\n",
    "events.event.value_counts() "
   ],
   "metadata": {
    "colab": {
     "base_uri": "https://localhost:8080/"
    },
    "id": "iLkB4piCXGp1",
    "executionInfo": {
     "status": "ok",
     "timestamp": 1666718615143,
     "user_tz": -120,
     "elapsed": 7,
     "user": {
      "displayName": "Alexander Syachin",
      "userId": "01407196237518825368"
     }
    },
    "outputId": "9c10c915-936d-44e6-ca95-21929999fbb5"
   },
   "execution_count": 12,
   "outputs": [
    {
     "data": {
      "text/plain": "view           2664218\naddtocart        68966\ntransaction      22457\nName: event, dtype: int64"
     },
     "execution_count": 12,
     "metadata": {},
     "output_type": "execute_result"
    }
   ]
  },
  {
   "cell_type": "code",
   "source": [
    "events['event'] = events.event.replace('view', 'viewed')#avoid to call standard view() function"
   ],
   "metadata": {
    "id": "a3e_FuIJYnEb",
    "executionInfo": {
     "status": "ok",
     "timestamp": 1666718615498,
     "user_tz": -120,
     "elapsed": 358,
     "user": {
      "displayName": "Alexander Syachin",
      "userId": "01407196237518825368"
     }
    }
   },
   "execution_count": 13,
   "outputs": []
  },
  {
   "cell_type": "code",
   "source": [
    "#grouped events by items\n",
    "grouped_events_items = events.groupby('event')['itemid'].apply(list)\n",
    "grouped_events_items"
   ],
   "metadata": {
    "colab": {
     "base_uri": "https://localhost:8080/"
    },
    "id": "2s65CFqhYxVU",
    "executionInfo": {
     "status": "ok",
     "timestamp": 1666718616001,
     "user_tz": -120,
     "elapsed": 505,
     "user": {
      "displayName": "Alexander Syachin",
      "userId": "01407196237518825368"
     }
    },
    "outputId": "3e046ad7-cc6f-4399-8d2c-8085939e5ef5"
   },
   "execution_count": 14,
   "outputs": [
    {
     "data": {
      "text/plain": "event\naddtocart      [5206, 10572, 255275, 356475, 312728, 63312, 1...\ntransaction    [356475, 15335, 81345, 150318, 310791, 54058, ...\nviewed         [355908, 248676, 318965, 253185, 367447, 22556...\nName: itemid, dtype: object"
     },
     "execution_count": 14,
     "metadata": {},
     "output_type": "execute_result"
    }
   ]
  },
  {
   "cell_type": "code",
   "source": [
    "import collections\n",
    "\n",
    "# most viewed, most added to basket, most bought items. Top 10 Items in each cat.\n",
    "most_viewed = dict(collections.Counter(grouped_events_items.viewed).most_common()[:10])\n",
    "most_added = dict(collections.Counter(grouped_events_items.addtocart).most_common()[:10])\n",
    "most_bought = dict(collections.Counter(grouped_events_items.transaction).most_common()[:10])"
   ],
   "metadata": {
    "id": "XaAqQ3hlY-yD",
    "executionInfo": {
     "status": "ok",
     "timestamp": 1666718616990,
     "user_tz": -120,
     "elapsed": 992,
     "user": {
      "displayName": "Alexander Syachin",
      "userId": "01407196237518825368"
     }
    }
   },
   "execution_count": 15,
   "outputs": []
  },
  {
   "cell_type": "code",
   "source": [
    "def top_10_plot(dct):\n",
    "  items = list(dct.keys())\n",
    "  values = list(dct.values())\n",
    "  plt.figure(figsize=(8, 5))\n",
    "  plt.bar(range(len(dct)),values,tick_label=items)\n",
    "  display(dct)"
   ],
   "metadata": {
    "id": "5bY42JmA3_F-",
    "executionInfo": {
     "status": "ok",
     "timestamp": 1666718616991,
     "user_tz": -120,
     "elapsed": 7,
     "user": {
      "displayName": "Alexander Syachin",
      "userId": "01407196237518825368"
     }
    }
   },
   "execution_count": 16,
   "outputs": []
  },
  {
   "cell_type": "code",
   "source": [
    "top_10_plot(most_viewed)"
   ],
   "metadata": {
    "colab": {
     "base_uri": "https://localhost:8080/",
     "height": 494
    },
    "id": "iQugGleW4Cio",
    "executionInfo": {
     "status": "ok",
     "timestamp": 1666718617385,
     "user_tz": -120,
     "elapsed": 400,
     "user": {
      "displayName": "Alexander Syachin",
      "userId": "01407196237518825368"
     }
    },
    "outputId": "51cf5e94-1b61-4e7f-be4e-7b505765943b"
   },
   "execution_count": 17,
   "outputs": [
    {
     "data": {
      "text/plain": "{187946: 3410,\n 461686: 2538,\n 5411: 2325,\n 370653: 1854,\n 219512: 1740,\n 298009: 1642,\n 96924: 1633,\n 309778: 1565,\n 257040: 1531,\n 384302: 1528}"
     },
     "metadata": {},
     "output_type": "display_data"
    },
    {
     "data": {
      "text/plain": "<Figure size 800x500 with 1 Axes>",
      "image/png": "[encoded data removed]"
     },
     "metadata": {},
     "output_type": "display_data"
    }
   ]
  },
  {
   "cell_type": "code",
   "source": [
    "top_10_plot(most_added)"
   ],
   "metadata": {
    "colab": {
     "base_uri": "https://localhost:8080/",
     "height": 494
    },
    "id": "bJl2fdcVZ-u4",
    "executionInfo": {
     "status": "ok",
     "timestamp": 1666718617386,
     "user_tz": -120,
     "elapsed": 8,
     "user": {
      "displayName": "Alexander Syachin",
      "userId": "01407196237518825368"
     }
    },
    "outputId": "565e42ff-5804-4d7c-b90c-a1e3cb52df05"
   },
   "execution_count": 18,
   "outputs": [
    {
     "data": {
      "text/plain": "{461686: 304,\n 312728: 161,\n 409804: 152,\n 320130: 141,\n 29196: 135,\n 7943: 97,\n 48030: 95,\n 441852: 90,\n 445351: 89,\n 257040: 89}"
     },
     "metadata": {},
     "output_type": "display_data"
    },
    {
     "data": {
      "text/plain": "<Figure size 800x500 with 1 Axes>",
      "image/png": "[encoded data removed]"
     },
     "metadata": {},
     "output_type": "display_data"
    }
   ]
  },
  {
   "cell_type": "code",
   "source": [
    "top_10_plot(most_bought)"
   ],
   "metadata": {
    "colab": {
     "base_uri": "https://localhost:8080/",
     "height": 494
    },
    "id": "_dHWSIxraFAt",
    "executionInfo": {
     "status": "ok",
     "timestamp": 1666718617612,
     "user_tz": -120,
     "elapsed": 233,
     "user": {
      "displayName": "Alexander Syachin",
      "userId": "01407196237518825368"
     }
    },
    "outputId": "4e2e3036-90cd-4e28-f583-83c7ee3c2b1e"
   },
   "execution_count": 19,
   "outputs": [
    {
     "data": {
      "text/plain": "{461686: 133,\n 119736: 97,\n 213834: 92,\n 7943: 46,\n 312728: 46,\n 445351: 45,\n 48030: 41,\n 420960: 38,\n 248455: 38,\n 17478: 37}"
     },
     "metadata": {},
     "output_type": "display_data"
    },
    {
     "data": {
      "text/plain": "<Figure size 800x500 with 1 Axes>",
      "image/png": "[encoded data removed]"
     },
     "metadata": {},
     "output_type": "display_data"
    }
   ]
  },
  {
   "cell_type": "code",
   "source": [
    "# Top 10 items\n",
    "events.itemid.value_counts()[:10]"
   ],
   "metadata": {
    "colab": {
     "base_uri": "https://localhost:8080/"
    },
    "id": "xa_snFcMUbWE",
    "executionInfo": {
     "status": "ok",
     "timestamp": 1666718617612,
     "user_tz": -120,
     "elapsed": 6,
     "user": {
      "displayName": "Alexander Syachin",
      "userId": "01407196237518825368"
     }
    },
    "outputId": "59650652-f5b0-4fe5-b947-4941029c40c6"
   },
   "execution_count": 20,
   "outputs": [
    {
     "name": "stderr",
     "output_type": "stream",
     "text": [
      "/tmp/ipykernel_28619/790002701.py:2: FutureWarning: The behavior of `series[i:j]` with an integer-dtype index is deprecated. In a future version, this will be treated as *label-based* indexing, consistent with e.g. `series[i]` lookups. To retain the old behavior, use `series.iloc[i:j]`. To get the future behavior, use `series.loc[i:j]`.\n",
      "  events.itemid.value_counts()[:10]\n"
     ]
    },
    {
     "data": {
      "text/plain": "187946    3412\n461686    2975\n5411      2334\n370653    1854\n219512    1800\n257040    1647\n298009    1642\n96924     1633\n309778    1628\n384302    1608\nName: itemid, dtype: int64"
     },
     "execution_count": 20,
     "metadata": {},
     "output_type": "execute_result"
    }
   ]
  },
  {
   "cell_type": "code",
   "source": [
    "events.itemid.hist()"
   ],
   "metadata": {
    "colab": {
     "base_uri": "https://localhost:8080/",
     "height": 285
    },
    "id": "ETIGgm5X4w5y",
    "executionInfo": {
     "status": "ok",
     "timestamp": 1666718618175,
     "user_tz": -120,
     "elapsed": 567,
     "user": {
      "displayName": "Alexander Syachin",
      "userId": "01407196237518825368"
     }
    },
    "outputId": "4ba44d8e-ec90-481a-c842-8adeb69b8064"
   },
   "execution_count": 21,
   "outputs": [
    {
     "data": {
      "text/plain": "<AxesSubplot: >"
     },
     "execution_count": 21,
     "metadata": {},
     "output_type": "execute_result"
    },
    {
     "data": {
      "text/plain": "<Figure size 640x480 with 1 Axes>",
      "image/png": "[encoded data removed]"
     },
     "metadata": {},
     "output_type": "display_data"
    }
   ]
  },
  {
   "cell_type": "code",
   "source": [
    "len(events.transactionid)"
   ],
   "metadata": {
    "colab": {
     "base_uri": "https://localhost:8080/"
    },
    "id": "oPDOHeaRWSnd",
    "executionInfo": {
     "status": "ok",
     "timestamp": 1666718618175,
     "user_tz": -120,
     "elapsed": 7,
     "user": {
      "displayName": "Alexander Syachin",
      "userId": "01407196237518825368"
     }
    },
    "outputId": "a77264f0-0e4a-4093-d20b-91ddd4691a1a"
   },
   "execution_count": 22,
   "outputs": [
    {
     "data": {
      "text/plain": "2755641"
     },
     "execution_count": 22,
     "metadata": {},
     "output_type": "execute_result"
    }
   ]
  },
  {
   "cell_type": "code",
   "source": [
    "bought_items = events.loc[events.event == 'transaction']\n",
    "bought_items.head(3)"
   ],
   "metadata": {
    "colab": {
     "base_uri": "https://localhost:8080/",
     "height": 143
    },
    "id": "VyQSY7MQadAL",
    "executionInfo": {
     "status": "ok",
     "timestamp": 1666718618583,
     "user_tz": -120,
     "elapsed": 13,
     "user": {
      "displayName": "Alexander Syachin",
      "userId": "01407196237518825368"
     }
    },
    "outputId": "16094b40-d843-4ab4-f2cd-4a30b460852c"
   },
   "execution_count": 23,
   "outputs": [
    {
     "data": {
      "text/plain": "     visitorid        event  itemid  transactionid                datetime\n130     599528  transaction  356475         4000.0 2015-06-02 05:17:56.276\n304     121688  transaction   15335        11117.0 2015-06-01 21:18:20.981\n418     552148  transaction   81345         5444.0 2015-06-01 21:25:15.008",
      "text/html": "<div>\n<style scoped>\n    .dataframe tbody tr th:only-of-type {\n        vertical-align: middle;\n    }\n\n    .dataframe tbody tr th {\n        vertical-align: top;\n    }\n\n    .dataframe thead th {\n        text-align: right;\n    }\n</style>\n<table border=\"1\" class=\"dataframe\">\n  <thead>\n    <tr style=\"text-align: right;\">\n      <th></th>\n      <th>visitorid</th>\n      <th>event</th>\n      <th>itemid</th>\n      <th>transactionid</th>\n      <th>datetime</th>\n    </tr>\n  </thead>\n  <tbody>\n    <tr>\n      <th>130</th>\n      <td>599528</td>\n      <td>transaction</td>\n      <td>356475</td>\n      <td>4000.0</td>\n      <td>2015-06-02 05:17:56.276</td>\n    </tr>\n    <tr>\n      <th>304</th>\n      <td>121688</td>\n      <td>transaction</td>\n      <td>15335</td>\n      <td>11117.0</td>\n      <td>2015-06-01 21:18:20.981</td>\n    </tr>\n    <tr>\n      <th>418</th>\n      <td>552148</td>\n      <td>transaction</td>\n      <td>81345</td>\n      <td>5444.0</td>\n      <td>2015-06-01 21:25:15.008</td>\n    </tr>\n  </tbody>\n</table>\n</div>"
     },
     "execution_count": 23,
     "metadata": {},
     "output_type": "execute_result"
    }
   ]
  },
  {
   "cell_type": "code",
   "source": [
    "#Number of unique items (count unique itemid)\n",
    "events[\"itemid\"].unique().shape"
   ],
   "metadata": {
    "colab": {
     "base_uri": "https://localhost:8080/"
    },
    "id": "HRLwQ28vpv4P",
    "executionInfo": {
     "status": "ok",
     "timestamp": 1666718618584,
     "user_tz": -120,
     "elapsed": 12,
     "user": {
      "displayName": "Alexander Syachin",
      "userId": "01407196237518825368"
     }
    },
    "outputId": "7d4ff9bd-0439-4757-ce97-485852bb42db"
   },
   "execution_count": 24,
   "outputs": [
    {
     "data": {
      "text/plain": "(235061,)"
     },
     "execution_count": 24,
     "metadata": {},
     "output_type": "execute_result"
    }
   ]
  },
  {
   "cell_type": "code",
   "source": [
    "events.transactionid.fillna('0', inplace = True)"
   ],
   "metadata": {
    "id": "K-z9dsoey7W3",
    "executionInfo": {
     "status": "ok",
     "timestamp": 1666718618584,
     "user_tz": -120,
     "elapsed": 9,
     "user": {
      "displayName": "Alexander Syachin",
      "userId": "01407196237518825368"
     }
    }
   },
   "execution_count": 25,
   "outputs": []
  },
  {
   "cell_type": "markdown",
   "source": [
    "### category_tree"
   ],
   "metadata": {
    "id": "k4PH3hKhwhh7"
   }
  },
  {
   "cell_type": "code",
   "source": [
    "files_info(category_tree)"
   ],
   "metadata": {
    "colab": {
     "base_uri": "https://localhost:8080/",
     "height": 482
    },
    "id": "DF2LyYJja_PU",
    "executionInfo": {
     "status": "ok",
     "timestamp": 1666718618813,
     "user_tz": -120,
     "elapsed": 237,
     "user": {
      "displayName": "Alexander Syachin",
      "userId": "01407196237518825368"
     }
    },
    "outputId": "93c4b58d-abed-451b-ec50-b7d754fd6a67"
   },
   "execution_count": 26,
   "outputs": [
    {
     "name": "stdout",
     "output_type": "stream",
     "text": [
      " category_tree contains 1669 entries\n"
     ]
    },
    {
     "data": {
      "text/plain": "   categoryid  parentid\n0        1016     213.0\n1         809     169.0\n2         570       9.0",
      "text/html": "<div>\n<style scoped>\n    .dataframe tbody tr th:only-of-type {\n        vertical-align: middle;\n    }\n\n    .dataframe tbody tr th {\n        vertical-align: top;\n    }\n\n    .dataframe thead th {\n        text-align: right;\n    }\n</style>\n<table border=\"1\" class=\"dataframe\">\n  <thead>\n    <tr style=\"text-align: right;\">\n      <th></th>\n      <th>categoryid</th>\n      <th>parentid</th>\n    </tr>\n  </thead>\n  <tbody>\n    <tr>\n      <th>0</th>\n      <td>1016</td>\n      <td>213.0</td>\n    </tr>\n    <tr>\n      <th>1</th>\n      <td>809</td>\n      <td>169.0</td>\n    </tr>\n    <tr>\n      <th>2</th>\n      <td>570</td>\n      <td>9.0</td>\n    </tr>\n  </tbody>\n</table>\n</div>"
     },
     "metadata": {},
     "output_type": "display_data"
    },
    {
     "name": "stdout",
     "output_type": "stream",
     "text": [
      "<class 'pandas.core.frame.DataFrame'>\n",
      "RangeIndex: 1669 entries, 0 to 1668\n",
      "Data columns (total 2 columns):\n",
      " #   Column      Non-Null Count  Dtype  \n",
      "---  ------      --------------  -----  \n",
      " 0   categoryid  1669 non-null   int64  \n",
      " 1   parentid    1644 non-null   float64\n",
      "dtypes: float64(1), int64(1)\n",
      "memory usage: 26.2 KB\n"
     ]
    },
    {
     "data": {
      "text/plain": "None"
     },
     "metadata": {},
     "output_type": "display_data"
    },
    {
     "data": {
      "text/plain": "categoryid     0\nparentid      25\ndtype: int64"
     },
     "metadata": {},
     "output_type": "display_data"
    },
    {
     "data": {
      "text/plain": "             count        mean         std  min    25%    50%     75%     max\ncategoryid  1669.0  849.285201  490.195116  0.0  427.0  848.0  1273.0  1698.0\nparentid    1644.0  847.571168  505.058485  8.0  381.0  866.0  1291.0  1698.0",
      "text/html": "<div>\n<style scoped>\n    .dataframe tbody tr th:only-of-type {\n        vertical-align: middle;\n    }\n\n    .dataframe tbody tr th {\n        vertical-align: top;\n    }\n\n    .dataframe thead th {\n        text-align: right;\n    }\n</style>\n<table border=\"1\" class=\"dataframe\">\n  <thead>\n    <tr style=\"text-align: right;\">\n      <th></th>\n      <th>count</th>\n      <th>mean</th>\n      <th>std</th>\n      <th>min</th>\n      <th>25%</th>\n      <th>50%</th>\n      <th>75%</th>\n      <th>max</th>\n    </tr>\n  </thead>\n  <tbody>\n    <tr>\n      <th>categoryid</th>\n      <td>1669.0</td>\n      <td>849.285201</td>\n      <td>490.195116</td>\n      <td>0.0</td>\n      <td>427.0</td>\n      <td>848.0</td>\n      <td>1273.0</td>\n      <td>1698.0</td>\n    </tr>\n    <tr>\n      <th>parentid</th>\n      <td>1644.0</td>\n      <td>847.571168</td>\n      <td>505.058485</td>\n      <td>8.0</td>\n      <td>381.0</td>\n      <td>866.0</td>\n      <td>1291.0</td>\n      <td>1698.0</td>\n    </tr>\n  </tbody>\n</table>\n</div>"
     },
     "metadata": {},
     "output_type": "display_data"
    }
   ]
  },
  {
   "cell_type": "markdown",
   "source": [
    "### item_properties"
   ],
   "metadata": {
    "id": "a12_0VFfwnxk"
   }
  },
  {
   "cell_type": "code",
   "source": [
    "files_info(item_properties)"
   ],
   "metadata": {
    "colab": {
     "base_uri": "https://localhost:8080/",
     "height": 551
    },
    "id": "5yPype39cyMr",
    "executionInfo": {
     "status": "ok",
     "timestamp": 1666718622663,
     "user_tz": -120,
     "elapsed": 3858,
     "user": {
      "displayName": "Alexander Syachin",
      "userId": "01407196237518825368"
     }
    },
    "outputId": "02927cbe-090b-4c67-d859-ac7a74921d6b"
   },
   "execution_count": 27,
   "outputs": [
    {
     "name": "stdout",
     "output_type": "stream",
     "text": [
      " item_properties contains 20275902 entries\n"
     ]
    },
    {
     "data": {
      "text/plain": "       timestamp  itemid    property                            value\n0  1435460400000  460429  categoryid                             1338\n1  1441508400000  206783         888          1116713 960601 n277.200\n2  1439089200000  395014         400  n552.000 639502 n720.000 424566",
      "text/html": "<div>\n<style scoped>\n    .dataframe tbody tr th:only-of-type {\n        vertical-align: middle;\n    }\n\n    .dataframe tbody tr th {\n        vertical-align: top;\n    }\n\n    .dataframe thead th {\n        text-align: right;\n    }\n</style>\n<table border=\"1\" class=\"dataframe\">\n  <thead>\n    <tr style=\"text-align: right;\">\n      <th></th>\n      <th>timestamp</th>\n      <th>itemid</th>\n      <th>property</th>\n      <th>value</th>\n    </tr>\n  </thead>\n  <tbody>\n    <tr>\n      <th>0</th>\n      <td>1435460400000</td>\n      <td>460429</td>\n      <td>categoryid</td>\n      <td>1338</td>\n    </tr>\n    <tr>\n      <th>1</th>\n      <td>1441508400000</td>\n      <td>206783</td>\n      <td>888</td>\n      <td>1116713 960601 n277.200</td>\n    </tr>\n    <tr>\n      <th>2</th>\n      <td>1439089200000</td>\n      <td>395014</td>\n      <td>400</td>\n      <td>n552.000 639502 n720.000 424566</td>\n    </tr>\n  </tbody>\n</table>\n</div>"
     },
     "metadata": {},
     "output_type": "display_data"
    },
    {
     "name": "stdout",
     "output_type": "stream",
     "text": [
      "<class 'pandas.core.frame.DataFrame'>\n",
      "RangeIndex: 20275902 entries, 0 to 20275901\n",
      "Data columns (total 4 columns):\n",
      " #   Column     Dtype \n",
      "---  ------     ----- \n",
      " 0   timestamp  int64 \n",
      " 1   itemid     int64 \n",
      " 2   property   object\n",
      " 3   value      object\n",
      "dtypes: int64(2), object(2)\n",
      "memory usage: 618.8+ MB\n"
     ]
    },
    {
     "data": {
      "text/plain": "None"
     },
     "metadata": {},
     "output_type": "display_data"
    },
    {
     "data": {
      "text/plain": "timestamp    0\nitemid       0\nproperty     0\nvalue        0\ndtype: int64"
     },
     "metadata": {},
     "output_type": "display_data"
    },
    {
     "data": {
      "text/plain": "                count          mean           std           min           25%  \\\ntimestamp  20275902.0  1.435157e+12  3.327798e+09  1.431227e+12  1.432436e+12   \nitemid     20275902.0  2.333904e+05  1.348452e+05  0.000000e+00  1.165160e+05   \n\n                    50%           75%           max  \ntimestamp  1.433646e+12  1.437880e+12  1.442113e+12  \nitemid     2.334830e+05  3.503040e+05  4.668660e+05  ",
      "text/html": "<div>\n<style scoped>\n    .dataframe tbody tr th:only-of-type {\n        vertical-align: middle;\n    }\n\n    .dataframe tbody tr th {\n        vertical-align: top;\n    }\n\n    .dataframe thead th {\n        text-align: right;\n    }\n</style>\n<table border=\"1\" class=\"dataframe\">\n  <thead>\n    <tr style=\"text-align: right;\">\n      <th></th>\n      <th>count</th>\n      <th>mean</th>\n      <th>std</th>\n      <th>min</th>\n      <th>25%</th>\n      <th>50%</th>\n      <th>75%</th>\n      <th>max</th>\n    </tr>\n  </thead>\n  <tbody>\n    <tr>\n      <th>timestamp</th>\n      <td>20275902.0</td>\n      <td>1.435157e+12</td>\n      <td>3.327798e+09</td>\n      <td>1.431227e+12</td>\n      <td>1.432436e+12</td>\n      <td>1.433646e+12</td>\n      <td>1.437880e+12</td>\n      <td>1.442113e+12</td>\n    </tr>\n    <tr>\n      <th>itemid</th>\n      <td>20275902.0</td>\n      <td>2.333904e+05</td>\n      <td>1.348452e+05</td>\n      <td>0.000000e+00</td>\n      <td>1.165160e+05</td>\n      <td>2.334830e+05</td>\n      <td>3.503040e+05</td>\n      <td>4.668660e+05</td>\n    </tr>\n  </tbody>\n</table>\n</div>"
     },
     "metadata": {},
     "output_type": "display_data"
    }
   ]
  },
  {
   "cell_type": "code",
   "source": [
    "item_properties.duplicated(['itemid', 'property']).sum()# check the duplicates"
   ],
   "metadata": {
    "colab": {
     "base_uri": "https://localhost:8080/"
    },
    "id": "cKaVs8SrdIUD",
    "executionInfo": {
     "status": "ok",
     "timestamp": 1666718627627,
     "user_tz": -120,
     "elapsed": 4968,
     "user": {
      "displayName": "Alexander Syachin",
      "userId": "01407196237518825368"
     }
    },
    "outputId": "0901aab7-d5bc-423b-bed5-689e8c3ecd1a"
   },
   "execution_count": 28,
   "outputs": [
    {
     "data": {
      "text/plain": "8272088"
     },
     "execution_count": 28,
     "metadata": {},
     "output_type": "execute_result"
    }
   ]
  },
  {
   "cell_type": "code",
   "source": [
    "item_properties = item_properties.loc[~item_properties.duplicated(['itemid', 'property'])]# drop the duplicates"
   ],
   "metadata": {
    "id": "PPmRMLKLdPDj",
    "executionInfo": {
     "status": "ok",
     "timestamp": 1666718633357,
     "user_tz": -120,
     "elapsed": 5733,
     "user": {
      "displayName": "Alexander Syachin",
      "userId": "01407196237518825368"
     }
    }
   },
   "execution_count": 29,
   "outputs": []
  },
  {
   "cell_type": "code",
   "source": [
    "item_properties.drop(['timestamp', 'value'], axis=1, inplace=True) #drop useless features\n",
    "#item_properties.set_index(\"itemid\", inplace = True)"
   ],
   "metadata": {
    "id": "vZzhNtWXdwkz",
    "executionInfo": {
     "status": "ok",
     "timestamp": 1666718633779,
     "user_tz": -120,
     "elapsed": 440,
     "user": {
      "displayName": "Alexander Syachin",
      "userId": "01407196237518825368"
     }
    }
   },
   "execution_count": 30,
   "outputs": []
  },
  {
   "cell_type": "code",
   "source": [
    "item_properties.head(3)"
   ],
   "metadata": {
    "colab": {
     "base_uri": "https://localhost:8080/",
     "height": 143
    },
    "id": "WoVclMdVd0JD",
    "executionInfo": {
     "status": "ok",
     "timestamp": 1666718633780,
     "user_tz": -120,
     "elapsed": 7,
     "user": {
      "displayName": "Alexander Syachin",
      "userId": "01407196237518825368"
     }
    },
    "outputId": "6ea9b02c-8388-4f18-f09b-c9cbb1182408"
   },
   "execution_count": 31,
   "outputs": [
    {
     "data": {
      "text/plain": "   itemid    property\n0  460429  categoryid\n1  206783         888\n2  395014         400",
      "text/html": "<div>\n<style scoped>\n    .dataframe tbody tr th:only-of-type {\n        vertical-align: middle;\n    }\n\n    .dataframe tbody tr th {\n        vertical-align: top;\n    }\n\n    .dataframe thead th {\n        text-align: right;\n    }\n</style>\n<table border=\"1\" class=\"dataframe\">\n  <thead>\n    <tr style=\"text-align: right;\">\n      <th></th>\n      <th>itemid</th>\n      <th>property</th>\n    </tr>\n  </thead>\n  <tbody>\n    <tr>\n      <th>0</th>\n      <td>460429</td>\n      <td>categoryid</td>\n    </tr>\n    <tr>\n      <th>1</th>\n      <td>206783</td>\n      <td>888</td>\n    </tr>\n    <tr>\n      <th>2</th>\n      <td>395014</td>\n      <td>400</td>\n    </tr>\n  </tbody>\n</table>\n</div>"
     },
     "execution_count": 31,
     "metadata": {},
     "output_type": "execute_result"
    }
   ]
  },
  {
   "cell_type": "code",
   "source": [
    "top_properties = item_properties.drop_duplicates(['itemid', 'property']).groupby(\"property\")['itemid'].count().sort_values(ascending=False)[:20]\n",
    "top_20_properties = item_properties.loc[item_properties['property'].isin(set(top_properties.index))]\n",
    "top_20_properties"
   ],
   "metadata": {
    "colab": {
     "base_uri": "https://localhost:8080/",
     "height": 424
    },
    "id": "OmYABRGaj4HR",
    "executionInfo": {
     "status": "ok",
     "timestamp": 1666718639023,
     "user_tz": -120,
     "elapsed": 5248,
     "user": {
      "displayName": "Alexander Syachin",
      "userId": "01407196237518825368"
     }
    },
    "outputId": "a0eba304-f336-4974-d87e-311ac0010378"
   },
   "execution_count": 32,
   "outputs": [
    {
     "data": {
      "text/plain": "          itemid    property\n0         460429  categoryid\n1         206783         888\n3          59481         790\n4         156781         917\n5         285026   available\n...          ...         ...\n20275881  167555         112\n20275887  192184         112\n20275889  356167   available\n20275893   58255         917\n20275898  455746           6\n\n[7348579 rows x 2 columns]",
      "text/html": "<div>\n<style scoped>\n    .dataframe tbody tr th:only-of-type {\n        vertical-align: middle;\n    }\n\n    .dataframe tbody tr th {\n        vertical-align: top;\n    }\n\n    .dataframe thead th {\n        text-align: right;\n    }\n</style>\n<table border=\"1\" class=\"dataframe\">\n  <thead>\n    <tr style=\"text-align: right;\">\n      <th></th>\n      <th>itemid</th>\n      <th>property</th>\n    </tr>\n  </thead>\n  <tbody>\n    <tr>\n      <th>0</th>\n      <td>460429</td>\n      <td>categoryid</td>\n    </tr>\n    <tr>\n      <th>1</th>\n      <td>206783</td>\n      <td>888</td>\n    </tr>\n    <tr>\n      <th>3</th>\n      <td>59481</td>\n      <td>790</td>\n    </tr>\n    <tr>\n      <th>4</th>\n      <td>156781</td>\n      <td>917</td>\n    </tr>\n    <tr>\n      <th>5</th>\n      <td>285026</td>\n      <td>available</td>\n    </tr>\n    <tr>\n      <th>...</th>\n      <td>...</td>\n      <td>...</td>\n    </tr>\n    <tr>\n      <th>20275881</th>\n      <td>167555</td>\n      <td>112</td>\n    </tr>\n    <tr>\n      <th>20275887</th>\n      <td>192184</td>\n      <td>112</td>\n    </tr>\n    <tr>\n      <th>20275889</th>\n      <td>356167</td>\n      <td>available</td>\n    </tr>\n    <tr>\n      <th>20275893</th>\n      <td>58255</td>\n      <td>917</td>\n    </tr>\n    <tr>\n      <th>20275898</th>\n      <td>455746</td>\n      <td>6</td>\n    </tr>\n  </tbody>\n</table>\n<p>7348579 rows × 2 columns</p>\n</div>"
     },
     "execution_count": 32,
     "metadata": {},
     "output_type": "execute_result"
    }
   ]
  },
  {
   "cell_type": "code",
   "source": [
    "df = events.copy()"
   ],
   "metadata": {
    "id": "tBHFECycrqQ1",
    "executionInfo": {
     "status": "ok",
     "timestamp": 1666718639024,
     "user_tz": -120,
     "elapsed": 8,
     "user": {
      "displayName": "Alexander Syachin",
      "userId": "01407196237518825368"
     }
    }
   },
   "execution_count": 33,
   "outputs": []
  },
  {
   "cell_type": "markdown",
   "source": [
    "# 3. Data processing"
   ],
   "metadata": {
    "id": "IU9whRl3mhR6"
   }
  },
  {
   "cell_type": "markdown",
   "source": [
    "###  Features generation"
   ],
   "metadata": {
    "id": "RDEP5it-g9yG"
   }
  },
  {
   "cell_type": "code",
   "source": [
    "df.head(3)"
   ],
   "metadata": {
    "colab": {
     "base_uri": "https://localhost:8080/",
     "height": 143
    },
    "id": "Ftg99LOfhLCS",
    "executionInfo": {
     "status": "ok",
     "timestamp": 1666718639025,
     "user_tz": -120,
     "elapsed": 8,
     "user": {
      "displayName": "Alexander Syachin",
      "userId": "01407196237518825368"
     }
    },
    "outputId": "a5480c6e-a242-4b95-dedf-48ae4693fb05"
   },
   "execution_count": 34,
   "outputs": [
    {
     "data": {
      "text/plain": "   visitorid   event  itemid transactionid                datetime\n0     257597  viewed  355908             0 2015-06-02 05:02:12.117\n1     992329  viewed  248676             0 2015-06-02 05:50:14.164\n2     111016  viewed  318965             0 2015-06-02 05:13:19.827",
      "text/html": "<div>\n<style scoped>\n    .dataframe tbody tr th:only-of-type {\n        vertical-align: middle;\n    }\n\n    .dataframe tbody tr th {\n        vertical-align: top;\n    }\n\n    .dataframe thead th {\n        text-align: right;\n    }\n</style>\n<table border=\"1\" class=\"dataframe\">\n  <thead>\n    <tr style=\"text-align: right;\">\n      <th></th>\n      <th>visitorid</th>\n      <th>event</th>\n      <th>itemid</th>\n      <th>transactionid</th>\n      <th>datetime</th>\n    </tr>\n  </thead>\n  <tbody>\n    <tr>\n      <th>0</th>\n      <td>257597</td>\n      <td>viewed</td>\n      <td>355908</td>\n      <td>0</td>\n      <td>2015-06-02 05:02:12.117</td>\n    </tr>\n    <tr>\n      <th>1</th>\n      <td>992329</td>\n      <td>viewed</td>\n      <td>248676</td>\n      <td>0</td>\n      <td>2015-06-02 05:50:14.164</td>\n    </tr>\n    <tr>\n      <th>2</th>\n      <td>111016</td>\n      <td>viewed</td>\n      <td>318965</td>\n      <td>0</td>\n      <td>2015-06-02 05:13:19.827</td>\n    </tr>\n  </tbody>\n</table>\n</div>"
     },
     "execution_count": 34,
     "metadata": {},
     "output_type": "execute_result"
    }
   ]
  },
  {
   "cell_type": "code",
   "source": [
    "df['day_of_week'] = df['datetime'].map(lambda x: x.weekday())\n",
    "df['year'] = df['datetime'].map(lambda x: x.year)\n",
    "df['month'] = df['datetime'].map(lambda x: x.month)\n",
    "df['day'] = df['datetime'].map(lambda x: x.day)\n",
    "df['hour'] = df['datetime'].map(lambda x: x.hour)\n",
    "df['minute'] = df['datetime'].map(lambda x: x.minute)\n"
   ],
   "metadata": {
    "id": "p_TrPU14hL5q",
    "executionInfo": {
     "status": "ok",
     "timestamp": 1666718712755,
     "user_tz": -120,
     "elapsed": 73736,
     "user": {
      "displayName": "Alexander Syachin",
      "userId": "01407196237518825368"
     }
    }
   },
   "execution_count": 35,
   "outputs": []
  },
  {
   "cell_type": "code",
   "source": [
    "df.sample(5)"
   ],
   "metadata": {
    "colab": {
     "base_uri": "https://localhost:8080/",
     "height": 206
    },
    "id": "7XyTbDC-hmnU",
    "executionInfo": {
     "status": "ok",
     "timestamp": 1666718713086,
     "user_tz": -120,
     "elapsed": 350,
     "user": {
      "displayName": "Alexander Syachin",
      "userId": "01407196237518825368"
     }
    },
    "outputId": "20db792b-012d-42c5-9059-e03fec76f5b6"
   },
   "execution_count": 36,
   "outputs": [
    {
     "data": {
      "text/plain": "         visitorid      event  itemid transactionid                datetime  \\\n2719088    1205525     viewed   84756             0 2015-07-30 11:14:51.028   \n2735871     530559     viewed  379534             0 2015-07-30 20:01:26.399   \n1255317        391     viewed  215051             0 2015-09-06 18:32:43.217   \n2488792     423753     viewed  271872             0 2015-07-20 23:43:29.735   \n477715      836635  addtocart  408218             0 2015-06-24 20:18:35.221   \n\n         day_of_week  year  month  day  hour  minute  \n2719088            3  2015      7   30    11      14  \n2735871            3  2015      7   30    20       1  \n1255317            6  2015      9    6    18      32  \n2488792            0  2015      7   20    23      43  \n477715             2  2015      6   24    20      18  ",
      "text/html": "<div>\n<style scoped>\n    .dataframe tbody tr th:only-of-type {\n        vertical-align: middle;\n    }\n\n    .dataframe tbody tr th {\n        vertical-align: top;\n    }\n\n    .dataframe thead th {\n        text-align: right;\n    }\n</style>\n<table border=\"1\" class=\"dataframe\">\n  <thead>\n    <tr style=\"text-align: right;\">\n      <th></th>\n      <th>visitorid</th>\n      <th>event</th>\n      <th>itemid</th>\n      <th>transactionid</th>\n      <th>datetime</th>\n      <th>day_of_week</th>\n      <th>year</th>\n      <th>month</th>\n      <th>day</th>\n      <th>hour</th>\n      <th>minute</th>\n    </tr>\n  </thead>\n  <tbody>\n    <tr>\n      <th>2719088</th>\n      <td>1205525</td>\n      <td>viewed</td>\n      <td>84756</td>\n      <td>0</td>\n      <td>2015-07-30 11:14:51.028</td>\n      <td>3</td>\n      <td>2015</td>\n      <td>7</td>\n      <td>30</td>\n      <td>11</td>\n      <td>14</td>\n    </tr>\n    <tr>\n      <th>2735871</th>\n      <td>530559</td>\n      <td>viewed</td>\n      <td>379534</td>\n      <td>0</td>\n      <td>2015-07-30 20:01:26.399</td>\n      <td>3</td>\n      <td>2015</td>\n      <td>7</td>\n      <td>30</td>\n      <td>20</td>\n      <td>1</td>\n    </tr>\n    <tr>\n      <th>1255317</th>\n      <td>391</td>\n      <td>viewed</td>\n      <td>215051</td>\n      <td>0</td>\n      <td>2015-09-06 18:32:43.217</td>\n      <td>6</td>\n      <td>2015</td>\n      <td>9</td>\n      <td>6</td>\n      <td>18</td>\n      <td>32</td>\n    </tr>\n    <tr>\n      <th>2488792</th>\n      <td>423753</td>\n      <td>viewed</td>\n      <td>271872</td>\n      <td>0</td>\n      <td>2015-07-20 23:43:29.735</td>\n      <td>0</td>\n      <td>2015</td>\n      <td>7</td>\n      <td>20</td>\n      <td>23</td>\n      <td>43</td>\n    </tr>\n    <tr>\n      <th>477715</th>\n      <td>836635</td>\n      <td>addtocart</td>\n      <td>408218</td>\n      <td>0</td>\n      <td>2015-06-24 20:18:35.221</td>\n      <td>2</td>\n      <td>2015</td>\n      <td>6</td>\n      <td>24</td>\n      <td>20</td>\n      <td>18</td>\n    </tr>\n  </tbody>\n</table>\n</div>"
     },
     "execution_count": 36,
     "metadata": {},
     "output_type": "execute_result"
    }
   ]
  },
  {
   "cell_type": "code",
   "source": [
    "def get_day_part(hour):\n",
    "  \n",
    "    if hour >= 4 and hour < 6:\n",
    "        return 1\n",
    "    elif hour >= 6 and hour < 12:\n",
    "        return 2\n",
    "    elif hour >= 12 and hour < 18:\n",
    "        return 3\n",
    "    elif hour >= 18 and hour < 23:\n",
    "        return 4\n",
    "    else:\n",
    "        return 0\n",
    "\n",
    "\n",
    "df['day_part'] = df['hour'].map(get_day_part)\n",
    "df['day_part'].value_counts()"
   ],
   "metadata": {
    "colab": {
     "base_uri": "https://localhost:8080/"
    },
    "id": "zFWrhCpniP1D",
    "executionInfo": {
     "status": "ok",
     "timestamp": 1666718714537,
     "user_tz": -120,
     "elapsed": 1455,
     "user": {
      "displayName": "Alexander Syachin",
      "userId": "01407196237518825368"
     }
    },
    "outputId": "651967f0-a4a1-4ab8-ac30-8507a7585408"
   },
   "execution_count": 37,
   "outputs": [
    {
     "data": {
      "text/plain": "4    912583\n0    740688\n3    634816\n1    266711\n2    200843\nName: day_part, dtype: int64"
     },
     "execution_count": 37,
     "metadata": {},
     "output_type": "execute_result"
    }
   ]
  },
  {
   "cell_type": "markdown",
   "source": [
    "### Label encoding"
   ],
   "metadata": {
    "id": "kJdYJ3DDxapF"
   }
  },
  {
   "cell_type": "code",
   "source": [
    "df.event.replace('viewed', '1', inplace=True)\n",
    "df.event.replace('addtocart', '2', inplace=True)\n",
    "df.event.replace('transaction', '3', inplace=True)"
   ],
   "metadata": {
    "id": "Nku6cU9o0anP",
    "executionInfo": {
     "status": "ok",
     "timestamp": 1666718732060,
     "user_tz": -120,
     "elapsed": 402,
     "user": {
      "displayName": "Alexander Syachin",
      "userId": "01407196237518825368"
     }
    }
   },
   "execution_count": 38,
   "outputs": []
  },
  {
   "cell_type": "code",
   "execution_count": 39,
   "outputs": [],
   "source": [
    "df = df[['visitorid', 'itemid', 'event']]\n",
    "df.to_csv(PATH + 'events_eda.csv', index=False)"
   ],
   "metadata": {
    "collapsed": false
   }
  },
  {
   "cell_type": "code",
   "execution_count": 40,
   "outputs": [
    {
     "data": {
      "text/plain": "   itemid    property\n0  460429  categoryid\n1  206783         888\n2  395014         400",
      "text/html": "<div>\n<style scoped>\n    .dataframe tbody tr th:only-of-type {\n        vertical-align: middle;\n    }\n\n    .dataframe tbody tr th {\n        vertical-align: top;\n    }\n\n    .dataframe thead th {\n        text-align: right;\n    }\n</style>\n<table border=\"1\" class=\"dataframe\">\n  <thead>\n    <tr style=\"text-align: right;\">\n      <th></th>\n      <th>itemid</th>\n      <th>property</th>\n    </tr>\n  </thead>\n  <tbody>\n    <tr>\n      <th>0</th>\n      <td>460429</td>\n      <td>categoryid</td>\n    </tr>\n    <tr>\n      <th>1</th>\n      <td>206783</td>\n      <td>888</td>\n    </tr>\n    <tr>\n      <th>2</th>\n      <td>395014</td>\n      <td>400</td>\n    </tr>\n  </tbody>\n</table>\n</div>"
     },
     "execution_count": 40,
     "metadata": {},
     "output_type": "execute_result"
    }
   ],
   "source": [
    "item_properties.head(3)"
   ],
   "metadata": {
    "collapsed": false
   }
  },
  {
   "cell_type": "code",
   "execution_count": 41,
   "outputs": [
    {
     "data": {
      "text/plain": "categoryid    417053\navailable     417053\nName: property, dtype: int64"
     },
     "execution_count": 41,
     "metadata": {},
     "output_type": "execute_result"
    }
   ],
   "source": [
    "vals = item_properties[item_properties.property.str.match(r'\\D+')]['property'].value_counts()\n",
    "vals"
   ],
   "metadata": {
    "collapsed": false
   }
  },
  {
   "cell_type": "code",
   "execution_count": 42,
   "outputs": [
    {
     "data": {
      "text/plain": "('categoryid', 'available')"
     },
     "execution_count": 42,
     "metadata": {},
     "output_type": "execute_result"
    }
   ],
   "source": [
    "vals.index[0], vals.index[1]"
   ],
   "metadata": {
    "collapsed": false
   }
  },
  {
   "cell_type": "code",
   "execution_count": 43,
   "outputs": [
    {
     "data": {
      "text/plain": "('31205715182594', '122191212125')"
     },
     "execution_count": 43,
     "metadata": {},
     "output_type": "execute_result"
    }
   ],
   "source": [
    "val_1 = re.sub(r'[A-Za-z]', lambda m: str(ord(m.group().upper())-ord('A') + 1), vals.index[0])\n",
    "val_2 = re.sub(r'[A-Za-z]', lambda m: str(ord(m.group().upper())-ord('A') + 1), vals.index[1])\n",
    "val_1 , val_2"
   ],
   "metadata": {
    "collapsed": false
   }
  },
  {
   "cell_type": "code",
   "execution_count": 44,
   "outputs": [
    {
     "name": "stdout",
     "output_type": "stream",
     "text": [
      "<class 'pandas.core.frame.DataFrame'>\n",
      "Int64Index: 12003814 entries, 0 to 20275900\n",
      "Data columns (total 2 columns):\n",
      " #   Column    Dtype\n",
      "---  ------    -----\n",
      " 0   itemid    int32\n",
      " 1   property  int32\n",
      "dtypes: int32(2)\n",
      "memory usage: 183.2 MB\n"
     ]
    }
   ],
   "source": [
    "item_properties['property'] = item_properties.property.replace('categoryid', val_1)\n",
    "item_properties['property'] = item_properties.property.replace('available', val_2)\n",
    "item_properties = item_properties.astype(np.int32)\n",
    "item_properties.info()"
   ],
   "metadata": {
    "collapsed": false
   }
  },
  {
   "cell_type": "code",
   "execution_count": 45,
   "outputs": [],
   "source": [
    "item_properties.to_csv(PATH + 'item_properties.csv', index=False)"
   ],
   "metadata": {
    "collapsed": false
   }
  },
  {
   "cell_type": "markdown",
   "source": [
    "### Train/Test Split"
   ],
   "metadata": {
    "id": "E9SG5ciSl5mi"
   }
  },
  {
   "cell_type": "code",
   "source": [
    "split_point = '2015-07-01'"
   ],
   "metadata": {
    "id": "GKWhT3p3tCn8",
    "executionInfo": {
     "status": "ok",
     "timestamp": 1666718732060,
     "user_tz": -120,
     "elapsed": 2,
     "user": {
      "displayName": "Alexander Syachin",
      "userId": "01407196237518825368"
     }
    }
   },
   "execution_count": 46,
   "outputs": []
  },
  {
   "cell_type": "code",
   "source": [
    "train = events.loc[events.datetime < split_point]\n",
    "test = events.loc[events.datetime >= split_point]\n"
   ],
   "metadata": {
    "id": "Sw-S5cFvi-tq",
    "executionInfo": {
     "status": "ok",
     "timestamp": 1666718732421,
     "user_tz": -120,
     "elapsed": 362,
     "user": {
      "displayName": "Alexander Syachin",
      "userId": "01407196237518825368"
     }
    }
   },
   "execution_count": 47,
   "outputs": []
  },
  {
   "cell_type": "code",
   "source": [
    "#relative split ratio of train, test\n",
    "len(train)/len(df), len(test)/len(df)"
   ],
   "metadata": {
    "colab": {
     "base_uri": "https://localhost:8080/"
    },
    "id": "_7y9Lw0ftNZS",
    "executionInfo": {
     "status": "ok",
     "timestamp": 1666718732422,
     "user_tz": -120,
     "elapsed": 18,
     "user": {
      "displayName": "Alexander Syachin",
      "userId": "01407196237518825368"
     }
    },
    "outputId": "21abb686-f3d5-4a67-b0f9-6bd4c6362f20"
   },
   "execution_count": 48,
   "outputs": [
    {
     "data": {
      "text/plain": "(0.43579588197446617, 0.5642041180255338)"
     },
     "execution_count": 48,
     "metadata": {},
     "output_type": "execute_result"
    }
   ]
  },
  {
   "cell_type": "code",
   "source": [
    "train.drop('datetime', axis=1, inplace=True)\n",
    "test.drop('datetime', axis=1, inplace=True)"
   ],
   "metadata": {
    "colab": {
     "base_uri": "https://localhost:8080/"
    },
    "id": "d-c9RTCuuhFZ",
    "executionInfo": {
     "status": "ok",
     "timestamp": 1666718732422,
     "user_tz": -120,
     "elapsed": 16,
     "user": {
      "displayName": "Alexander Syachin",
      "userId": "01407196237518825368"
     }
    },
    "outputId": "911212dd-2894-4e2b-ee0d-2e2632e2c92a"
   },
   "execution_count": 49,
   "outputs": [
    {
     "name": "stderr",
     "output_type": "stream",
     "text": [
      "/tmp/ipykernel_28619/1524623034.py:1: SettingWithCopyWarning: \n",
      "A value is trying to be set on a copy of a slice from a DataFrame\n",
      "\n",
      "See the caveats in the documentation: https://pandas.pydata.org/pandas-docs/stable/user_guide/indexing.html#returning-a-view-versus-a-copy\n",
      "  train.drop('datetime', axis=1, inplace=True)\n",
      "/tmp/ipykernel_28619/1524623034.py:2: SettingWithCopyWarning: \n",
      "A value is trying to be set on a copy of a slice from a DataFrame\n",
      "\n",
      "See the caveats in the documentation: https://pandas.pydata.org/pandas-docs/stable/user_guide/indexing.html#returning-a-view-versus-a-copy\n",
      "  test.drop('datetime', axis=1, inplace=True)\n"
     ]
    }
   ]
  },
  {
   "cell_type": "code",
   "source": [
    "train.head(5)"
   ],
   "metadata": {
    "colab": {
     "base_uri": "https://localhost:8080/",
     "height": 206
    },
    "id": "S_cUQXz91RES",
    "executionInfo": {
     "status": "ok",
     "timestamp": 1666718732423,
     "user_tz": -120,
     "elapsed": 13,
     "user": {
      "displayName": "Alexander Syachin",
      "userId": "01407196237518825368"
     }
    },
    "outputId": "c022b31c-c739-4d66-d988-3a50e080d9e7"
   },
   "execution_count": 50,
   "outputs": [
    {
     "data": {
      "text/plain": "   visitorid   event  itemid transactionid\n0     257597  viewed  355908             0\n1     992329  viewed  248676             0\n2     111016  viewed  318965             0\n3     483717  viewed  253185             0\n4     951259  viewed  367447             0",
      "text/html": "<div>\n<style scoped>\n    .dataframe tbody tr th:only-of-type {\n        vertical-align: middle;\n    }\n\n    .dataframe tbody tr th {\n        vertical-align: top;\n    }\n\n    .dataframe thead th {\n        text-align: right;\n    }\n</style>\n<table border=\"1\" class=\"dataframe\">\n  <thead>\n    <tr style=\"text-align: right;\">\n      <th></th>\n      <th>visitorid</th>\n      <th>event</th>\n      <th>itemid</th>\n      <th>transactionid</th>\n    </tr>\n  </thead>\n  <tbody>\n    <tr>\n      <th>0</th>\n      <td>257597</td>\n      <td>viewed</td>\n      <td>355908</td>\n      <td>0</td>\n    </tr>\n    <tr>\n      <th>1</th>\n      <td>992329</td>\n      <td>viewed</td>\n      <td>248676</td>\n      <td>0</td>\n    </tr>\n    <tr>\n      <th>2</th>\n      <td>111016</td>\n      <td>viewed</td>\n      <td>318965</td>\n      <td>0</td>\n    </tr>\n    <tr>\n      <th>3</th>\n      <td>483717</td>\n      <td>viewed</td>\n      <td>253185</td>\n      <td>0</td>\n    </tr>\n    <tr>\n      <th>4</th>\n      <td>951259</td>\n      <td>viewed</td>\n      <td>367447</td>\n      <td>0</td>\n    </tr>\n  </tbody>\n</table>\n</div>"
     },
     "execution_count": 50,
     "metadata": {},
     "output_type": "execute_result"
    }
   ]
  },
  {
   "cell_type": "code",
   "source": [
    "test.head(5)"
   ],
   "metadata": {
    "colab": {
     "base_uri": "https://localhost:8080/",
     "height": 206
    },
    "id": "ZcydwSyf5-nm",
    "executionInfo": {
     "status": "ok",
     "timestamp": 1666718732424,
     "user_tz": -120,
     "elapsed": 13,
     "user": {
      "displayName": "Alexander Syachin",
      "userId": "01407196237518825368"
     }
    },
    "outputId": "f83ef9ee-cd28-49a1-846c-6f7e12330883"
   },
   "execution_count": 51,
   "outputs": [
    {
     "data": {
      "text/plain": "        visitorid   event  itemid transactionid\n589558     457980  viewed  278224             0\n589559     554795  viewed    6605             0\n589560    1291838  viewed  444688             0\n589561     567028  viewed  296749             0\n589562     174978  viewed   99274             0",
      "text/html": "<div>\n<style scoped>\n    .dataframe tbody tr th:only-of-type {\n        vertical-align: middle;\n    }\n\n    .dataframe tbody tr th {\n        vertical-align: top;\n    }\n\n    .dataframe thead th {\n        text-align: right;\n    }\n</style>\n<table border=\"1\" class=\"dataframe\">\n  <thead>\n    <tr style=\"text-align: right;\">\n      <th></th>\n      <th>visitorid</th>\n      <th>event</th>\n      <th>itemid</th>\n      <th>transactionid</th>\n    </tr>\n  </thead>\n  <tbody>\n    <tr>\n      <th>589558</th>\n      <td>457980</td>\n      <td>viewed</td>\n      <td>278224</td>\n      <td>0</td>\n    </tr>\n    <tr>\n      <th>589559</th>\n      <td>554795</td>\n      <td>viewed</td>\n      <td>6605</td>\n      <td>0</td>\n    </tr>\n    <tr>\n      <th>589560</th>\n      <td>1291838</td>\n      <td>viewed</td>\n      <td>444688</td>\n      <td>0</td>\n    </tr>\n    <tr>\n      <th>589561</th>\n      <td>567028</td>\n      <td>viewed</td>\n      <td>296749</td>\n      <td>0</td>\n    </tr>\n    <tr>\n      <th>589562</th>\n      <td>174978</td>\n      <td>viewed</td>\n      <td>99274</td>\n      <td>0</td>\n    </tr>\n  </tbody>\n</table>\n</div>"
     },
     "execution_count": 51,
     "metadata": {},
     "output_type": "execute_result"
    }
   ]
  },
  {
   "cell_type": "code",
   "source": [],
   "metadata": {
    "id": "BG5IdwBt6EQ6",
    "executionInfo": {
     "status": "ok",
     "timestamp": 1666718732425,
     "user_tz": -120,
     "elapsed": 13,
     "user": {
      "displayName": "Alexander Syachin",
      "userId": "01407196237518825368"
     }
    }
   },
   "execution_count": 51,
   "outputs": []
  }
 ],
 "metadata": {
  "colab": {
   "provenance": [],
   "collapsed_sections": []
  },
  "kernelspec": {
   "display_name": "Python 3",
   "language": "python",
   "name": "python3"
  },
  "language_info": {
   "codemirror_mode": {
    "name": "ipython",
    "version": 2
   },
   "file_extension": ".py",
   "mimetype": "text/x-python",
   "name": "python",
   "nbconvert_exporter": "python",
   "pygments_lexer": "ipython2",
   "version": "2.7.6"
  }
 },
 "nbformat": 4,
 "nbformat_minor": 0
}
